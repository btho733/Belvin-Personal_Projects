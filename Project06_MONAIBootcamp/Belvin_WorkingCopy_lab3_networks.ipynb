{
  "nbformat": 4,
  "nbformat_minor": 0,
  "metadata": {
    "accelerator": "GPU",
    "colab": {
      "name": "Copy of lab3_networks.ipynb",
      "provenance": [],
      "collapsed_sections": [],
      "include_colab_link": true
    },
    "kernelspec": {
      "display_name": "Python 3",
      "language": "python",
      "name": "python3"
    },
    "language_info": {
      "codemirror_mode": {
        "name": "ipython",
        "version": 3
      },
      "file_extension": ".py",
      "mimetype": "text/x-python",
      "name": "python",
      "nbconvert_exporter": "python",
      "pygments_lexer": "ipython3",
      "version": "3.8.5"
    }
  },
  "cells": [
    {
      "cell_type": "markdown",
      "metadata": {
        "id": "view-in-github",
        "colab_type": "text"
      },
      "source": [
        "<a href=\"https://colab.research.google.com/github/btho733/Belvin-Personal_Projects/blob/master/Project06_MONAIBootcamp/Belvin_WorkingCopy_lab3_networks.ipynb\" target=\"_parent\"><img src=\"https://colab.research.google.com/assets/colab-badge.svg\" alt=\"Open In Colab\"/></a>"
      ]
    },
    {
      "cell_type": "markdown",
      "metadata": {
        "id": "061VwlZpO9Lq"
      },
      "source": [
        "# Lab 3: Networks\n",
        "---\n",
        "\n",
        "[![Open In Colab](https://colab.research.google.com/assets/colab-badge.svg)](https://colab.research.google.com/github/Project-MONAI/MONAIBootcamp2020/blob/master/day1notebooks/lab3_networks.ipynb)\n",
        "\n",
        "\n",
        "### Overview\n",
        "\n",
        "This notebook introduces you to the MONAI network APIs:\n",
        "- Convolutions\n",
        "- Specifying layers with additional arguments\n",
        "- Flexible definitions of networks"
      ]
    },
    {
      "cell_type": "code",
      "metadata": {
        "id": "d-ZRfzxwyxCL",
        "outputId": "a515ea3f-77c2-44ac-884c-abfd1ef526ab",
        "colab": {
          "base_uri": "https://localhost:8080/",
          "height": 384
        }
      },
      "source": [
        "!nvidia-smi"
      ],
      "execution_count": 1,
      "outputs": [
        {
          "output_type": "stream",
          "text": [
            "Thu Oct  1 15:32:38 2020       \n",
            "+-----------------------------------------------------------------------------+\n",
            "| NVIDIA-SMI 455.23.05    Driver Version: 418.67       CUDA Version: 10.1     |\n",
            "|-------------------------------+----------------------+----------------------+\n",
            "| GPU  Name        Persistence-M| Bus-Id        Disp.A | Volatile Uncorr. ECC |\n",
            "| Fan  Temp  Perf  Pwr:Usage/Cap|         Memory-Usage | GPU-Util  Compute M. |\n",
            "|                               |                      |               MIG M. |\n",
            "|===============================+======================+======================|\n",
            "|   0  Tesla P4            Off  | 00000000:00:04.0 Off |                    0 |\n",
            "| N/A   39C    P8     8W /  75W |      0MiB /  7611MiB |      0%      Default |\n",
            "|                               |                      |                 ERR! |\n",
            "+-------------------------------+----------------------+----------------------+\n",
            "                                                                               \n",
            "+-----------------------------------------------------------------------------+\n",
            "| Processes:                                                                  |\n",
            "|  GPU   GI   CI        PID   Type   Process name                  GPU Memory |\n",
            "|        ID   ID                                                   Usage      |\n",
            "|=============================================================================|\n",
            "|  No running processes found                                                 |\n",
            "+-----------------------------------------------------------------------------+\n"
          ],
          "name": "stdout"
        }
      ]
    },
    {
      "cell_type": "markdown",
      "metadata": {
        "id": "9ERmUzC3O9Lr"
      },
      "source": [
        "## Install MONAI and import dependecies\n",
        "This section installs the latest version of MONAI and validates the install by printing out the configuration.\n",
        "\n",
        "We'll then import our dependencies and MONAI.  "
      ]
    },
    {
      "cell_type": "code",
      "metadata": {
        "id": "PWt0e0QPO9Lr",
        "tags": [],
        "outputId": "7f1c047c-fde9-4a34-a44e-0c032b7df464",
        "colab": {
          "base_uri": "https://localhost:8080/",
          "height": 366
        }
      },
      "source": [
        "!pip install -qU \"monai[torchvision]==0.3.0rc2\"\n",
        "\n",
        "import torch\n",
        "import monai\n",
        "monai.config.print_config()\n",
        "from monai.networks.layers import Conv\n",
        "from monai.networks.layers import Act\n",
        "from monai.networks.layers import split_args\n",
        "from monai.networks.layers import Pool"
      ],
      "execution_count": 2,
      "outputs": [
        {
          "output_type": "stream",
          "text": [
            "\u001b[?25l\r\u001b[K     |█▏                              | 10kB 26.3MB/s eta 0:00:01\r\u001b[K     |██▎                             | 20kB 1.9MB/s eta 0:00:01\r\u001b[K     |███▍                            | 30kB 2.5MB/s eta 0:00:01\r\u001b[K     |████▌                           | 40kB 2.0MB/s eta 0:00:01\r\u001b[K     |█████▋                          | 51kB 2.3MB/s eta 0:00:01\r\u001b[K     |██████▉                         | 61kB 2.7MB/s eta 0:00:01\r\u001b[K     |████████                        | 71kB 3.0MB/s eta 0:00:01\r\u001b[K     |█████████                       | 81kB 3.1MB/s eta 0:00:01\r\u001b[K     |██████████▏                     | 92kB 3.5MB/s eta 0:00:01\r\u001b[K     |███████████▎                    | 102kB 3.3MB/s eta 0:00:01\r\u001b[K     |████████████▍                   | 112kB 3.3MB/s eta 0:00:01\r\u001b[K     |█████████████▋                  | 122kB 3.3MB/s eta 0:00:01\r\u001b[K     |██████████████▊                 | 133kB 3.3MB/s eta 0:00:01\r\u001b[K     |███████████████▉                | 143kB 3.3MB/s eta 0:00:01\r\u001b[K     |█████████████████               | 153kB 3.3MB/s eta 0:00:01\r\u001b[K     |██████████████████              | 163kB 3.3MB/s eta 0:00:01\r\u001b[K     |███████████████████▏            | 174kB 3.3MB/s eta 0:00:01\r\u001b[K     |████████████████████▍           | 184kB 3.3MB/s eta 0:00:01\r\u001b[K     |█████████████████████▌          | 194kB 3.3MB/s eta 0:00:01\r\u001b[K     |██████████████████████▋         | 204kB 3.3MB/s eta 0:00:01\r\u001b[K     |███████████████████████▊        | 215kB 3.3MB/s eta 0:00:01\r\u001b[K     |████████████████████████▉       | 225kB 3.3MB/s eta 0:00:01\r\u001b[K     |██████████████████████████      | 235kB 3.3MB/s eta 0:00:01\r\u001b[K     |███████████████████████████▏    | 245kB 3.3MB/s eta 0:00:01\r\u001b[K     |████████████████████████████▎   | 256kB 3.3MB/s eta 0:00:01\r\u001b[K     |█████████████████████████████▍  | 266kB 3.3MB/s eta 0:00:01\r\u001b[K     |██████████████████████████████▌ | 276kB 3.3MB/s eta 0:00:01\r\u001b[K     |███████████████████████████████▋| 286kB 3.3MB/s eta 0:00:01\r\u001b[K     |████████████████████████████████| 296kB 3.3MB/s \n",
            "\u001b[?25hMONAI version: 0.3.0rc2\n",
            "Python version: 3.6.9 (default, Jul 17 2020, 12:50:27)  [GCC 8.4.0]\n",
            "Numpy version: 1.18.5\n",
            "Pytorch version: 1.6.0+cu101\n",
            "\n",
            "Optional dependencies:\n",
            "Pytorch Ignite version: NOT INSTALLED or UNKNOWN VERSION.\n",
            "Nibabel version: 3.0.2\n",
            "scikit-image version: 0.16.2\n",
            "Pillow version: 7.0.0\n",
            "Tensorboard version: 2.3.0\n",
            "gdown version: 3.6.4\n",
            "TorchVision version: 0.7.0+cu101\n",
            "ITK version: NOT INSTALLED or UNKNOWN VERSION.\n",
            "\n",
            "For details about installing the optional dependencies, please visit:\n",
            "    https://docs.monai.io/en/latest/installation.html#installing-the-recommended-dependencies\n",
            "\n"
          ],
          "name": "stdout"
        }
      ]
    },
    {
      "cell_type": "markdown",
      "metadata": {
        "id": "3RKwDaMQNrQj"
      },
      "source": [
        "## Unifying the network layer APIs\n",
        "\n",
        "Network functionality represents a major design opportunity for MONAI. Pytorch is very much unopinionated in how networks are defined. It provides Module as a base class from which to create a network, and a few methods that must be implemented, but there is no prescribed pattern nor much helper functionality for initializing networks. \n",
        "\n",
        "This leaves a lot of room for defining some useful 'best practice' patterns for constructing new networks in MONAI. Although trivial, inflexible network implementations are easy enough, we can give users a toolset that makes it much easier to build well-engineered, flexible networks, and demonstrate their value by committing to use them in the networks that we build."
      ]
    },
    {
      "cell_type": "markdown",
      "metadata": {
        "id": "lmh9WcfRUd2s"
      },
      "source": [
        "### Convolution as an example\n",
        "\n",
        "We'll start by taking a look at the Convolution `__doc__` string."
      ]
    },
    {
      "cell_type": "code",
      "metadata": {
        "id": "TFgdtWLBPkJC",
        "outputId": "62c092d2-eb48-437c-80e7-441c68dc10e9",
        "colab": {
          "base_uri": "https://localhost:8080/",
          "height": 54
        }
      },
      "source": [
        "print(Conv.__doc__)"
      ],
      "execution_count": 3,
      "outputs": [
        {
          "output_type": "stream",
          "text": [
            "The supported members are: ``CONV``, ``CONVTRANS``.\n",
            "Please see :py:class:`monai.networks.layers.split_args` for additional args parsing.\n"
          ],
          "name": "stdout"
        }
      ]
    },
    {
      "cell_type": "markdown",
      "metadata": {
        "id": "Y3y2qGhgRYXI"
      },
      "source": [
        "The [Conv](https://docs.monai.io/en/latest/networks.html#convolution) class has two options for the first argument. The second argument must be the number of spatial dimensions, `Conv[name, dimension]`, for example:"
      ]
    },
    {
      "cell_type": "code",
      "metadata": {
        "id": "3rZ21AMDRlIP",
        "outputId": "27426f88-8520-4b11-f620-4adc5d1467a4",
        "colab": {
          "base_uri": "https://localhost:8080/",
          "height": 127
        }
      },
      "source": [
        "print(Conv[Conv.CONV, 1])\n",
        "print(Conv[Conv.CONV, 2])\n",
        "print(Conv[Conv.CONV, 3])\n",
        "print(Conv[Conv.CONVTRANS, 1])\n",
        "print(Conv[Conv.CONVTRANS, 2])\n",
        "print(Conv[Conv.CONVTRANS, 3])"
      ],
      "execution_count": 4,
      "outputs": [
        {
          "output_type": "stream",
          "text": [
            "<class 'torch.nn.modules.conv.Conv1d'>\n",
            "<class 'torch.nn.modules.conv.Conv2d'>\n",
            "<class 'torch.nn.modules.conv.Conv3d'>\n",
            "<class 'torch.nn.modules.conv.ConvTranspose1d'>\n",
            "<class 'torch.nn.modules.conv.ConvTranspose2d'>\n",
            "<class 'torch.nn.modules.conv.ConvTranspose3d'>\n"
          ],
          "name": "stdout"
        }
      ]
    },
    {
      "cell_type": "markdown",
      "metadata": {
        "id": "EPAuW45_TKBR"
      },
      "source": [
        "The configured classes are the \"vanilla\" PyTorch layers. We could create instances of them by specifying the layer arguments:"
      ]
    },
    {
      "cell_type": "code",
      "metadata": {
        "id": "rYTaJuS-TvZA",
        "outputId": "ce9c2bf2-9a68-4107-c917-650e935e6b60",
        "colab": {
          "base_uri": "https://localhost:8080/",
          "height": 54
        }
      },
      "source": [
        "print(Conv[Conv.CONV, 2](in_channels=1, out_channels=4, kernel_size=3))\n",
        "print(Conv[Conv.CONV, 3](in_channels=1, out_channels=4, kernel_size=3))"
      ],
      "execution_count": 5,
      "outputs": [
        {
          "output_type": "stream",
          "text": [
            "Conv2d(1, 4, kernel_size=(3, 3), stride=(1, 1))\n",
            "Conv3d(1, 4, kernel_size=(3, 3, 3), stride=(1, 1, 1))\n"
          ],
          "name": "stdout"
        }
      ]
    },
    {
      "cell_type": "markdown",
      "metadata": {
        "id": "HGthKNI0Um50"
      },
      "source": [
        "### Specifying a layer with additional arguments\n",
        "We'll now take a look at the Activation `__doc__` string."
      ]
    },
    {
      "cell_type": "code",
      "metadata": {
        "id": "TJJ6umixUaiP",
        "outputId": "2dc8654d-6373-4980-cf6a-82b64b9d984f",
        "colab": {
          "base_uri": "https://localhost:8080/",
          "height": 54
        }
      },
      "source": [
        "print(Act.__doc__)"
      ],
      "execution_count": 6,
      "outputs": [
        {
          "output_type": "stream",
          "text": [
            "The supported members are: ``ELU``, ``RELU``, ``LEAKYRELU``, ``PRELU``, ``RELU6``, ``SELU``, ``CELU``, ``GELU``, ``SIGMOID``, ``TANH``, ``SOFTMAX``, ``LOGSOFTMAX``.\n",
            "Please see :py:class:`monai.networks.layers.split_args` for additional args parsing.\n"
          ],
          "name": "stdout"
        }
      ]
    },
    {
      "cell_type": "markdown",
      "metadata": {
        "id": "0NCmNkLcV9np"
      },
      "source": [
        "The [Act](https://docs.monai.io/en/latest/networks.html#module-monai.networks.layers.Act) classes don't require the spatial dimension information, but supports additional arguments."
      ]
    },
    {
      "cell_type": "code",
      "metadata": {
        "id": "zQO2PX4TVXU1",
        "outputId": "2d4603d1-1b5a-4c48-ce7d-e2b6d839e658",
        "colab": {
          "base_uri": "https://localhost:8080/",
          "height": 54
        }
      },
      "source": [
        "print(Act[Act.PRELU])\n",
        "Act[Act.PRELU](num_parameters=1, init=0.1)"
      ],
      "execution_count": 7,
      "outputs": [
        {
          "output_type": "stream",
          "text": [
            "<class 'torch.nn.modules.activation.PReLU'>\n"
          ],
          "name": "stdout"
        },
        {
          "output_type": "execute_result",
          "data": {
            "text/plain": [
              "PReLU(num_parameters=1)"
            ]
          },
          "metadata": {
            "tags": []
          },
          "execution_count": 7
        }
      ]
    },
    {
      "cell_type": "markdown",
      "metadata": {
        "id": "SE0tKPlyU95d"
      },
      "source": [
        "These could be fully specified with a tuple of `(type_name, arg_dict)`, such as `(\"prelu\", {\"num_parameters\": 1, \"init\": 0.1})`:"
      ]
    },
    {
      "cell_type": "code",
      "metadata": {
        "id": "BtRCIstVWQkr",
        "outputId": "1b34f73b-10a4-477d-d1ad-42c5663c6c69",
        "colab": {
          "base_uri": "https://localhost:8080/",
          "height": 35
        }
      },
      "source": [
        "act_name, act_args = split_args((\"prelu\", {\"num_parameters\": 1, \"init\": 0.1}))\n",
        "Act[act_name](**act_args)"
      ],
      "execution_count": 8,
      "outputs": [
        {
          "output_type": "execute_result",
          "data": {
            "text/plain": [
              "PReLU(num_parameters=1)"
            ]
          },
          "metadata": {
            "tags": []
          },
          "execution_count": 8
        }
      ]
    },
    {
      "cell_type": "markdown",
      "metadata": {
        "id": "UnfMOLx5Xegi"
      },
      "source": [
        "### Putting them together"
      ]
    },
    {
      "cell_type": "markdown",
      "metadata": {
        "id": "3LzZkQ_7ScHX"
      },
      "source": [
        "These APIs allow for flexible definitions of networks.  Below we'll create a class called `MyNetwork` that utilizes `Conv`, `Act`, and `Pool`.  Each Network requires an `__init__` and a `forward` function."
      ]
    },
    {
      "cell_type": "code",
      "metadata": {
        "id": "Uc6O3S4WSopx"
      },
      "source": [
        "class MyNetwork(torch.nn.Module):\n",
        "\n",
        "  def __init__(self, dims=3, in_channels=1, out_channels=8, kernel_size=3, pool_kernel=2, act=\"relu\"):\n",
        "    super(MyNetwork, self).__init__()\n",
        "    # convolution\n",
        "    self.conv = Conv[Conv.CONV, dims](in_channels, out_channels, kernel_size=kernel_size)\n",
        "    # activation\n",
        "    act_type, act_args = split_args(act)\n",
        "    self.act = Act[act_type](**act_args)\n",
        "    # pooling\n",
        "    self.pool = Pool[Pool.MAX, dims](pool_kernel)\n",
        "  \n",
        "  def forward(self, x: torch.Tensor):\n",
        "    x = self.conv(x)\n",
        "    x = self.act(x)\n",
        "    x = self.pool(x)\n",
        "    return x\n"
      ],
      "execution_count": 9,
      "outputs": []
    },
    {
      "cell_type": "markdown",
      "metadata": {
        "id": "Wr1ilIJvayFo"
      },
      "source": [
        "This network definition can be instantiated to support either 2D or 3D inputs, with flexible kernel sizes.\n",
        "\n",
        "It becomes handy when adapting the same architecture design for different tasks,\n",
        "switching among 2D, 2.5D, 3D easily."
      ]
    },
    {
      "cell_type": "code",
      "metadata": {
        "id": "ddRgmz-9ap2b",
        "outputId": "78c596ca-a46e-4eee-df1b-86835d3183c1",
        "colab": {
          "base_uri": "https://localhost:8080/",
          "height": 348
        }
      },
      "source": [
        "# default network instance\n",
        "default_net = MyNetwork()\n",
        "print(default_net)\n",
        "print(default_net(torch.ones(3, 1, 20, 20, 30)).shape)\n",
        "\n",
        "# 2D network instance\n",
        "elu_net = MyNetwork(dims=2, in_channels=3, act=(\"elu\", {\"inplace\": True}))\n",
        "print(elu_net)\n",
        "print(elu_net(torch.ones(3, 3, 24, 24)).shape)\n",
        "\n",
        "# 3D network instance with anisotropic kernels\n",
        "sigmoid_net = MyNetwork(3, in_channels=4, kernel_size=(3, 3, 1), act=\"sigmoid\")\n",
        "print(sigmoid_net)\n",
        "print(sigmoid_net(torch.ones(3, 4, 30, 30, 5)).shape)"
      ],
      "execution_count": 10,
      "outputs": [
        {
          "output_type": "stream",
          "text": [
            "MyNetwork(\n",
            "  (conv): Conv3d(1, 8, kernel_size=(3, 3, 3), stride=(1, 1, 1))\n",
            "  (act): ReLU()\n",
            "  (pool): MaxPool3d(kernel_size=2, stride=2, padding=0, dilation=1, ceil_mode=False)\n",
            ")\n",
            "torch.Size([3, 8, 9, 9, 14])\n",
            "MyNetwork(\n",
            "  (conv): Conv2d(3, 8, kernel_size=(3, 3), stride=(1, 1))\n",
            "  (act): ELU(alpha=1.0, inplace=True)\n",
            "  (pool): MaxPool2d(kernel_size=2, stride=2, padding=0, dilation=1, ceil_mode=False)\n",
            ")\n",
            "torch.Size([3, 8, 11, 11])\n",
            "MyNetwork(\n",
            "  (conv): Conv3d(4, 8, kernel_size=(3, 3, 1), stride=(1, 1, 1))\n",
            "  (act): Sigmoid()\n",
            "  (pool): MaxPool3d(kernel_size=2, stride=2, padding=0, dilation=1, ceil_mode=False)\n",
            ")\n",
            "torch.Size([3, 8, 14, 14, 2])\n"
          ],
          "name": "stdout"
        }
      ]
    },
    {
      "cell_type": "markdown",
      "metadata": {
        "id": "3AszY4ttlRut"
      },
      "source": [
        "Almost all the MONAI layers, blocks and networks are extensions of `torch.nn.modules` and follow this pattern. This makes the implementations compatible with any PyTorch pipelines and flexible with the network design.\n",
        "The current collections of those differentiable modules are listed in https://docs.monai.io/en/latest/networks.html."
      ]
    },
    {
      "cell_type": "markdown",
      "metadata": {
        "id": "nagTDrKcyj1D"
      },
      "source": [
        "### AHNet\n",
        "\n",
        "Among those implementations, MONAI features a 3D anisotropic hybrid network (AHNet) with the anisotropic encoder kernels initialised from a pretrained resnet. Please see https://docs.monai.io/en/latest/networks.html#ahnet"
      ]
    },
    {
      "cell_type": "markdown",
      "metadata": {
        "id": "RGMtQcwWyj1E"
      },
      "source": [
        "## Summary\n",
        "\n",
        "In this notebook, we recapped MONAI Layers including:\n",
        "- Convolutions and Activations\n",
        "- Putting together a base network\n",
        "- Initialize an AHNet\n",
        "\n",
        "For full API documentation, please visit https://docs.monai.io."
      ]
    },
    {
      "cell_type": "code",
      "metadata": {
        "id": "ZbjQw2q3yj1G"
      },
      "source": [
        ""
      ],
      "execution_count": null,
      "outputs": []
    }
  ]
}
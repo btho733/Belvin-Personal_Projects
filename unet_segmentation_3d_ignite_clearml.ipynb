{
  "cells": [
    {
      "cell_type": "markdown",
      "metadata": {
        "id": "view-in-github",
        "colab_type": "text"
      },
      "source": [
        "<a href=\"https://colab.research.google.com/github/btho733/Belvin-Personal_Projects/blob/master/unet_segmentation_3d_ignite_clearml.ipynb\" target=\"_parent\"><img src=\"https://colab.research.google.com/assets/colab-badge.svg\" alt=\"Open In Colab\"/></a>"
      ]
    },
    {
      "cell_type": "markdown",
      "metadata": {
        "id": "3mqoATXZGTAX"
      },
      "source": [
        "Copyright (c) MONAI Consortium  \n",
        "Licensed under the Apache License, Version 2.0 (the \"License\");  \n",
        "you may not use this file except in compliance with the License.  \n",
        "You may obtain a copy of the License at  \n",
        "&nbsp;&nbsp;&nbsp;&nbsp;http://www.apache.org/licenses/LICENSE-2.0  \n",
        "Unless required by applicable law or agreed to in writing, software  \n",
        "distributed under the License is distributed on an \"AS IS\" BASIS,  \n",
        "WITHOUT WARRANTIES OR CONDITIONS OF ANY KIND, either express or implied.  \n",
        "See the License for the specific language governing permissions and  \n",
        "limitations under the License.\n",
        "\n",
        "# Experiment Management with ClearML\n",
        "\n",
        "[![Open In Colab](https://colab.research.google.com/assets/colab-badge.svg)](https://colab.research.google.com/github/Project-MONAI/tutorials/blob/main/experiment_management/unet_segmentation_3d_ignite_clearml.ipynb)\n",
        "\n",
        "This tutorial shows how to use ClearML to manage MONAI experiments. You can integrate ClearML into your code using MONAI's built-in handlers: `ClearMLImageHandler`, `ClearMLStatsHandler`, and `ModelCheckpoint`.\n",
        "\n",
        "The MONAI example used here is adapted from[3D segmentation with UNet](https://github.com/Project-MONAI/tutorials/blob/main/3d_segmentation/unet_segmentation_3d_ignite.ipynb)."
      ]
    },
    {
      "cell_type": "markdown",
      "metadata": {
        "collapsed": false,
        "id": "m_5iDugmXcum"
      },
      "source": [
        "## Setup environment\n",
        "\n",
        "`clearml` comes as part of the `monai[all]` installation. For more information about integrating ClearML into your MONAI code, see [here](https://clear.ml/docs/latest/docs/integrations/monai). For more information about using ClearML (experiment management, data management, pipelines, model serving, and more), see [ClearML's official documentation](https://clear.ml/docs/latest/docs/)."
      ]
    },
    {
      "cell_type": "code",
      "execution_count": 1,
      "metadata": {
        "colab": {
          "base_uri": "https://localhost:8080/"
        },
        "id": "jxKCbdGUXcun",
        "outputId": "50ec1825-c2a8-43ac-9833-857b46da5101"
      },
      "outputs": [
        {
          "output_type": "stream",
          "name": "stdout",
          "text": [
            "2024-11-03 11:43:49.323960: E external/local_xla/xla/stream_executor/cuda/cuda_fft.cc:485] Unable to register cuFFT factory: Attempting to register factory for plugin cuFFT when one has already been registered\n",
            "2024-11-03 11:43:49.343965: E external/local_xla/xla/stream_executor/cuda/cuda_dnn.cc:8454] Unable to register cuDNN factory: Attempting to register factory for plugin cuDNN when one has already been registered\n",
            "2024-11-03 11:43:49.349892: E external/local_xla/xla/stream_executor/cuda/cuda_blas.cc:1452] Unable to register cuBLAS factory: Attempting to register factory for plugin cuBLAS when one has already been registered\n",
            "2024-11-03 11:43:49.364676: I tensorflow/core/platform/cpu_feature_guard.cc:210] This TensorFlow binary is optimized to use available CPU instructions in performance-critical operations.\n",
            "To enable the following instructions: AVX2 FMA, in other operations, rebuild TensorFlow with the appropriate compiler flags.\n",
            "2024-11-03 11:43:51.056678: W tensorflow/compiler/tf2tensorrt/utils/py_utils.cc:38] TF-TRT Warning: Could not find TensorRT\n"
          ]
        }
      ],
      "source": [
        "!python -c \"import monai\" || pip install -q \"monai-weekly[ignite, nibabel, tensorboard, clearml]\""
      ]
    },
    {
      "cell_type": "markdown",
      "metadata": {
        "id": "G-L36u4sGTAg"
      },
      "source": [
        "## Setup imports"
      ]
    },
    {
      "cell_type": "code",
      "execution_count": 2,
      "metadata": {
        "id": "VAWF4EftGTAh",
        "colab": {
          "base_uri": "https://localhost:8080/"
        },
        "outputId": "2c138e59-e899-4f34-885f-9d0bda940f37"
      },
      "outputs": [
        {
          "output_type": "stream",
          "name": "stdout",
          "text": [
            "MONAI version: 1.5.dev2444\n",
            "Numpy version: 1.26.4\n",
            "Pytorch version: 2.5.0+cu121\n",
            "MONAI flags: HAS_EXT = False, USE_COMPILED = False, USE_META_DICT = False\n",
            "MONAI rev id: c70fbd8ff919cabaacfabcbdbf28aa435ae622f9\n",
            "MONAI __file__: /usr/local/lib/python3.10/dist-packages/monai/__init__.py\n",
            "\n",
            "Optional dependencies:\n",
            "Pytorch Ignite version: 0.4.11\n",
            "ITK version: NOT INSTALLED or UNKNOWN VERSION.\n",
            "Nibabel version: 5.3.2\n",
            "scikit-image version: 0.24.0\n",
            "scipy version: 1.13.1\n",
            "Pillow version: 10.4.0\n",
            "Tensorboard version: 2.17.0\n",
            "gdown version: 5.2.0\n",
            "TorchVision version: 0.20.0+cu121\n",
            "tqdm version: 4.66.6\n",
            "lmdb version: NOT INSTALLED or UNKNOWN VERSION.\n",
            "psutil version: 5.9.5\n",
            "pandas version: 2.2.2\n",
            "einops version: 0.8.0\n",
            "transformers version: 4.44.2\n",
            "mlflow version: NOT INSTALLED or UNKNOWN VERSION.\n",
            "pynrrd version: NOT INSTALLED or UNKNOWN VERSION.\n",
            "clearml version: 1.16.5\n",
            "\n",
            "For details about installing the optional dependencies, please visit:\n",
            "    https://docs.monai.io/en/latest/installation.html#installing-the-recommended-dependencies\n",
            "\n"
          ]
        }
      ],
      "source": [
        "import glob\n",
        "import logging\n",
        "import os\n",
        "import shutil\n",
        "import sys\n",
        "import tempfile\n",
        "\n",
        "import nibabel as nib\n",
        "import numpy as np\n",
        "from monai.config import print_config\n",
        "from monai.data import ArrayDataset, create_test_image_3d, decollate_batch, DataLoader\n",
        "from monai.handlers import (\n",
        "    MeanDice,\n",
        "    StatsHandler,\n",
        ")\n",
        "\n",
        "# import the clearml handlers\n",
        "from monai.handlers.clearml_handlers import ClearMLImageHandler, ClearMLStatsHandler\n",
        "from monai.losses import DiceLoss\n",
        "from monai.networks.nets import UNet\n",
        "from monai.transforms import (\n",
        "    Activations,\n",
        "    EnsureChannelFirst,\n",
        "    AsDiscrete,\n",
        "    Compose,\n",
        "    LoadImage,\n",
        "    RandSpatialCrop,\n",
        "    Resize,\n",
        "    ScaleIntensity,\n",
        ")\n",
        "from monai.utils import first\n",
        "\n",
        "import ignite\n",
        "import torch\n",
        "\n",
        "print_config()"
      ]
    },
    {
      "cell_type": "markdown",
      "metadata": {
        "collapsed": false,
        "id": "L388puuoXcun"
      },
      "source": [
        "## Setup ClearML ⚓\n",
        "\n",
        "1. To keep track of your experiments and/or data, ClearML needs to communicate to a server. You have 2 server options:\n",
        "\n",
        "  * Sign up for free to the [ClearML Hosted Service](https://app.clear.ml/)\n",
        "  * Set up your own server, see [here](https://clear.ml/docs/latest/docs/deploying_clearml/clearml_server).\n",
        "\n",
        "2. Add your ClearML credentials below. ClearML will use these credentials to connect to your server (see instructions for generating credentials [here](https://clear.ml/docs/latest/docs/getting_started/ds/ds_first_steps/#jupyter-notebook))."
      ]
    },
    {
      "cell_type": "code",
      "execution_count": null,
      "metadata": {
        "id": "ChKgfQzMXcuo"
      },
      "outputs": [],
      "source": [
        "# clearml credentials\n",
        "%env CLEARML_WEB_HOST=''\n",
        "%env CLEARML_API_HOST=''\n",
        "%env CLEARML_FILES_HOST=''\n",
        "%env CLEARML_API_ACCESS_KEY=''\n",
        "%env CLEARML_API_SECRET_KEY=''"
      ]
    },
    {
      "cell_type": "markdown",
      "metadata": {
        "id": "cBN8rQJcGTAk"
      },
      "source": [
        "## Setup data directory\n",
        "\n",
        "You can specify a directory with the `MONAI_DATA_DIRECTORY` environment variable.  \n",
        "This allows you to save results and reuse downloads.  \n",
        "If not specified a temporary directory will be used."
      ]
    },
    {
      "cell_type": "code",
      "execution_count": 4,
      "metadata": {
        "id": "BSjqI-ZBGTAk",
        "colab": {
          "base_uri": "https://localhost:8080/"
        },
        "outputId": "a62d5fd9-4550-48e8-8ca6-b062dde1f775"
      },
      "outputs": [
        {
          "output_type": "stream",
          "name": "stdout",
          "text": [
            "/tmp/tmpwc2slc0y\n"
          ]
        }
      ],
      "source": [
        "directory = os.environ.get(\"MONAI_DATA_DIRECTORY\")\n",
        "if directory is not None:\n",
        "    os.makedirs(directory, exist_ok=True)\n",
        "root_dir = tempfile.mkdtemp() if directory is None else directory\n",
        "print(root_dir)"
      ]
    },
    {
      "cell_type": "markdown",
      "metadata": {
        "id": "LzxP-l1nGTAl"
      },
      "source": [
        "## Setup logging"
      ]
    },
    {
      "cell_type": "code",
      "execution_count": 5,
      "metadata": {
        "id": "GGHooZZwGTAl"
      },
      "outputs": [],
      "source": [
        "logging.basicConfig(stream=sys.stdout, level=logging.INFO)"
      ]
    },
    {
      "cell_type": "markdown",
      "metadata": {
        "id": "eIDTWNVxGTAm"
      },
      "source": [
        "## Setup demo data"
      ]
    },
    {
      "cell_type": "code",
      "execution_count": 6,
      "metadata": {
        "id": "l0jR_jz8GTAn"
      },
      "outputs": [],
      "source": [
        "for i in range(40):\n",
        "    im, seg = create_test_image_3d(128, 128, 128, num_seg_classes=1)\n",
        "\n",
        "    n = nib.Nifti1Image(im, np.eye(4))\n",
        "    nib.save(n, os.path.join(root_dir, f\"im{i}.nii.gz\"))\n",
        "\n",
        "    n = nib.Nifti1Image(seg, np.eye(4))\n",
        "    nib.save(n, os.path.join(root_dir, f\"seg{i}.nii.gz\"))\n",
        "\n",
        "images = sorted(glob.glob(os.path.join(root_dir, \"im*.nii.gz\")))\n",
        "segs = sorted(glob.glob(os.path.join(root_dir, \"seg*.nii.gz\")))"
      ]
    },
    {
      "cell_type": "markdown",
      "metadata": {
        "id": "8FUIYNO0GTAn"
      },
      "source": [
        "## Setup transforms, dataset"
      ]
    },
    {
      "cell_type": "code",
      "execution_count": 7,
      "metadata": {
        "id": "g5gz3rECGTAo",
        "colab": {
          "base_uri": "https://localhost:8080/"
        },
        "outputId": "3766e746-d6b6-4f9c-f6cb-9b5a7faf155e"
      },
      "outputs": [
        {
          "output_type": "stream",
          "name": "stdout",
          "text": [
            "torch.Size([10, 1, 96, 96, 96]) torch.Size([10, 1, 96, 96, 96])\n"
          ]
        }
      ],
      "source": [
        "# Define transforms for image and segmentation\n",
        "imtrans = Compose(\n",
        "    [\n",
        "        LoadImage(image_only=True),\n",
        "        ScaleIntensity(),\n",
        "        EnsureChannelFirst(),\n",
        "        RandSpatialCrop((96, 96, 96), random_size=False),\n",
        "    ]\n",
        ")\n",
        "segtrans = Compose(\n",
        "    [\n",
        "        LoadImage(image_only=True),\n",
        "        EnsureChannelFirst(),\n",
        "        RandSpatialCrop((96, 96, 96), random_size=False),\n",
        "    ]\n",
        ")\n",
        "\n",
        "# Define nifti dataset, dataloader\n",
        "ds = ArrayDataset(images, imtrans, segs, segtrans)\n",
        "# loader = DataLoader(ds, batch_size=10, num_workers=2, pin_memory=torch.cuda.is_available())\n",
        "loader = DataLoader(ds, batch_size=10, num_workers=2, pin_memory=False)\n",
        "im, seg = first(loader)\n",
        "print(im.shape, seg.shape)"
      ]
    },
    {
      "cell_type": "markdown",
      "metadata": {
        "id": "6zl4_zeSGTAp"
      },
      "source": [
        "## Create Model, Loss, Optimizer"
      ]
    },
    {
      "cell_type": "code",
      "execution_count": 8,
      "metadata": {
        "id": "XT1D-a1-GTAp"
      },
      "outputs": [],
      "source": [
        "# Create UNet, DiceLoss and Adam optimizer\n",
        "\n",
        "device = None  # torch.device(\"cuda:0\")\n",
        "net = UNet(\n",
        "    spatial_dims=3,\n",
        "    in_channels=1,\n",
        "    out_channels=1,\n",
        "    channels=(16, 32, 64, 128, 256),\n",
        "    strides=(2, 2, 2, 2),\n",
        "    num_res_units=2,\n",
        ").to(device)\n",
        "\n",
        "loss = DiceLoss(sigmoid=True)\n",
        "lr = 1e-3\n",
        "opt = torch.optim.Adam(net.parameters(), lr)"
      ]
    },
    {
      "cell_type": "markdown",
      "metadata": {
        "id": "Xvduwsk8GTBm"
      },
      "source": [
        "## Create supervised_trainer using ignite"
      ]
    },
    {
      "cell_type": "code",
      "execution_count": 9,
      "metadata": {
        "id": "9Ocpt_MOGTBn"
      },
      "outputs": [],
      "source": [
        "# Create trainer\n",
        "trainer = ignite.engine.create_supervised_trainer(net, opt, loss, device, False)"
      ]
    },
    {
      "cell_type": "markdown",
      "metadata": {
        "id": "5vo9Eq33GTBn"
      },
      "source": [
        "## Set up event handlers for checkpointing and logging\n",
        "\n",
        "Using a ClearML handler creates a ClearML Task, which captures your experiment's models, scalars, images, and more.\n",
        "\n",
        "The console output displays the task ID and a link to the task's page in the ClearML web UI."
      ]
    },
    {
      "cell_type": "code",
      "execution_count": 10,
      "metadata": {
        "id": "cZTtFnySGTBo",
        "colab": {
          "base_uri": "https://localhost:8080/"
        },
        "outputId": "105e915a-ebde-4aac-bc66-7ac9f0568f91"
      },
      "outputs": [
        {
          "output_type": "stream",
          "name": "stdout",
          "text": [
            "ClearML Task: created new task id=f40af040cc0744428dc576e91fb66392\n",
            "2024-11-03 11:44:17,133 - clearml.Task - INFO - Storing jupyter notebook directly as code\n",
            "ClearML results page: https://app.clear.ml/projects/35c4574a6ec1425cba6cfb1060765bb3/experiments/f40af040cc0744428dc576e91fb66392/output/log\n"
          ]
        }
      ],
      "source": [
        "# optional section for checkpoint and clearml logging\n",
        "# adding checkpoint handler to save models (network\n",
        "# params and optimizer stats) during training\n",
        "log_dir = os.path.join(root_dir, \"logs\")\n",
        "checkpoint_handler = ignite.handlers.ModelCheckpoint(log_dir, \"net\", n_saved=10, require_empty=False)\n",
        "trainer.add_event_handler(\n",
        "    event_name=ignite.engine.Events.EPOCH_COMPLETED,\n",
        "    handler=checkpoint_handler,\n",
        "    to_save={\"net\": net, \"opt\": opt},\n",
        ")\n",
        "\n",
        "# StatsHandler prints loss at every iteration\n",
        "# user can also customize print functions and can use output_transform to convert\n",
        "# engine.state.output if it's not a loss value\n",
        "train_stats_handler = StatsHandler(name=\"trainer\", output_transform=lambda x: x)\n",
        "train_stats_handler.attach(trainer)\n",
        "\n",
        "\n",
        "# ClearMLStatsHandler plots loss at every iteration\n",
        "# Creates a ClearML Task which logs the scalar plots\n",
        "task_name = \"UNet segmentation 3d\"\n",
        "project_name = \"MONAI example\"\n",
        "\n",
        "train_clearml_stats_handler = ClearMLStatsHandler(\n",
        "    task_name=task_name, project_name=project_name, log_dir=log_dir, output_transform=lambda x: x\n",
        ")\n",
        "train_clearml_stats_handler.attach(trainer)"
      ]
    },
    {
      "cell_type": "markdown",
      "metadata": {
        "id": "hBv81ENGGTBp"
      },
      "source": [
        "## Add Validation every N epochs"
      ]
    },
    {
      "cell_type": "code",
      "execution_count": 11,
      "metadata": {
        "id": "VYte_Cw6GTBp",
        "colab": {
          "base_uri": "https://localhost:8080/"
        },
        "outputId": "ad715c5d-7d06-4958-97b0-cdd1bc62823c"
      },
      "outputs": [
        {
          "output_type": "execute_result",
          "data": {
            "text/plain": [
              "<ignite.engine.events.RemovableEventHandle at 0x7a57b05b91e0>"
            ]
          },
          "metadata": {},
          "execution_count": 11
        }
      ],
      "source": [
        "# optional section for model validation during training\n",
        "validation_every_n_epochs = 1\n",
        "# Set parameters for validation\n",
        "metric_name = \"Mean_Dice\"\n",
        "# add evaluation metric to the evaluator engine\n",
        "val_metrics = {metric_name: MeanDice()}\n",
        "post_pred = Compose([Activations(sigmoid=True), AsDiscrete(threshold=0.5)])\n",
        "post_label = Compose([AsDiscrete(threshold=0.5)])\n",
        "# Ignite evaluator expects batch=(img, seg) and\n",
        "# returns output=(y_pred, y) at every iteration,\n",
        "# user can add output_transform to return other values\n",
        "evaluator = ignite.engine.create_supervised_evaluator(\n",
        "    net,\n",
        "    val_metrics,\n",
        "    device,\n",
        "    True,\n",
        "    output_transform=lambda x, y, y_pred: (\n",
        "        [post_pred(i) for i in decollate_batch(y_pred)],\n",
        "        [post_label(i) for i in decollate_batch(y)],\n",
        "    ),\n",
        ")\n",
        "\n",
        "# create a validation data loader\n",
        "val_imtrans = Compose(\n",
        "    [\n",
        "        LoadImage(image_only=True),\n",
        "        ScaleIntensity(),\n",
        "        EnsureChannelFirst(),\n",
        "        Resize((96, 96, 96)),\n",
        "    ]\n",
        ")\n",
        "val_segtrans = Compose(\n",
        "    [\n",
        "        LoadImage(image_only=True),\n",
        "        EnsureChannelFirst(),\n",
        "        Resize((96, 96, 96)),\n",
        "    ]\n",
        ")\n",
        "val_ds = ArrayDataset(images[21:], val_imtrans, segs[21:], val_segtrans)\n",
        "# val_loader = DataLoader(val_ds, batch_size=5, num_workers=8, pin_memory=torch.cuda.is_available())\n",
        "val_loader = DataLoader(val_ds, batch_size=5, num_workers=2, pin_memory=False)\n",
        "\n",
        "\n",
        "@trainer.on(ignite.engine.Events.EPOCH_COMPLETED(every=validation_every_n_epochs))\n",
        "def run_validation(engine):\n",
        "    evaluator.run(val_loader)\n",
        "\n",
        "\n",
        "# Add stats event handler to print validation stats via evaluator\n",
        "val_stats_handler = StatsHandler(\n",
        "    name=\"evaluator\",\n",
        "    # no need to print loss value, so disable per iteration output\n",
        "    output_transform=lambda x: None,\n",
        "    # fetch global epoch number from trainer\n",
        "    global_epoch_transform=lambda x: trainer.state.epoch,\n",
        ")\n",
        "val_stats_handler.attach(evaluator)\n",
        "\n",
        "# add handler to record metrics to clearml at every validation epoch\n",
        "val_clearml_stats_handler = ClearMLStatsHandler(\n",
        "    log_dir=log_dir,\n",
        "    # no need to plot loss value, so disable per iteration output\n",
        "    output_transform=lambda x: None,\n",
        "    # fetch global epoch number from trainer\n",
        "    global_epoch_transform=lambda x: trainer.state.epoch,\n",
        ")\n",
        "val_clearml_stats_handler.attach(evaluator)\n",
        "\n",
        "# add handler to draw the first image and the corresponding\n",
        "# label and model output in the last batch\n",
        "# here we draw the 3D output as GIF format along Depth\n",
        "# axis, at every validation epoch\n",
        "val_clearml_image_handler = ClearMLImageHandler(\n",
        "    task_name=task_name,\n",
        "    project_name=project_name,\n",
        "    log_dir=log_dir,\n",
        "    batch_transform=lambda batch: (batch[0], batch[1]),\n",
        "    output_transform=lambda output: output[0],\n",
        "    global_iter_transform=lambda x: trainer.state.epoch,\n",
        ")\n",
        "evaluator.add_event_handler(\n",
        "    event_name=ignite.engine.Events.EPOCH_COMPLETED,\n",
        "    handler=val_clearml_image_handler,\n",
        ")"
      ]
    },
    {
      "cell_type": "markdown",
      "metadata": {
        "id": "VxXixOfHGTBq"
      },
      "source": [
        "## Run training loop"
      ]
    },
    {
      "cell_type": "code",
      "execution_count": null,
      "metadata": {
        "id": "kW0K4mxIGTBt",
        "colab": {
          "base_uri": "https://localhost:8080/"
        },
        "outputId": "fafb24a1-1b5e-494b-b561-6be075f01b5d"
      },
      "outputs": [
        {
          "output_type": "stream",
          "name": "stdout",
          "text": [
            "2024-11-03 11:44:27,475 - INFO - Epoch: 1/30, Iter: 1/4 -- Loss: 0.6200 \n",
            "2024-11-03 11:44:37,441 - INFO - Epoch: 1/30, Iter: 2/4 -- Loss: 0.4783 \n",
            "2024-11-03 11:44:43,183 - INFO - Epoch: 1/30, Iter: 3/4 -- Loss: 0.4464 \n",
            "2024-11-03 11:44:51,205 - INFO - Epoch: 1/30, Iter: 4/4 -- Loss: 0.4343 \n",
            "2024-11-03 11:44:54,532 - clearml.storage - INFO - Uploading: 55.07MB to /tmp/.clearml.upload_model_daxhc63l.tmp\n"
          ]
        },
        {
          "output_type": "stream",
          "name": "stderr",
          "text": [
            "██████████████████████████████▉ 100% | 55.07/55.07 MB [00:01<00:00, 33.63MB/s]: "
          ]
        },
        {
          "output_type": "stream",
          "name": "stdout",
          "text": [
            "2024-11-03 11:44:56,192 - clearml.Task - INFO - Completed model upload to https://files.clear.ml/MONAI%20example/UNet%20segmentation%203d.f40af040cc0744428dc576e91fb66392/models/tmpiyro_g6r\n"
          ]
        },
        {
          "output_type": "stream",
          "name": "stderr",
          "text": [
            "\n"
          ]
        },
        {
          "output_type": "stream",
          "name": "stdout",
          "text": [
            "2024-11-03 11:45:03,448 - INFO - Epoch[1] Metrics -- Mean_Dice: 0.6420 \n",
            "2024-11-03 11:45:14,004 - INFO - Epoch: 2/30, Iter: 1/4 -- Loss: 0.4540 \n",
            "2024-11-03 11:45:19,715 - INFO - Epoch: 2/30, Iter: 2/4 -- Loss: 0.3976 \n",
            "2024-11-03 11:45:27,572 - INFO - Epoch: 2/30, Iter: 3/4 -- Loss: 0.4057 \n",
            "2024-11-03 11:45:35,292 - INFO - Epoch: 2/30, Iter: 4/4 -- Loss: 0.4226 \n",
            "2024-11-03 11:45:37,945 - clearml.storage - INFO - Uploading: 55.07MB to /tmp/.clearml.upload_model_wjkj6ysh.tmp\n"
          ]
        },
        {
          "output_type": "stream",
          "name": "stderr",
          "text": [
            "██████████████████████████████▉ 100% | 55.07/55.07 MB [00:01<00:00, 34.08MB/s]: "
          ]
        },
        {
          "output_type": "stream",
          "name": "stdout",
          "text": [
            "2024-11-03 11:45:39,576 - clearml.Task - INFO - Completed model upload to https://files.clear.ml/MONAI%20example/UNet%20segmentation%203d.f40af040cc0744428dc576e91fb66392/models/tmp3cjlug8h\n"
          ]
        },
        {
          "output_type": "stream",
          "name": "stderr",
          "text": [
            "\n"
          ]
        },
        {
          "output_type": "stream",
          "name": "stdout",
          "text": [
            "2024-11-03 11:45:47,475 - INFO - Epoch[2] Metrics -- Mean_Dice: 0.7542 \n",
            "2024-11-03 11:45:55,001 - INFO - Epoch: 3/30, Iter: 1/4 -- Loss: 0.3652 \n",
            "2024-11-03 11:46:02,165 - INFO - Epoch: 3/30, Iter: 2/4 -- Loss: 0.4184 \n",
            "2024-11-03 11:46:11,110 - INFO - Epoch: 3/30, Iter: 3/4 -- Loss: 0.3997 \n",
            "2024-11-03 11:46:16,849 - INFO - Epoch: 3/30, Iter: 4/4 -- Loss: 0.4034 \n",
            "2024-11-03 11:46:19,540 - clearml.storage - INFO - Uploading: 55.07MB to /tmp/.clearml.upload_model_zkws72bl.tmp\n"
          ]
        },
        {
          "output_type": "stream",
          "name": "stderr",
          "text": [
            "██████████████████████████████▉ 100% | 55.07/55.07 MB [00:01<00:00, 33.58MB/s]: "
          ]
        },
        {
          "output_type": "stream",
          "name": "stdout",
          "text": [
            "2024-11-03 11:46:21,243 - clearml.Task - INFO - Completed model upload to https://files.clear.ml/MONAI%20example/UNet%20segmentation%203d.f40af040cc0744428dc576e91fb66392/models/tmpatpti_pm\n"
          ]
        },
        {
          "output_type": "stream",
          "name": "stderr",
          "text": [
            "\n"
          ]
        },
        {
          "output_type": "stream",
          "name": "stdout",
          "text": [
            "2024-11-03 11:46:31,773 - INFO - Epoch[3] Metrics -- Mean_Dice: 0.7792 \n",
            "2024-11-03 11:46:39,222 - INFO - Epoch: 4/30, Iter: 1/4 -- Loss: 0.3957 \n",
            "2024-11-03 11:46:48,885 - INFO - Epoch: 4/30, Iter: 2/4 -- Loss: 0.3904 \n",
            "2024-11-03 11:46:55,407 - INFO - Epoch: 4/30, Iter: 3/4 -- Loss: 0.3787 \n",
            "2024-11-03 11:47:01,070 - INFO - Epoch: 4/30, Iter: 4/4 -- Loss: 0.3729 \n",
            "2024-11-03 11:47:03,751 - clearml.storage - INFO - Uploading: 55.07MB to /tmp/.clearml.upload_model_35q874hj.tmp\n"
          ]
        },
        {
          "output_type": "stream",
          "name": "stderr",
          "text": [
            "██████████████████████████████▉ 100% | 55.07/55.07 MB [00:01<00:00, 33.92MB/s]: "
          ]
        },
        {
          "output_type": "stream",
          "name": "stdout",
          "text": [
            "2024-11-03 11:47:05,398 - clearml.Task - INFO - Completed model upload to https://files.clear.ml/MONAI%20example/UNet%20segmentation%203d.f40af040cc0744428dc576e91fb66392/models/tmpbiktee85\n"
          ]
        },
        {
          "output_type": "stream",
          "name": "stderr",
          "text": [
            "\n"
          ]
        },
        {
          "output_type": "stream",
          "name": "stdout",
          "text": [
            "2024-11-03 11:47:13,291 - INFO - Epoch[4] Metrics -- Mean_Dice: 0.7756 \n",
            "2024-11-03 11:47:24,376 - INFO - Epoch: 5/30, Iter: 1/4 -- Loss: 0.4160 \n",
            "2024-11-03 11:47:31,249 - INFO - Epoch: 5/30, Iter: 2/4 -- Loss: 0.3529 \n",
            "2024-11-03 11:47:36,965 - INFO - Epoch: 5/30, Iter: 3/4 -- Loss: 0.3605 \n",
            "2024-11-03 11:47:45,916 - INFO - Epoch: 5/30, Iter: 4/4 -- Loss: 0.3551 \n",
            "2024-11-03 11:47:48,636 - clearml.storage - INFO - Uploading: 55.07MB to /tmp/.clearml.upload_model_b3_mekne.tmp\n"
          ]
        },
        {
          "output_type": "stream",
          "name": "stderr",
          "text": [
            "██████████████████████████████▉ 100% | 55.07/55.07 MB [00:02<00:00, 24.52MB/s]: "
          ]
        },
        {
          "output_type": "stream",
          "name": "stdout",
          "text": [
            "2024-11-03 11:47:50,964 - clearml.Task - INFO - Completed model upload to https://files.clear.ml/MONAI%20example/UNet%20segmentation%203d.f40af040cc0744428dc576e91fb66392/models/tmp0hdvo6jh\n"
          ]
        },
        {
          "output_type": "stream",
          "name": "stderr",
          "text": [
            "\n"
          ]
        },
        {
          "output_type": "stream",
          "name": "stdout",
          "text": [
            "2024-11-03 11:47:57,629 - INFO - Epoch[5] Metrics -- Mean_Dice: 0.7956 \n",
            "2024-11-03 11:48:08,706 - INFO - Epoch: 6/30, Iter: 1/4 -- Loss: 0.3731 \n",
            "2024-11-03 11:48:14,477 - INFO - Epoch: 6/30, Iter: 2/4 -- Loss: 0.3629 \n",
            "2024-11-03 11:48:22,507 - INFO - Epoch: 6/30, Iter: 3/4 -- Loss: 0.3763 \n",
            "2024-11-03 11:48:30,367 - INFO - Epoch: 6/30, Iter: 4/4 -- Loss: 0.3497 \n",
            "2024-11-03 11:48:33,052 - clearml.storage - INFO - Uploading: 55.07MB to /tmp/.clearml.upload_model_fhb0gbbl.tmp\n"
          ]
        },
        {
          "output_type": "stream",
          "name": "stderr",
          "text": [
            "██████████████████████████████▉ 100% | 55.07/55.07 MB [00:01<00:00, 34.04MB/s]: "
          ]
        },
        {
          "output_type": "stream",
          "name": "stdout",
          "text": [
            "2024-11-03 11:48:34,686 - clearml.Task - INFO - Completed model upload to https://files.clear.ml/MONAI%20example/UNet%20segmentation%203d.f40af040cc0744428dc576e91fb66392/models/tmpn6na4brx\n"
          ]
        },
        {
          "output_type": "stream",
          "name": "stderr",
          "text": [
            "\n"
          ]
        },
        {
          "output_type": "stream",
          "name": "stdout",
          "text": [
            "2024-11-03 11:48:42,942 - INFO - Epoch[6] Metrics -- Mean_Dice: 0.8183 \n",
            "2024-11-03 11:48:50,559 - INFO - Epoch: 7/30, Iter: 1/4 -- Loss: 0.3711 \n",
            "2024-11-03 11:48:58,030 - INFO - Epoch: 7/30, Iter: 2/4 -- Loss: 0.3729 \n",
            "2024-11-03 11:49:06,137 - INFO - Epoch: 7/30, Iter: 3/4 -- Loss: 0.3707 \n",
            "2024-11-03 11:49:11,816 - INFO - Epoch: 7/30, Iter: 4/4 -- Loss: 0.3162 \n",
            "2024-11-03 11:49:14,418 - clearml.storage - INFO - Uploading: 55.07MB to /tmp/.clearml.upload_model_y0444ifw.tmp\n"
          ]
        },
        {
          "output_type": "stream",
          "name": "stderr",
          "text": [
            "██████████████████████████████▉ 100% | 55.07/55.07 MB [00:01<00:00, 33.52MB/s]: "
          ]
        },
        {
          "output_type": "stream",
          "name": "stdout",
          "text": [
            "2024-11-03 11:49:16,087 - clearml.Task - INFO - Completed model upload to https://files.clear.ml/MONAI%20example/UNet%20segmentation%203d.f40af040cc0744428dc576e91fb66392/models/tmp_r9e22jc\n"
          ]
        },
        {
          "output_type": "stream",
          "name": "stderr",
          "text": [
            "\n"
          ]
        },
        {
          "output_type": "stream",
          "name": "stdout",
          "text": [
            "2024-11-03 11:49:23,787 - INFO - Epoch[7] Metrics -- Mean_Dice: 0.8218 \n",
            "2024-11-03 11:49:33,424 - INFO - Epoch: 8/30, Iter: 1/4 -- Loss: 0.3367 \n",
            "2024-11-03 11:49:41,542 - INFO - Epoch: 8/30, Iter: 2/4 -- Loss: 0.3403 \n",
            "2024-11-03 11:49:47,103 - INFO - Epoch: 8/30, Iter: 3/4 -- Loss: 0.3542 \n",
            "2024-11-03 11:49:55,894 - INFO - Epoch: 8/30, Iter: 4/4 -- Loss: 0.3817 \n",
            "2024-11-03 11:49:58,567 - clearml.storage - INFO - Uploading: 55.07MB to /tmp/.clearml.upload_model_pdgc85uw.tmp\n"
          ]
        },
        {
          "output_type": "stream",
          "name": "stderr",
          "text": [
            "██████████████████████████████▉ 100% | 55.07/55.07 MB [00:01<00:00, 33.67MB/s]: "
          ]
        },
        {
          "output_type": "stream",
          "name": "stdout",
          "text": [
            "2024-11-03 11:50:00,239 - clearml.Task - INFO - Completed model upload to https://files.clear.ml/MONAI%20example/UNet%20segmentation%203d.f40af040cc0744428dc576e91fb66392/models/tmp4yv_ke1d\n"
          ]
        },
        {
          "output_type": "stream",
          "name": "stderr",
          "text": [
            "\n"
          ]
        },
        {
          "output_type": "stream",
          "name": "stdout",
          "text": [
            "2024-11-03 11:50:05,971 - INFO - Epoch[8] Metrics -- Mean_Dice: 0.8407 \n",
            "2024-11-03 11:50:17,334 - INFO - Epoch: 9/30, Iter: 1/4 -- Loss: 0.3774 \n",
            "2024-11-03 11:50:22,849 - INFO - Epoch: 9/30, Iter: 2/4 -- Loss: 0.3324 \n",
            "2024-11-03 11:50:30,429 - INFO - Epoch: 9/30, Iter: 3/4 -- Loss: 0.3196 \n",
            "2024-11-03 11:50:37,500 - INFO - Epoch: 9/30, Iter: 4/4 -- Loss: 0.3404 \n",
            "2024-11-03 11:50:40,120 - clearml.storage - INFO - Uploading: 55.07MB to /tmp/.clearml.upload_model_dxqfcd6i.tmp\n"
          ]
        },
        {
          "output_type": "stream",
          "name": "stderr",
          "text": [
            "██████████████████████████████▉ 100% | 55.07/55.07 MB [00:01<00:00, 33.40MB/s]: "
          ]
        },
        {
          "output_type": "stream",
          "name": "stdout",
          "text": [
            "2024-11-03 11:50:41,789 - clearml.Task - INFO - Completed model upload to https://files.clear.ml/MONAI%20example/UNet%20segmentation%203d.f40af040cc0744428dc576e91fb66392/models/tmp1sgbsw8n\n"
          ]
        },
        {
          "output_type": "stream",
          "name": "stderr",
          "text": [
            "\n"
          ]
        },
        {
          "output_type": "stream",
          "name": "stdout",
          "text": [
            "2024-11-03 11:50:50,672 - INFO - Epoch[9] Metrics -- Mean_Dice: 0.8287 \n",
            "2024-11-03 11:50:58,292 - INFO - Epoch: 10/30, Iter: 1/4 -- Loss: 0.3937 \n",
            "2024-11-03 11:51:05,655 - INFO - Epoch: 10/30, Iter: 2/4 -- Loss: 0.3274 \n",
            "2024-11-03 11:51:12,897 - INFO - Epoch: 10/30, Iter: 3/4 -- Loss: 0.3010 \n",
            "2024-11-03 11:51:19,664 - INFO - Epoch: 10/30, Iter: 4/4 -- Loss: 0.3529 \n",
            "2024-11-03 11:51:22,203 - clearml.storage - INFO - Uploading: 55.07MB to /tmp/.clearml.upload_model_49l7khvn.tmp\n"
          ]
        },
        {
          "output_type": "stream",
          "name": "stderr",
          "text": [
            "██████████████████████████████▉ 100% | 55.07/55.07 MB [00:01<00:00, 33.54MB/s]: "
          ]
        },
        {
          "output_type": "stream",
          "name": "stdout",
          "text": [
            "2024-11-03 11:51:23,903 - clearml.Task - INFO - Completed model upload to https://files.clear.ml/MONAI%20example/UNet%20segmentation%203d.f40af040cc0744428dc576e91fb66392/models/tmpfc1ojw4h\n"
          ]
        },
        {
          "output_type": "stream",
          "name": "stderr",
          "text": [
            "\n"
          ]
        },
        {
          "output_type": "stream",
          "name": "stdout",
          "text": [
            "2024-11-03 11:51:32,219 - INFO - Epoch[10] Metrics -- Mean_Dice: 0.8563 \n",
            "2024-11-03 11:51:40,434 - INFO - Epoch: 11/30, Iter: 1/4 -- Loss: 0.3481 \n",
            "2024-11-03 11:51:48,601 - INFO - Epoch: 11/30, Iter: 2/4 -- Loss: 0.3132 \n",
            "2024-11-03 11:51:55,119 - INFO - Epoch: 11/30, Iter: 3/4 -- Loss: 0.3301 \n",
            "2024-11-03 11:52:03,294 - INFO - Epoch: 11/30, Iter: 4/4 -- Loss: 0.3040 \n",
            "2024-11-03 11:52:06,141 - clearml.storage - INFO - Uploading: 55.07MB to /tmp/.clearml.upload_model_v3luh3iv.tmp\n"
          ]
        },
        {
          "output_type": "stream",
          "name": "stderr",
          "text": [
            "██████████████████████████████▉ 100% | 55.07/55.07 MB [00:01<00:00, 33.34MB/s]: "
          ]
        },
        {
          "output_type": "stream",
          "name": "stdout",
          "text": [
            "2024-11-03 11:52:07,809 - clearml.Task - INFO - Completed model upload to https://files.clear.ml/MONAI%20example/UNet%20segmentation%203d.f40af040cc0744428dc576e91fb66392/models/tmpo6fndy14\n"
          ]
        },
        {
          "output_type": "stream",
          "name": "stderr",
          "text": [
            "\n"
          ]
        },
        {
          "output_type": "stream",
          "name": "stdout",
          "text": [
            "2024-11-03 11:52:13,719 - INFO - Epoch[11] Metrics -- Mean_Dice: 0.8624 \n",
            "2024-11-03 11:52:25,819 - INFO - Epoch: 12/30, Iter: 1/4 -- Loss: 0.3433 \n",
            "2024-11-03 11:52:31,499 - INFO - Epoch: 12/30, Iter: 2/4 -- Loss: 0.3578 \n",
            "2024-11-03 11:52:38,660 - INFO - Epoch: 12/30, Iter: 3/4 -- Loss: 0.3342 \n",
            "2024-11-03 11:52:46,218 - INFO - Epoch: 12/30, Iter: 4/4 -- Loss: 0.3333 \n",
            "2024-11-03 11:52:48,827 - clearml.storage - INFO - Uploading: 55.07MB to /tmp/.clearml.upload_model_ls9ytjn9.tmp\n"
          ]
        },
        {
          "output_type": "stream",
          "name": "stderr",
          "text": [
            "██████████████████████████████▉ 100% | 55.07/55.07 MB [00:01<00:00, 33.70MB/s]: "
          ]
        },
        {
          "output_type": "stream",
          "name": "stdout",
          "text": [
            "2024-11-03 11:52:50,504 - clearml.Task - INFO - Completed model upload to https://files.clear.ml/MONAI%20example/UNet%20segmentation%203d.f40af040cc0744428dc576e91fb66392/models/tmp0jqthboq\n"
          ]
        },
        {
          "output_type": "stream",
          "name": "stderr",
          "text": [
            "\n"
          ]
        },
        {
          "output_type": "stream",
          "name": "stdout",
          "text": [
            "2024-11-03 11:52:58,170 - INFO - Epoch[12] Metrics -- Mean_Dice: 0.8696 \n",
            "2024-11-03 11:53:06,827 - INFO - Epoch: 13/30, Iter: 1/4 -- Loss: 0.3495 \n",
            "2024-11-03 11:53:14,033 - INFO - Epoch: 13/30, Iter: 2/4 -- Loss: 0.3513 \n",
            "2024-11-03 11:53:21,601 - INFO - Epoch: 13/30, Iter: 3/4 -- Loss: 0.3024 \n",
            "2024-11-03 11:53:27,265 - INFO - Epoch: 13/30, Iter: 4/4 -- Loss: 0.3030 \n",
            "2024-11-03 11:53:30,239 - clearml.storage - INFO - Uploading: 55.07MB to /tmp/.clearml.upload_model_l8dacwit.tmp\n"
          ]
        },
        {
          "output_type": "stream",
          "name": "stderr",
          "text": [
            "██████████████████████████████▉ 100% | 55.07/55.07 MB [00:01<00:00, 33.66MB/s]: "
          ]
        },
        {
          "output_type": "stream",
          "name": "stdout",
          "text": [
            "2024-11-03 11:53:31,914 - clearml.Task - INFO - Completed model upload to https://files.clear.ml/MONAI%20example/UNet%20segmentation%203d.f40af040cc0744428dc576e91fb66392/models/tmpgitxzibt\n"
          ]
        },
        {
          "output_type": "stream",
          "name": "stderr",
          "text": [
            "\n"
          ]
        },
        {
          "output_type": "stream",
          "name": "stdout",
          "text": [
            "2024-11-03 11:53:43,248 - INFO - Epoch[13] Metrics -- Mean_Dice: 0.8745 \n",
            "2024-11-03 11:53:50,685 - INFO - Epoch: 14/30, Iter: 1/4 -- Loss: 0.3559 \n",
            "2024-11-03 11:53:59,571 - INFO - Epoch: 14/30, Iter: 2/4 -- Loss: 0.3244 \n",
            "2024-11-03 11:54:05,860 - INFO - Epoch: 14/30, Iter: 3/4 -- Loss: 0.3157 \n",
            "2024-11-03 11:54:13,136 - INFO - Epoch: 14/30, Iter: 4/4 -- Loss: 0.2869 \n",
            "2024-11-03 11:54:15,884 - clearml.storage - INFO - Uploading: 55.07MB to /tmp/.clearml.upload_model_zh1ap_0t.tmp\n"
          ]
        },
        {
          "output_type": "stream",
          "name": "stderr",
          "text": [
            "██████████████████████████████▉ 100% | 55.07/55.07 MB [00:01<00:00, 33.55MB/s]: "
          ]
        },
        {
          "output_type": "stream",
          "name": "stdout",
          "text": [
            "2024-11-03 11:54:17,550 - clearml.Task - INFO - Completed model upload to https://files.clear.ml/MONAI%20example/UNet%20segmentation%203d.f40af040cc0744428dc576e91fb66392/models/tmpd3i1o1ae\n"
          ]
        },
        {
          "output_type": "stream",
          "name": "stderr",
          "text": [
            "\n"
          ]
        },
        {
          "output_type": "stream",
          "name": "stdout",
          "text": [
            "2024-11-03 11:54:23,414 - INFO - Epoch[14] Metrics -- Mean_Dice: 0.8743 \n",
            "2024-11-03 11:54:33,974 - INFO - Epoch: 15/30, Iter: 1/4 -- Loss: 0.3249 \n",
            "2024-11-03 11:54:39,730 - INFO - Epoch: 15/30, Iter: 2/4 -- Loss: 0.3186 \n",
            "2024-11-03 11:54:47,076 - INFO - Epoch: 15/30, Iter: 3/4 -- Loss: 0.3117 \n",
            "2024-11-03 11:54:55,464 - INFO - Epoch: 15/30, Iter: 4/4 -- Loss: 0.3420 \n",
            "2024-11-03 11:54:58,068 - clearml.storage - INFO - Uploading: 55.07MB to /tmp/.clearml.upload_model_04holtqe.tmp\n"
          ]
        },
        {
          "output_type": "stream",
          "name": "stderr",
          "text": [
            "██████████████████████████████▉ 100% | 55.07/55.07 MB [00:01<00:00, 34.10MB/s]: "
          ]
        },
        {
          "output_type": "stream",
          "name": "stdout",
          "text": [
            "2024-11-03 11:54:59,709 - clearml.Task - INFO - Completed model upload to https://files.clear.ml/MONAI%20example/UNet%20segmentation%203d.f40af040cc0744428dc576e91fb66392/models/tmpvjnff7nq\n"
          ]
        },
        {
          "output_type": "stream",
          "name": "stderr",
          "text": [
            "\n"
          ]
        },
        {
          "output_type": "stream",
          "name": "stdout",
          "text": [
            "2024-11-03 11:55:06,113 - INFO - Epoch[15] Metrics -- Mean_Dice: 0.8892 \n",
            "2024-11-03 11:55:14,980 - INFO - Epoch: 16/30, Iter: 1/4 -- Loss: 0.2775 \n",
            "2024-11-03 11:55:22,239 - INFO - Epoch: 16/30, Iter: 2/4 -- Loss: 0.3047 \n",
            "2024-11-03 11:55:30,763 - INFO - Epoch: 16/30, Iter: 3/4 -- Loss: 0.3316 \n",
            "2024-11-03 11:55:36,227 - INFO - Epoch: 16/30, Iter: 4/4 -- Loss: 0.3086 \n",
            "2024-11-03 11:55:38,848 - clearml.storage - INFO - Uploading: 55.07MB to /tmp/.clearml.upload_model_3glc0rik.tmp\n"
          ]
        },
        {
          "output_type": "stream",
          "name": "stderr",
          "text": [
            "██████████████████████████████▉ 100% | 55.07/55.07 MB [00:01<00:00, 31.59MB/s]: "
          ]
        },
        {
          "output_type": "stream",
          "name": "stdout",
          "text": [
            "2024-11-03 11:55:40,611 - clearml.Task - INFO - Completed model upload to https://files.clear.ml/MONAI%20example/UNet%20segmentation%203d.f40af040cc0744428dc576e91fb66392/models/tmpwr5e602y\n"
          ]
        },
        {
          "output_type": "stream",
          "name": "stderr",
          "text": [
            "\n"
          ]
        },
        {
          "output_type": "stream",
          "name": "stdout",
          "text": [
            "2024-11-03 11:55:50,572 - INFO - Epoch[16] Metrics -- Mean_Dice: 0.8945 \n",
            "2024-11-03 11:55:59,003 - INFO - Epoch: 17/30, Iter: 1/4 -- Loss: 0.3422 \n",
            "2024-11-03 11:56:06,786 - INFO - Epoch: 17/30, Iter: 2/4 -- Loss: 0.3417 \n",
            "2024-11-03 11:56:13,635 - INFO - Epoch: 17/30, Iter: 3/4 -- Loss: 0.2559 \n",
            "2024-11-03 11:56:19,250 - INFO - Epoch: 17/30, Iter: 4/4 -- Loss: 0.3059 \n",
            "2024-11-03 11:56:21,900 - clearml.storage - INFO - Uploading: 55.07MB to /tmp/.clearml.upload_model_ybrkqi7a.tmp\n"
          ]
        },
        {
          "output_type": "stream",
          "name": "stderr",
          "text": [
            "██████████████████████████████▉ 100% | 55.07/55.07 MB [00:01<00:00, 32.62MB/s]: "
          ]
        },
        {
          "output_type": "stream",
          "name": "stdout",
          "text": [
            "2024-11-03 11:56:23,611 - clearml.Task - INFO - Completed model upload to https://files.clear.ml/MONAI%20example/UNet%20segmentation%203d.f40af040cc0744428dc576e91fb66392/models/tmpdbi4p0es\n"
          ]
        },
        {
          "output_type": "stream",
          "name": "stderr",
          "text": [
            "\n"
          ]
        },
        {
          "output_type": "stream",
          "name": "stdout",
          "text": [
            "2024-11-03 11:56:35,020 - INFO - Epoch[17] Metrics -- Mean_Dice: 0.9017 \n",
            "2024-11-03 11:56:42,150 - INFO - Epoch: 18/30, Iter: 1/4 -- Loss: 0.2692 \n",
            "2024-11-03 11:56:50,109 - INFO - Epoch: 18/30, Iter: 2/4 -- Loss: 0.2857 \n",
            "2024-11-03 11:56:56,982 - INFO - Epoch: 18/30, Iter: 3/4 -- Loss: 0.3032 \n",
            "2024-11-03 11:57:03,579 - INFO - Epoch: 18/30, Iter: 4/4 -- Loss: 0.3402 \n",
            "2024-11-03 11:57:06,371 - clearml.storage - INFO - Uploading: 55.07MB to /tmp/.clearml.upload_model_zhki8voy.tmp\n"
          ]
        },
        {
          "output_type": "stream",
          "name": "stderr",
          "text": [
            "██████████████████████████████▉ 100% | 55.07/55.07 MB [00:01<00:00, 33.10MB/s]: "
          ]
        },
        {
          "output_type": "stream",
          "name": "stdout",
          "text": [
            "2024-11-03 11:57:08,071 - clearml.Task - INFO - Completed model upload to https://files.clear.ml/MONAI%20example/UNet%20segmentation%203d.f40af040cc0744428dc576e91fb66392/models/tmpg2s139bj\n"
          ]
        },
        {
          "output_type": "stream",
          "name": "stderr",
          "text": [
            "\n"
          ]
        },
        {
          "output_type": "stream",
          "name": "stdout",
          "text": [
            "2024-11-03 11:57:14,759 - INFO - Epoch[18] Metrics -- Mean_Dice: 0.9062 \n",
            "2024-11-03 11:57:24,831 - INFO - Epoch: 19/30, Iter: 1/4 -- Loss: 0.3064 \n",
            "2024-11-03 11:57:31,326 - INFO - Epoch: 19/30, Iter: 2/4 -- Loss: 0.2960 \n",
            "2024-11-03 11:57:38,484 - INFO - Epoch: 19/30, Iter: 3/4 -- Loss: 0.2768 \n",
            "2024-11-03 11:57:47,458 - INFO - Epoch: 19/30, Iter: 4/4 -- Loss: 0.2808 \n",
            "2024-11-03 11:57:50,078 - clearml.storage - INFO - Uploading: 55.07MB to /tmp/.clearml.upload_model_sft_2l31.tmp\n"
          ]
        },
        {
          "output_type": "stream",
          "name": "stderr",
          "text": [
            "██████████████████████████████▉ 100% | 55.07/55.07 MB [00:01<00:00, 34.19MB/s]: "
          ]
        },
        {
          "output_type": "stream",
          "name": "stdout",
          "text": [
            "2024-11-03 11:57:51,717 - clearml.Task - INFO - Completed model upload to https://files.clear.ml/MONAI%20example/UNet%20segmentation%203d.f40af040cc0744428dc576e91fb66392/models/tmpjbg63hs4\n"
          ]
        },
        {
          "output_type": "stream",
          "name": "stderr",
          "text": [
            "\n"
          ]
        },
        {
          "output_type": "stream",
          "name": "stdout",
          "text": [
            "2024-11-03 11:57:57,747 - INFO - Epoch[19] Metrics -- Mean_Dice: 0.9091 \n",
            "2024-11-03 11:58:08,970 - INFO - Epoch: 20/30, Iter: 1/4 -- Loss: 0.2766 \n",
            "2024-11-03 11:58:15,099 - INFO - Epoch: 20/30, Iter: 2/4 -- Loss: 0.2802 \n",
            "2024-11-03 11:58:23,241 - INFO - Epoch: 20/30, Iter: 3/4 -- Loss: 0.3175 \n",
            "2024-11-03 11:58:30,308 - INFO - Epoch: 20/30, Iter: 4/4 -- Loss: 0.2675 \n",
            "2024-11-03 11:58:32,971 - clearml.storage - INFO - Uploading: 55.07MB to /tmp/.clearml.upload_model_r9wrellc.tmp\n"
          ]
        },
        {
          "output_type": "stream",
          "name": "stderr",
          "text": [
            "██████████████████████████████▉ 100% | 55.07/55.07 MB [00:01<00:00, 33.54MB/s]: "
          ]
        },
        {
          "output_type": "stream",
          "name": "stdout",
          "text": [
            "2024-11-03 11:58:34,636 - clearml.Task - INFO - Completed model upload to https://files.clear.ml/MONAI%20example/UNet%20segmentation%203d.f40af040cc0744428dc576e91fb66392/models/tmp2g22jou9\n"
          ]
        },
        {
          "output_type": "stream",
          "name": "stderr",
          "text": [
            "\n"
          ]
        },
        {
          "output_type": "stream",
          "name": "stdout",
          "text": [
            "2024-11-03 11:58:42,790 - INFO - Epoch[20] Metrics -- Mean_Dice: 0.9141 \n",
            "2024-11-03 11:58:51,044 - INFO - Epoch: 21/30, Iter: 1/4 -- Loss: 0.2523 \n",
            "2024-11-03 11:58:58,682 - INFO - Epoch: 21/30, Iter: 2/4 -- Loss: 0.2546 \n",
            "2024-11-03 11:59:05,855 - INFO - Epoch: 21/30, Iter: 3/4 -- Loss: 0.3064 \n",
            "2024-11-03 11:59:11,445 - INFO - Epoch: 21/30, Iter: 4/4 -- Loss: 0.2833 \n",
            "2024-11-03 11:59:14,079 - clearml.storage - INFO - Uploading: 55.07MB to /tmp/.clearml.upload_model__48wpymu.tmp\n"
          ]
        },
        {
          "output_type": "stream",
          "name": "stderr",
          "text": [
            "██████████████████████████████▉ 100% | 55.07/55.07 MB [00:01<00:00, 35.17MB/s]: "
          ]
        },
        {
          "output_type": "stream",
          "name": "stdout",
          "text": [
            "2024-11-03 11:59:15,669 - clearml.Task - INFO - Completed model upload to https://files.clear.ml/MONAI%20example/UNet%20segmentation%203d.f40af040cc0744428dc576e91fb66392/models/tmptb94kcrp\n"
          ]
        },
        {
          "output_type": "stream",
          "name": "stderr",
          "text": [
            "\n"
          ]
        },
        {
          "output_type": "stream",
          "name": "stdout",
          "text": [
            "2024-11-03 11:59:26,571 - INFO - Epoch[21] Metrics -- Mean_Dice: 0.9163 \n",
            "2024-11-03 11:59:34,153 - INFO - Epoch: 22/30, Iter: 1/4 -- Loss: 0.2704 \n",
            "2024-11-03 11:59:43,101 - INFO - Epoch: 22/30, Iter: 2/4 -- Loss: 0.2603 \n",
            "2024-11-03 11:59:49,029 - INFO - Epoch: 22/30, Iter: 3/4 -- Loss: 0.3073 \n",
            "2024-11-03 11:59:55,920 - INFO - Epoch: 22/30, Iter: 4/4 -- Loss: 0.3282 \n",
            "2024-11-03 11:59:58,769 - clearml.storage - INFO - Uploading: 55.07MB to /tmp/.clearml.upload_model_rssgng0h.tmp\n"
          ]
        },
        {
          "output_type": "stream",
          "name": "stderr",
          "text": [
            "██████████████████████████████▉ 100% | 55.07/55.07 MB [00:01<00:00, 32.70MB/s]: "
          ]
        },
        {
          "output_type": "stream",
          "name": "stdout",
          "text": [
            "2024-11-03 12:00:00,478 - clearml.Task - INFO - Completed model upload to https://files.clear.ml/MONAI%20example/UNet%20segmentation%203d.f40af040cc0744428dc576e91fb66392/models/tmpd48gh9zf\n"
          ]
        },
        {
          "output_type": "stream",
          "name": "stderr",
          "text": [
            "\n"
          ]
        },
        {
          "output_type": "stream",
          "name": "stdout",
          "text": [
            "2024-11-03 12:00:06,229 - INFO - Epoch[22] Metrics -- Mean_Dice: 0.9202 \n",
            "2024-11-03 12:00:16,854 - INFO - Epoch: 23/30, Iter: 1/4 -- Loss: 0.2816 \n",
            "2024-11-03 12:00:22,642 - INFO - Epoch: 23/30, Iter: 2/4 -- Loss: 0.2979 \n",
            "2024-11-03 12:00:29,333 - INFO - Epoch: 23/30, Iter: 3/4 -- Loss: 0.2579 \n",
            "2024-11-03 12:00:38,195 - INFO - Epoch: 23/30, Iter: 4/4 -- Loss: 0.2858 \n",
            "2024-11-03 12:00:40,851 - clearml.storage - INFO - Uploading: 55.07MB to /tmp/.clearml.upload_model_gqzjizdb.tmp\n"
          ]
        },
        {
          "output_type": "stream",
          "name": "stderr",
          "text": [
            "██████████████████████████████▉ 100% | 55.07/55.07 MB [00:01<00:00, 33.12MB/s]: "
          ]
        },
        {
          "output_type": "stream",
          "name": "stdout",
          "text": [
            "2024-11-03 12:00:42,541 - clearml.Task - INFO - Completed model upload to https://files.clear.ml/MONAI%20example/UNet%20segmentation%203d.f40af040cc0744428dc576e91fb66392/models/tmp9w_eyi_m\n"
          ]
        },
        {
          "output_type": "stream",
          "name": "stderr",
          "text": [
            "\n"
          ]
        },
        {
          "output_type": "stream",
          "name": "stdout",
          "text": [
            "2024-11-03 12:00:49,017 - INFO - Epoch[23] Metrics -- Mean_Dice: 0.9211 \n",
            "2024-11-03 12:00:57,070 - INFO - Epoch: 24/30, Iter: 1/4 -- Loss: 0.3018 \n",
            "2024-11-03 12:01:05,159 - INFO - Epoch: 24/30, Iter: 2/4 -- Loss: 0.2684 \n",
            "2024-11-03 12:01:13,091 - INFO - Epoch: 24/30, Iter: 3/4 -- Loss: 0.2623 \n",
            "2024-11-03 12:01:18,659 - INFO - Epoch: 24/30, Iter: 4/4 -- Loss: 0.2654 \n",
            "2024-11-03 12:01:21,350 - clearml.storage - INFO - Uploading: 55.07MB to /tmp/.clearml.upload_model_yx7_1tkb.tmp\n"
          ]
        },
        {
          "output_type": "stream",
          "name": "stderr",
          "text": [
            "██████████████████████████████▉ 100% | 55.07/55.07 MB [00:01<00:00, 33.37MB/s]: "
          ]
        },
        {
          "output_type": "stream",
          "name": "stdout",
          "text": [
            "2024-11-03 12:01:23,039 - clearml.Task - INFO - Completed model upload to https://files.clear.ml/MONAI%20example/UNet%20segmentation%203d.f40af040cc0744428dc576e91fb66392/models/tmpuzx4y9vg\n"
          ]
        },
        {
          "output_type": "stream",
          "name": "stderr",
          "text": [
            "\n"
          ]
        },
        {
          "output_type": "stream",
          "name": "stdout",
          "text": [
            "2024-11-03 12:01:33,819 - INFO - Epoch[24] Metrics -- Mean_Dice: 0.9214 \n",
            "2024-11-03 12:01:41,991 - INFO - Epoch: 25/30, Iter: 1/4 -- Loss: 0.2605 \n",
            "2024-11-03 12:01:50,807 - INFO - Epoch: 25/30, Iter: 2/4 -- Loss: 0.2405 \n",
            "2024-11-03 12:01:57,569 - INFO - Epoch: 25/30, Iter: 3/4 -- Loss: 0.2589 \n",
            "2024-11-03 12:02:03,860 - INFO - Epoch: 25/30, Iter: 4/4 -- Loss: 0.2734 \n",
            "2024-11-03 12:02:06,771 - clearml.storage - INFO - Uploading: 55.07MB to /tmp/.clearml.upload_model_v7bu5mc7.tmp\n"
          ]
        },
        {
          "output_type": "stream",
          "name": "stderr",
          "text": [
            "██████████████████████████████▉ 100% | 55.07/55.07 MB [00:01<00:00, 34.12MB/s]: "
          ]
        },
        {
          "output_type": "stream",
          "name": "stdout",
          "text": [
            "2024-11-03 12:02:08,406 - clearml.Task - INFO - Completed model upload to https://files.clear.ml/MONAI%20example/UNet%20segmentation%203d.f40af040cc0744428dc576e91fb66392/models/tmpfbqy5a65\n"
          ]
        },
        {
          "output_type": "stream",
          "name": "stderr",
          "text": [
            "\n"
          ]
        },
        {
          "output_type": "stream",
          "name": "stdout",
          "text": [
            "2024-11-03 12:02:16,329 - INFO - Epoch[25] Metrics -- Mean_Dice: 0.9225 \n",
            "2024-11-03 12:02:27,239 - INFO - Epoch: 26/30, Iter: 1/4 -- Loss: 0.2613 \n",
            "2024-11-03 12:02:33,304 - INFO - Epoch: 26/30, Iter: 2/4 -- Loss: 0.2493 \n",
            "2024-11-03 12:02:39,360 - INFO - Epoch: 26/30, Iter: 3/4 -- Loss: 0.2982 \n",
            "2024-11-03 12:02:48,673 - INFO - Epoch: 26/30, Iter: 4/4 -- Loss: 0.2563 \n",
            "2024-11-03 12:02:51,297 - clearml.storage - INFO - Uploading: 55.07MB to /tmp/.clearml.upload_model_f9xaaztz.tmp\n"
          ]
        },
        {
          "output_type": "stream",
          "name": "stderr",
          "text": [
            "██████████████████████████████▉ 100% | 55.07/55.07 MB [00:01<00:00, 34.13MB/s]: "
          ]
        },
        {
          "output_type": "stream",
          "name": "stdout",
          "text": [
            "2024-11-03 12:02:52,926 - clearml.Task - INFO - Completed model upload to https://files.clear.ml/MONAI%20example/UNet%20segmentation%203d.f40af040cc0744428dc576e91fb66392/models/tmpzvq09gxd\n"
          ]
        },
        {
          "output_type": "stream",
          "name": "stderr",
          "text": [
            "\n"
          ]
        },
        {
          "output_type": "stream",
          "name": "stdout",
          "text": [
            "2024-11-03 12:03:00,141 - INFO - Epoch[26] Metrics -- Mean_Dice: 0.9255 \n",
            "2024-11-03 12:03:08,260 - INFO - Epoch: 27/30, Iter: 1/4 -- Loss: 0.2835 \n",
            "2024-11-03 12:03:15,117 - INFO - Epoch: 27/30, Iter: 2/4 -- Loss: 0.2717 \n"
          ]
        }
      ],
      "source": [
        "# create a training data loader\n",
        "train_ds = ArrayDataset(images[:20], imtrans, segs[:20], segtrans)\n",
        "train_loader = DataLoader(\n",
        "    train_ds,\n",
        "    batch_size=5,\n",
        "    shuffle=True,\n",
        "    num_workers=2,\n",
        "    # pin_memory=torch.cuda.is_available(),\n",
        "    pin_memory=False,\n",
        ")\n",
        "\n",
        "max_epochs = 30\n",
        "trainer.run(train_loader, max_epochs)"
      ]
    },
    {
      "cell_type": "markdown",
      "metadata": {
        "id": "7bPDjtbE7sCP"
      },
      "source": [
        "## Visualize results\n",
        "\n",
        "ClearML captures the models, scalar plots, and images logged with `ModelCheckpoint`, `ClearMLImageHandler`, and `ClearMLStatsHandler` respectively. View them in ClearML's web UI. When a task is created, the console output displays the task ID and a link to the task's page in the ClearML web UI.\n",
        "\n",
        "### Models\n",
        "All model checkpoints logged with ModelCheckpoint can be viewed in the task's **Artifacts** tab.\n",
        "\n",
        "\n",
        "\n"
      ]
    },
    {
      "cell_type": "markdown",
      "metadata": {
        "id": "Uya6hN7At-C6"
      },
      "source": [
        "![MONAI ClearML Models](https://github.com/Project-MONAI/tutorials/blob/main/figures/monai_clearml_models.png?raw=1)"
      ]
    },
    {
      "cell_type": "markdown",
      "metadata": {
        "id": "kLs1tEXRt-Pp"
      },
      "source": [
        "### Scalars\n",
        "\n",
        "View the logged metric plots in the task's **Scalars** tab.\n",
        "\n"
      ]
    },
    {
      "cell_type": "markdown",
      "metadata": {
        "id": "DCLhp4e2uKsd"
      },
      "source": [
        "![MONAI ClearML scalars.png](https://github.com/Project-MONAI/tutorials/blob/main/figures/monai_clearml_scalars.png?raw=1)"
      ]
    },
    {
      "cell_type": "markdown",
      "metadata": {
        "id": "yjfeorgJuLUN"
      },
      "source": [
        "### Debug Samples\n",
        "\n",
        "View all images logged through ClearMLImageHandler in the task's **Debug Samples** tab. You can view the samples by metric at any iteration."
      ]
    },
    {
      "cell_type": "markdown",
      "metadata": {
        "id": "AFLJauKxt-Yy"
      },
      "source": [
        "![MONAI ClearML Debug Samples.png](https://github.com/Project-MONAI/tutorials/blob/main/figures/monai_clearml_debug_samples.png?raw=1)"
      ]
    },
    {
      "cell_type": "markdown",
      "metadata": {
        "id": "UFlaQUTXGTBv"
      },
      "source": [
        "## Cleanup data directory"
      ]
    },
    {
      "cell_type": "code",
      "execution_count": null,
      "metadata": {
        "id": "w6JE9lVQGTBw"
      },
      "outputs": [],
      "source": [
        "if directory is None:\n",
        "    shutil.rmtree(root_dir)"
      ]
    },
    {
      "cell_type": "markdown",
      "metadata": {
        "id": "sT-5Zxg_7Ajm"
      },
      "source": [
        "\n",
        "## Close the ClearML Task\n",
        "This changes the task status to `Completed`."
      ]
    },
    {
      "cell_type": "code",
      "execution_count": null,
      "metadata": {
        "id": "BAD6ACGGOLU3"
      },
      "outputs": [],
      "source": [
        "val_clearml_image_handler.clearml_task.close()"
      ]
    }
  ],
  "metadata": {
    "colab": {
      "provenance": [],
      "gpuType": "T4",
      "include_colab_link": true
    },
    "kernelspec": {
      "display_name": "Python 3",
      "name": "python3"
    },
    "language_info": {
      "codemirror_mode": {
        "name": "ipython",
        "version": 3
      },
      "file_extension": ".py",
      "mimetype": "text/x-python",
      "name": "python",
      "nbconvert_exporter": "python",
      "pygments_lexer": "ipython3",
      "version": "3.8.13"
    },
    "accelerator": "GPU"
  },
  "nbformat": 4,
  "nbformat_minor": 0
}
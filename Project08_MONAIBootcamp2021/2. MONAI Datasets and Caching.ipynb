{
  "nbformat": 4,
  "nbformat_minor": 0,
  "metadata": {
    "kernelspec": {
      "display_name": "Python [conda env:monai]",
      "language": "python",
      "name": "conda-env-monai-py"
    },
    "language_info": {
      "codemirror_mode": {
        "name": "ipython",
        "version": 3
      },
      "file_extension": ".py",
      "mimetype": "text/x-python",
      "name": "python",
      "nbconvert_exporter": "python",
      "pygments_lexer": "ipython3",
      "version": "3.8.5"
    },
    "colab": {
      "name": "2. MONAI Datasets and Caching.ipynb",
      "provenance": [],
      "include_colab_link": true
    },
    "accelerator": "GPU"
  },
  "cells": [
    {
      "cell_type": "markdown",
      "metadata": {
        "id": "view-in-github",
        "colab_type": "text"
      },
      "source": [
        "<a href=\"https://colab.research.google.com/github/btho733/Belvin-Personal_Projects/blob/master/Project08_MONAIBootcamp2021/2.%20MONAI%20Datasets%20and%20Caching.ipynb\" target=\"_parent\"><img src=\"https://colab.research.google.com/assets/colab-badge.svg\" alt=\"Open In Colab\"/></a>"
      ]
    },
    {
      "cell_type": "markdown",
      "metadata": {
        "id": "KmXJ8BtxS7VB"
      },
      "source": [
        "<img src=\"https://github.com/Project-MONAI/MONAIBootcamp2021/blob/master/day1/monai.png?raw=1\" style=\"width: 700px;\"/>\n",
        "\n",
        "Welcome to the MONAI bootcamp! This notebook will introduce you to the MONAI Caching, Datasets and Network options, and then hands-on  and architecture, and then hands-on with implmenting SmartCache on a test dataset."
      ]
    },
    {
      "cell_type": "markdown",
      "metadata": {
        "id": "jy4emk1-S7VF"
      },
      "source": [
        "### Using Google Colab\n",
        "\n",
        "This notebook has the pip command for installing MONAI and will be added to any subsequent notebook.\n",
        "\n",
        "**Required Packages for Colab Execution**\n",
        "\n",
        "Execute the following cell to install MONAI the first time a colab notebook is run:\n"
      ]
    },
    {
      "cell_type": "code",
      "metadata": {
        "id": "MGMM8ShIS7VG"
      },
      "source": [
        "!pip install -qU \"monai[ignite, nibabel, torchvision, tqdm]==0.6.0\""
      ],
      "execution_count": 2,
      "outputs": []
    },
    {
      "cell_type": "markdown",
      "metadata": {
        "id": "gAcL-9aAS7VI"
      },
      "source": [
        "**Enabling GPU Support**\n",
        "\n",
        "To use GPU resources through Colab, change the runtime to GPU:\n",
        "\n",
        "1. From the **\"Runtime\"** menu select **\"Change Runtime Type\"**\n",
        "2. Choose **\"GPU\"** from the drop-down menu\n",
        "3. Click **\"SAVE\"**\n",
        "\n",
        "This will reset the notebook and probably ask you if you are a robot (these instructions assume you are not). Running\n",
        "\n",
        "**!nvidia-smi**\n",
        "\n",
        "in a cell will verify this has worked and show you what kind of hardware you have access to.    "
      ]
    },
    {
      "cell_type": "code",
      "metadata": {
        "id": "bNsjnOHWS7VI",
        "outputId": "af9e0035-dd6d-4f8a-e85b-2cc37eaa8d4e",
        "colab": {
          "base_uri": "https://localhost:8080/"
        }
      },
      "source": [
        "!nvidia-smi"
      ],
      "execution_count": 3,
      "outputs": [
        {
          "output_type": "stream",
          "name": "stdout",
          "text": [
            "Wed Sep 22 16:20:59 2021       \n",
            "+-----------------------------------------------------------------------------+\n",
            "| NVIDIA-SMI 470.63.01    Driver Version: 460.32.03    CUDA Version: 11.2     |\n",
            "|-------------------------------+----------------------+----------------------+\n",
            "| GPU  Name        Persistence-M| Bus-Id        Disp.A | Volatile Uncorr. ECC |\n",
            "| Fan  Temp  Perf  Pwr:Usage/Cap|         Memory-Usage | GPU-Util  Compute M. |\n",
            "|                               |                      |               MIG M. |\n",
            "|===============================+======================+======================|\n",
            "|   0  Tesla K80           Off  | 00000000:00:04.0 Off |                    0 |\n",
            "| N/A   48C    P8    31W / 149W |      0MiB / 11441MiB |      0%      Default |\n",
            "|                               |                      |                  N/A |\n",
            "+-------------------------------+----------------------+----------------------+\n",
            "                                                                               \n",
            "+-----------------------------------------------------------------------------+\n",
            "| Processes:                                                                  |\n",
            "|  GPU   GI   CI        PID   Type   Process name                  GPU Memory |\n",
            "|        ID   ID                                                   Usage      |\n",
            "|=============================================================================|\n",
            "|  No running processes found                                                 |\n",
            "+-----------------------------------------------------------------------------+\n"
          ]
        }
      ]
    },
    {
      "cell_type": "markdown",
      "metadata": {
        "id": "xkLzJk3IS7VI"
      },
      "source": [
        "# Understanding MONAI Datasets, Caching, and Networks\n",
        "---"
      ]
    },
    {
      "cell_type": "markdown",
      "metadata": {
        "id": "SEasWahQS7VJ"
      },
      "source": [
        "Users often need to train the model with many (potentially thousands of) epochs over the data to achieve the desired model quality. A native PyTorch implementation may repeatedly load data and run the same preprocessing steps for every epoch during training, which can be time-consuming and unnecessary, especially when the medical image volumes are large.  By utilizing Dataset Caching, you can reduce the amount of time your system takes to load this data and preprocess it, reducing your overall training time.\n",
        "\n",
        "Network functionality represents a significant design opportunity for MONAI. Pytorch is very much unopinionated in how networks are defined. It provides Module as a base class to create a network and a few methods that must be implemented. Still, there is no prescribed pattern nor much helper functionality for initializing networks.\n",
        "\n",
        "The lack of helper functionality leaves a lot of room for defining some beneficial 'best practice' patterns for constructing new networks in MONAI. Although trivial, inflexible network implementations are easy enough, but we can give users a toolset that makes it much easier to build well-engineered, flexible networks and demonstrate their value by committing to use them in the networks that we build.\n",
        "\n",
        "## MONAI Datasets, Caching, and Networks\n",
        "\n",
        "To help you understand more about MONAI Datasets and Caching options, this guide will help you answer five key questions:\n",
        "\n",
        "1. **What is a MONAI Dataset?**\n",
        "2. **What is Dataset Caching and how do I use it?**\n",
        "3. **What common datasets are provided by MONAI?**\n",
        "4. **What Network and Network components does MONAI provide?**\n",
        "5. **How do you use MONAI Layers?**\n",
        "6. **How do you use these flexible layers to create a network?**\n",
        "7. **Which Networks are included with MONAI?**"
      ]
    },
    {
      "cell_type": "markdown",
      "metadata": {
        "id": "XomkkdokS7VK"
      },
      "source": [
        "\n",
        "Let's get started by importing our dependencies.  "
      ]
    },
    {
      "cell_type": "code",
      "metadata": {
        "id": "33w98cFHS7VK",
        "outputId": "576cea32-62be-4555-b543-9e91efa36edf",
        "colab": {
          "base_uri": "https://localhost:8080/"
        }
      },
      "source": [
        "import time\n",
        "import torch\n",
        "\n",
        "import monai\n",
        "from monai.config import print_config\n",
        "from monai.data import Dataset, DataLoader, CacheDataset, PersistentDataset, SmartCacheDataset\n",
        "from monai.apps import DecathlonDataset\n",
        "from monai.transforms import (\n",
        "    MapTransform,\n",
        ")\n",
        "\n",
        "print_config()"
      ],
      "execution_count": 4,
      "outputs": [
        {
          "output_type": "stream",
          "name": "stdout",
          "text": [
            "MONAI version: 0.6.0\n",
            "Numpy version: 1.19.5\n",
            "Pytorch version: 1.9.0+cu102\n",
            "MONAI flags: HAS_EXT = False, USE_COMPILED = False\n",
            "MONAI rev id: 0ad9e73639e30f4f1af5a1f4a45da9cb09930179\n",
            "\n",
            "Optional dependencies:\n",
            "Pytorch Ignite version: 0.4.5\n",
            "Nibabel version: 3.0.2\n",
            "scikit-image version: 0.16.2\n",
            "Pillow version: 7.1.2\n",
            "Tensorboard version: 2.6.0\n",
            "gdown version: 3.6.4\n",
            "TorchVision version: 0.10.0+cu102\n",
            "ITK version: NOT INSTALLED or UNKNOWN VERSION.\n",
            "tqdm version: 4.62.2\n",
            "lmdb version: 0.99\n",
            "psutil version: 5.4.8\n",
            "pandas version: 1.1.5\n",
            "einops version: NOT INSTALLED or UNKNOWN VERSION.\n",
            "\n",
            "For details about installing the optional dependencies, please visit:\n",
            "    https://docs.monai.io/en/latest/installation.html#installing-the-recommended-dependencies\n",
            "\n"
          ]
        }
      ]
    },
    {
      "cell_type": "markdown",
      "metadata": {
        "id": "jDFFrl_PS7VL"
      },
      "source": [
        "## **1. What is a MONAI Dataset?**\n"
      ]
    },
    {
      "cell_type": "markdown",
      "metadata": {
        "id": "U5IJg1M_S7VM"
      },
      "source": [
        "A MONAI Dataset is a generic dataset with a __len__ property, __getitem__ property, and an optional callable data transform when fetching a data sample.\n",
        "\n",
        "We'll start by initializing some generic data, calling the Dataset class with the generic data, and specifying None for our transforms."
      ]
    },
    {
      "cell_type": "code",
      "metadata": {
        "id": "Nvsl1MTBS7VM",
        "outputId": "2ca467ea-2880-4408-a585-07b94b350aa3",
        "colab": {
          "base_uri": "https://localhost:8080/"
        }
      },
      "source": [
        "items = [{\"data\": 4}, \n",
        "         {\"data\": 9}, \n",
        "         {\"data\": 3}, \n",
        "         {\"data\": 7}, \n",
        "         {\"data\": 1},\n",
        "         {\"data\": 2},\n",
        "         {\"data\": 5}]\n",
        "dataset = monai.data.Dataset(items, transform=None)\n",
        "\n",
        "print(f\"Length of dataset is {len(dataset)}\")\n",
        "for item in dataset:\n",
        "    print(item)"
      ],
      "execution_count": 5,
      "outputs": [
        {
          "output_type": "stream",
          "name": "stdout",
          "text": [
            "Length of dataset is 7\n",
            "{'data': 4}\n",
            "{'data': 9}\n",
            "{'data': 3}\n",
            "{'data': 7}\n",
            "{'data': 1}\n",
            "{'data': 2}\n",
            "{'data': 5}\n"
          ]
        }
      ]
    },
    {
      "cell_type": "markdown",
      "metadata": {
        "id": "mezz_zLNS7VN"
      },
      "source": [
        "#### Compatible with the PyTorch DataLoader\n",
        "\n",
        "MONAI functionality should be compatible with the PyTorch DataLoader, although free to subclass from it if there is additional functionality that we consider key, which cannot be realized with the standard DataLoader class."
      ]
    },
    {
      "cell_type": "code",
      "metadata": {
        "id": "TYYPBI_pS7VN",
        "outputId": "cef7f063-0541-48c9-a064-09f5f0489b25",
        "colab": {
          "base_uri": "https://localhost:8080/"
        }
      },
      "source": [
        "for item in torch.utils.data.DataLoader(dataset, batch_size=2):\n",
        "    print(item)"
      ],
      "execution_count": 6,
      "outputs": [
        {
          "output_type": "stream",
          "name": "stdout",
          "text": [
            "{'data': tensor([4, 9])}\n",
            "{'data': tensor([3, 7])}\n",
            "{'data': tensor([1, 2])}\n",
            "{'data': tensor([5])}\n"
          ]
        }
      ]
    },
    {
      "cell_type": "markdown",
      "metadata": {
        "id": "V1qNzE8zS7VN"
      },
      "source": [
        "### Load items with a customized transform\n",
        "\n",
        "We'll create a custom transform called `SquareIt`, which will replace the corresponding value of the input's `keys` with a squared value. In our case, `SquareIt(keys='data')` will apply the square transform to the value of `x['data']`."
      ]
    },
    {
      "cell_type": "code",
      "metadata": {
        "id": "jSZs0e1_S7VO",
        "outputId": "8788953e-8400-432e-9500-d3acabcdf617",
        "colab": {
          "base_uri": "https://localhost:8080/"
        }
      },
      "source": [
        "class SquareIt(MapTransform):\n",
        "    def __init__(self, keys):\n",
        "        MapTransform.__init__(self, keys)\n",
        "        print(f\"keys to square it: {self.keys}\")\n",
        "        \n",
        "    def __call__(self, x):\n",
        "        key = self.keys[0]\n",
        "        data = x[key]\n",
        "        output = {key: data ** 2}\n",
        "        return output\n",
        "\n",
        "square_dataset = Dataset(items, transform=SquareIt(keys='data'))\n",
        "for item in square_dataset:\n",
        "    print(item)"
      ],
      "execution_count": 7,
      "outputs": [
        {
          "output_type": "stream",
          "name": "stdout",
          "text": [
            "keys to square it: ('data',)\n",
            "{'data': 16}\n",
            "{'data': 81}\n",
            "{'data': 9}\n",
            "{'data': 49}\n",
            "{'data': 1}\n",
            "{'data': 4}\n",
            "{'data': 25}\n"
          ]
        }
      ]
    },
    {
      "cell_type": "markdown",
      "metadata": {
        "id": "FO-7aOK-S7VO"
      },
      "source": [
        "## **2. What is Dataset Caching and how do I use it?**\n",
        "\n",
        " MONAI provides multi-thread versions of `CacheDataset` and `LMDBDataset` to accelerate these transformation steps during training by storing the intermediate outcomes before the first randomized transform in the transform chain. Enabling this feature could potentially give 10x training speedups in the Datasets experiment.\n",
        " \n",
        "<img src=\"https://github.com/Project-MONAI/MONAIBootcamp2021/blob/master/day1/cache_dataset.png?raw=1\" style=\"width: 700px;\"/>\n",
        " \n",
        "To demonstrate the benefit dataset caching, we're going to construct a dataset with a slow transform.  To do that, we're going to call the sleep function during each of the `__call__` functions."
      ]
    },
    {
      "cell_type": "code",
      "metadata": {
        "id": "yHSf-uNMS7VO",
        "outputId": "0b8b343f-2688-4250-edd3-a6f9125681b1",
        "colab": {
          "base_uri": "https://localhost:8080/"
        }
      },
      "source": [
        "class SlowSquare(MapTransform):\n",
        "    def __init__(self, keys):\n",
        "        MapTransform.__init__(self, keys)\n",
        "        print(f\"keys to square it: {self.keys}\")\n",
        "\n",
        "    def __call__(self, x):\n",
        "        time.sleep(1.0)\n",
        "        output = {key: x[key] ** 2 for key in self.keys}\n",
        "        return output\n",
        "\n",
        "square_dataset = Dataset(items, transform=SlowSquare(keys='data'))"
      ],
      "execution_count": 8,
      "outputs": [
        {
          "output_type": "stream",
          "name": "stdout",
          "text": [
            "keys to square it: ('data',)\n"
          ]
        }
      ]
    },
    {
      "cell_type": "markdown",
      "metadata": {
        "id": "C_rBDYRUS7VO"
      },
      "source": [
        "As expected, it's going to take about 7 seconds to go through all the items."
      ]
    },
    {
      "cell_type": "code",
      "metadata": {
        "id": "-AcOFQpOS7VP",
        "outputId": "67b9f21c-05cd-404f-a6b0-7a10e6e895cd",
        "colab": {
          "base_uri": "https://localhost:8080/"
        }
      },
      "source": [
        "%time for item in square_dataset: print(item)"
      ],
      "execution_count": 9,
      "outputs": [
        {
          "output_type": "stream",
          "name": "stdout",
          "text": [
            "{'data': 16}\n",
            "{'data': 81}\n",
            "{'data': 9}\n",
            "{'data': 49}\n",
            "{'data': 1}\n",
            "{'data': 4}\n",
            "{'data': 25}\n",
            "CPU times: user 39.7 ms, sys: 8.16 ms, total: 47.9 ms\n",
            "Wall time: 7.01 s\n"
          ]
        }
      ]
    },
    {
      "cell_type": "markdown",
      "metadata": {
        "id": "346LDUuRS7VP"
      },
      "source": [
        "Every time we run this loop we're going to get roughly 7 seconds to go through all of the items.  If you were do this for 100 epochs, you're adding almost 12 extra minutes of load time to your total training loop.  Let's look at ways that we can improve this time by utilizing caching."
      ]
    },
    {
      "cell_type": "markdown",
      "metadata": {
        "id": "kt4WXHVMS7VP"
      },
      "source": [
        "### Cache Dataset\n",
        "\n",
        "When using [CacheDataset](https://docs.monai.io/en/latest/data.html?highlight=dataset#cachedataset) the caching is done when the object is initialized for the first time, so the initialization is slower than a regular dataset.\n",
        "\n",
        "By caching the results of non-random preprocessing transforms, it accelerates the training data pipeline. If the requested data is not in the cache, all transforms will run normally."
      ]
    },
    {
      "cell_type": "code",
      "metadata": {
        "id": "Iu_Vx2ffS7VQ",
        "outputId": "50a538ca-39c6-4042-9b54-7937f8e08718",
        "colab": {
          "base_uri": "https://localhost:8080/"
        }
      },
      "source": [
        "square_cached = CacheDataset(items, transform=SlowSquare(keys='data'))"
      ],
      "execution_count": 10,
      "outputs": [
        {
          "output_type": "stream",
          "name": "stdout",
          "text": [
            "keys to square it: ('data',)\n"
          ]
        },
        {
          "output_type": "stream",
          "name": "stderr",
          "text": [
            "Loading dataset: 100%|██████████| 7/7 [00:03<00:00,  1.75it/s]\n"
          ]
        }
      ]
    },
    {
      "cell_type": "markdown",
      "metadata": {
        "id": "Vahe16YJS7VR"
      },
      "source": [
        "However, repeatedly fetching the items from an initialized CacheDataset is fast."
      ]
    },
    {
      "cell_type": "code",
      "metadata": {
        "id": "reapav5oS7VR",
        "outputId": "18e299b3-18dd-449d-a66f-d3245ad73c2e",
        "colab": {
          "base_uri": "https://localhost:8080/"
        }
      },
      "source": [
        "%timeit list(item for item in square_cached)"
      ],
      "execution_count": 11,
      "outputs": [
        {
          "output_type": "stream",
          "name": "stdout",
          "text": [
            "The slowest run took 5.51 times longer than the fastest. This could mean that an intermediate result is being cached.\n",
            "10000 loops, best of 5: 21.3 µs per loop\n"
          ]
        }
      ]
    },
    {
      "cell_type": "markdown",
      "metadata": {
        "id": "CzlXROyXS7VR"
      },
      "source": [
        "### Persistent Caching\n",
        "\n",
        "[PersistentDataset](https://docs.monai.io/en/latest/data.html?highlight=dataset#persistentdataset) allows for persistent storage of pre-computed values to efficiently manage larger than memory dictionary format data.\n",
        "\n",
        "The non-random transform components are computed when first used and stored in the cache_dir for rapid retrieval on subsequent uses."
      ]
    },
    {
      "cell_type": "code",
      "metadata": {
        "id": "eZvhIORDS7VR",
        "outputId": "f337eb67-8ee7-493a-d7ed-0d57c52dd118",
        "colab": {
          "base_uri": "https://localhost:8080/"
        }
      },
      "source": [
        "square_persist = monai.data.PersistentDataset(items, transform=SlowSquare(keys='data'), cache_dir=\"my_cache\")"
      ],
      "execution_count": 12,
      "outputs": [
        {
          "output_type": "stream",
          "name": "stdout",
          "text": [
            "keys to square it: ('data',)\n"
          ]
        }
      ]
    },
    {
      "cell_type": "code",
      "metadata": {
        "id": "CGzru-AtS7VR",
        "outputId": "9cceb601-e211-40ce-89e9-8ed83a397ab4",
        "colab": {
          "base_uri": "https://localhost:8080/"
        }
      },
      "source": [
        "%time for item in square_persist: print(item)"
      ],
      "execution_count": 13,
      "outputs": [
        {
          "output_type": "stream",
          "name": "stdout",
          "text": [
            "{'data': 16}\n",
            "{'data': 81}\n",
            "{'data': 9}\n",
            "{'data': 49}\n",
            "{'data': 1}\n",
            "{'data': 4}\n",
            "{'data': 25}\n",
            "CPU times: user 43.8 ms, sys: 9.01 ms, total: 52.8 ms\n",
            "Wall time: 7.02 s\n"
          ]
        }
      ]
    },
    {
      "cell_type": "markdown",
      "metadata": {
        "id": "VBiOOXEZS7VS"
      },
      "source": [
        "During the initialization of the PersistentDataset we passed in the parameter \"my_cache\" for the location to store the intermediate data. We'll look at that directory below."
      ]
    },
    {
      "cell_type": "code",
      "metadata": {
        "id": "IzHAW1xdS7VS",
        "outputId": "63450c77-dfe8-4e72-dedc-c4c97bfa7cfa",
        "colab": {
          "base_uri": "https://localhost:8080/"
        }
      },
      "source": [
        "!ls my_cache"
      ],
      "execution_count": 14,
      "outputs": [
        {
          "output_type": "stream",
          "name": "stdout",
          "text": [
            "084852b1dabc721c099e14e1e8c28298.pt  755d77b67f942e5f1d1fda27fe93863a.pt\n",
            "1257dfae3534518a1e7952d258c8792b.pt  89f8982b229a46956cd09956d7f5e575.pt\n",
            "3d387df3250e7ce6ef754813a58de728.pt  a338dd9f228572a3cc1896c789569500.pt\n",
            "65f06620bbaaf60cc1de433b6038ddfc.pt\n"
          ]
        }
      ]
    },
    {
      "cell_type": "markdown",
      "metadata": {
        "id": "3O7cEGmCS7VS"
      },
      "source": [
        "When calling out to the dataset on the following epochs, it will not call the slow transform but used the cached data."
      ]
    },
    {
      "cell_type": "code",
      "metadata": {
        "id": "_ApTfShES7VS",
        "outputId": "f0d7e760-8721-464f-92ef-6aadc06ec887",
        "colab": {
          "base_uri": "https://localhost:8080/"
        }
      },
      "source": [
        "%timeit [item for item in square_persist]"
      ],
      "execution_count": 15,
      "outputs": [
        {
          "output_type": "stream",
          "name": "stdout",
          "text": [
            "The slowest run took 6.26 times longer than the fastest. This could mean that an intermediate result is being cached.\n",
            "1000 loops, best of 5: 1.23 ms per loop\n"
          ]
        }
      ]
    },
    {
      "cell_type": "markdown",
      "metadata": {
        "id": "X3IE-YX_S7VS"
      },
      "source": [
        "Fresh dataset instances can make use of the caching data:"
      ]
    },
    {
      "cell_type": "code",
      "metadata": {
        "id": "F8vgWAEoS7VS",
        "outputId": "7798de1f-4b4e-4c7a-85ee-f47eae52f436",
        "colab": {
          "base_uri": "https://localhost:8080/"
        }
      },
      "source": [
        "square_persist_1 = monai.data.PersistentDataset(items, transform=SlowSquare(keys='data'), cache_dir=\"my_cache\")\n",
        "%timeit [item for item in square_persist_1]"
      ],
      "execution_count": 16,
      "outputs": [
        {
          "output_type": "stream",
          "name": "stdout",
          "text": [
            "keys to square it: ('data',)\n",
            "1000 loops, best of 5: 1.18 ms per loop\n"
          ]
        }
      ]
    },
    {
      "cell_type": "markdown",
      "metadata": {
        "id": "o3H00vjAS7VS"
      },
      "source": [
        "#### Caching in action\n",
        "- There's also a [SmartCacheDataset](https://docs.monai.io/en/latest/data.html#monai.data.SmartCacheDataset) to hide the transforms latency with less memory consumption.\n",
        "- The dataset tutorial notebook has a working example and a comparison of different caching mechanism in MONAI: https://github.com/Project-MONAI/tutorials/blob/master/acceleration/dataset_type_performance.ipynb"
      ]
    },
    {
      "cell_type": "markdown",
      "metadata": {
        "id": "PeNs-v4fS7VT"
      },
      "source": [
        "<img src=\"https://github.com/Project-MONAI/MONAIBootcamp2021/blob/master/day1/datasets_speed.png?raw=1\" style=\"width: 700px;\"/>"
      ]
    },
    {
      "cell_type": "markdown",
      "metadata": {
        "id": "Ci7o8iUGS7VT"
      },
      "source": [
        "## **3. What common datasets are provided by MONAI?**"
      ]
    },
    {
      "cell_type": "markdown",
      "metadata": {
        "id": "iNUNmLhtS7VT"
      },
      "source": [
        "To quickly get started with popular training data in the medical domain, MONAI provides several data-specific Datasets(like: MedNISTDataset, DecathlonDataset, etc.), which include downloading from our AWS storage, extracting data files and support generation of training/evaluation items with transforms.\n",
        "\n",
        "The [DecathlonDataset](https://docs.monai.io/en/latest/data.html?highlight=dataset#decathlon-datalist) function leverages the features described throughout this notebook.  These datasets are an extension of CacheDataset covered above."
      ]
    },
    {
      "cell_type": "code",
      "metadata": {
        "id": "Zm_ZYMVcS7VT",
        "outputId": "cb3643a8-2bf4-4317-94f9-7c09bef3fb81",
        "colab": {
          "base_uri": "https://localhost:8080/"
        }
      },
      "source": [
        "dataset = monai.apps.DecathlonDataset(root_dir=\"./\", task=\"Task09_Spleen\", section=\"training\", download=True)"
      ],
      "execution_count": 17,
      "outputs": [
        {
          "output_type": "stream",
          "name": "stderr",
          "text": [
            "Task09_Spleen.tar: 1.50GB [01:13, 21.8MB/s]                            \n"
          ]
        },
        {
          "output_type": "stream",
          "name": "stdout",
          "text": [
            "Downloaded: ./Task09_Spleen.tar\n",
            "Verified 'Task09_Spleen.tar', md5: 410d4a301da4e5b2f6f86ec3ddba524e.\n",
            "Writing into directory: ./.\n"
          ]
        },
        {
          "output_type": "stream",
          "name": "stderr",
          "text": [
            "Loading dataset: 100%|██████████| 33/33 [00:31<00:00,  1.03it/s]\n"
          ]
        }
      ]
    },
    {
      "cell_type": "code",
      "metadata": {
        "id": "o4wQhreDS7VT",
        "outputId": "21e52d2f-d7b3-4576-c1eb-49873b80c009",
        "colab": {
          "base_uri": "https://localhost:8080/"
        }
      },
      "source": [
        "print(dataset.get_properties(\"numTraining\"))\n",
        "print(dataset.get_properties(\"description\"))"
      ],
      "execution_count": 18,
      "outputs": [
        {
          "output_type": "stream",
          "name": "stdout",
          "text": [
            "{'numTraining': 41}\n",
            "{'description': 'Spleen Segmentation'}\n"
          ]
        }
      ]
    },
    {
      "cell_type": "code",
      "metadata": {
        "id": "TptWjy3nS7VT",
        "outputId": "172d84e9-5fdb-48cd-f44e-a5cf3bba9e85",
        "colab": {
          "base_uri": "https://localhost:8080/"
        }
      },
      "source": [
        "print(dataset[0]['image'].shape)\n",
        "print(dataset[0]['label'].shape)"
      ],
      "execution_count": 19,
      "outputs": [
        {
          "output_type": "stream",
          "name": "stdout",
          "text": [
            "(512, 512, 55)\n",
            "(512, 512, 55)\n"
          ]
        }
      ]
    },
    {
      "cell_type": "markdown",
      "metadata": {
        "id": "fC_GBBvaS7VU"
      },
      "source": [
        "## 4. **What Network and Network components does MONAI provide?**"
      ]
    },
    {
      "cell_type": "markdown",
      "metadata": {
        "id": "S-d5LVWCS7VU"
      },
      "source": [
        "MONAI provides definitions for networks and their components that inherit directly from Pytorch Module, Sequential, etc. These general purpose networks include parameterized topologies that can easily be expanded are independent from rest of MONAI so networks can be used with existing training code.\n",
        "\n",
        "MONAI includes the following submodules:\n",
        "- layers: defines low level layers, factories for selecting Pytorch and custom layers based on dimension and other arguments\n",
        "- blocks: mid-level building blocks defining specific reusable concepts networks are constructed from\n",
        "- nets: full network definitions for common architectures, eg. UNet, VNet, Densenet,\n",
        "\n",
        "Blocks and networks use LayerFactory objects as generic factory for custom and PyTorch layers.\n",
        "\n",
        "MONAI provides blocks for defining:\n",
        "- Convolution with activation and regularization\n",
        "- Residual units\n",
        "- Squeeze/excitation\n",
        "- Downsampling/upsampling\n",
        "- Subpixel convolutions\n"
      ]
    },
    {
      "cell_type": "markdown",
      "metadata": {
        "id": "G31fzDhjS7VU"
      },
      "source": [
        "### How do you use MONAI Layers?"
      ]
    },
    {
      "cell_type": "code",
      "metadata": {
        "id": "PATBUgcgS7VU"
      },
      "source": [
        "from monai.networks.layers import Conv, Act, split_args, Pool"
      ],
      "execution_count": 20,
      "outputs": []
    },
    {
      "cell_type": "markdown",
      "metadata": {
        "id": "6m1viHhCS7VU"
      },
      "source": [
        "### Convolution as an example\n",
        "\n",
        "The [Conv](https://docs.monai.io/en/latest/networks.html#convolution) class has two options for the first argument. The second argument must be the number of spatial dimensions, `Conv[name, dimension]`, for example:"
      ]
    },
    {
      "cell_type": "code",
      "metadata": {
        "id": "IvJOX0XpS7VV",
        "outputId": "1781ff9c-46e3-40d1-c2a0-c297cad311c4",
        "colab": {
          "base_uri": "https://localhost:8080/"
        }
      },
      "source": [
        "print(Conv[Conv.CONV, 1])\n",
        "print(Conv[Conv.CONV, 2])\n",
        "print(Conv[Conv.CONV, 3])\n",
        "print(Conv[Conv.CONVTRANS, 1])\n",
        "print(Conv[Conv.CONVTRANS, 2])\n",
        "print(Conv[Conv.CONVTRANS, 3])"
      ],
      "execution_count": 21,
      "outputs": [
        {
          "output_type": "stream",
          "name": "stdout",
          "text": [
            "<class 'torch.nn.modules.conv.Conv1d'>\n",
            "<class 'torch.nn.modules.conv.Conv2d'>\n",
            "<class 'torch.nn.modules.conv.Conv3d'>\n",
            "<class 'torch.nn.modules.conv.ConvTranspose1d'>\n",
            "<class 'torch.nn.modules.conv.ConvTranspose2d'>\n",
            "<class 'torch.nn.modules.conv.ConvTranspose3d'>\n"
          ]
        }
      ]
    },
    {
      "cell_type": "markdown",
      "metadata": {
        "id": "KOBKVtfhS7VV"
      },
      "source": [
        "The configured classes are the \"vanilla\" PyTorch layers. We could create instances of them by specifying the layer arguments:"
      ]
    },
    {
      "cell_type": "code",
      "metadata": {
        "id": "_nkucTBLS7VV",
        "outputId": "b0ef05a0-10d6-49f5-d97b-440b0508e82f",
        "colab": {
          "base_uri": "https://localhost:8080/"
        }
      },
      "source": [
        "print(Conv[Conv.CONV, 2](in_channels=1, out_channels=4, kernel_size=3))\n",
        "print(Conv[Conv.CONV, 3](in_channels=1, out_channels=4, kernel_size=3))"
      ],
      "execution_count": 22,
      "outputs": [
        {
          "output_type": "stream",
          "name": "stdout",
          "text": [
            "Conv2d(1, 4, kernel_size=(3, 3), stride=(1, 1))\n",
            "Conv3d(1, 4, kernel_size=(3, 3, 3), stride=(1, 1, 1))\n"
          ]
        }
      ]
    },
    {
      "cell_type": "markdown",
      "metadata": {
        "id": "3KirI_K_S7VV"
      },
      "source": [
        "The [Act](https://docs.monai.io/en/latest/networks.html#module-monai.networks.layers.Act) classes don't require the spatial dimension information, but supports additional arguments."
      ]
    },
    {
      "cell_type": "code",
      "metadata": {
        "id": "c3EHeF2DS7VV",
        "outputId": "082ec4db-bf57-488d-b9ad-27cd6dd8605e",
        "colab": {
          "base_uri": "https://localhost:8080/"
        }
      },
      "source": [
        "print(Act[Act.PRELU])\n",
        "Act[Act.PRELU](num_parameters=1, init=0.1)"
      ],
      "execution_count": 23,
      "outputs": [
        {
          "output_type": "stream",
          "name": "stdout",
          "text": [
            "<class 'torch.nn.modules.activation.PReLU'>\n"
          ]
        },
        {
          "output_type": "execute_result",
          "data": {
            "text/plain": [
              "PReLU(num_parameters=1)"
            ]
          },
          "metadata": {},
          "execution_count": 23
        }
      ]
    },
    {
      "cell_type": "markdown",
      "metadata": {
        "id": "kpv4Wfd9S7VV"
      },
      "source": [
        "These could be fully specified with a tuple of `(type_name, arg_dict)`, such as `(\"prelu\", {\"num_parameters\": 1, \"init\": 0.1})`:"
      ]
    },
    {
      "cell_type": "code",
      "metadata": {
        "id": "flMztl0PS7VV",
        "outputId": "bd03dc82-ea97-4b29-b6aa-27565d670f90",
        "colab": {
          "base_uri": "https://localhost:8080/"
        }
      },
      "source": [
        "act_name, act_args = split_args((\"prelu\", {\"num_parameters\": 1, \"init\": 0.1}))\n",
        "Act[act_name](**act_args)"
      ],
      "execution_count": 24,
      "outputs": [
        {
          "output_type": "execute_result",
          "data": {
            "text/plain": [
              "PReLU(num_parameters=1)"
            ]
          },
          "metadata": {},
          "execution_count": 24
        }
      ]
    },
    {
      "cell_type": "markdown",
      "metadata": {
        "id": "de3aemxES7VV"
      },
      "source": [
        "## **5. How do you use these components to create a network?**"
      ]
    },
    {
      "cell_type": "markdown",
      "metadata": {
        "id": "Z-wqHMxfS7VW"
      },
      "source": [
        "### Flexible Definition Networks\n",
        "\n",
        "These APIs allow for flexible definitions of networks.  Below we'll create a class called `MyNetwork` that utilizes `Conv`, `Act`, and `Pool`.  Each Network requires an `__init__` and a `forward` function."
      ]
    },
    {
      "cell_type": "code",
      "metadata": {
        "id": "3Jea9dIjS7VW"
      },
      "source": [
        "class MyNetwork(torch.nn.Module):\n",
        "    \n",
        "  def __init__(self, dims=3, in_channels=1, out_channels=8, kernel_size=3, pool_kernel=2, act=\"relu\"):\n",
        "    super(MyNetwork, self).__init__()\n",
        "    # convolution\n",
        "    self.conv = Conv[Conv.CONV, dims](in_channels, out_channels, kernel_size=kernel_size)\n",
        "    # activation\n",
        "    act_type, act_args = split_args(act)\n",
        "    self.act = Act[act_type](**act_args)\n",
        "    # pooling\n",
        "    self.pool = Pool[Pool.MAX, dims](pool_kernel)\n",
        "  \n",
        "  def forward(self, x: torch.Tensor):\n",
        "    x = self.conv(x)\n",
        "    x = self.act(x)\n",
        "    x = self.pool(x)\n",
        "    return x"
      ],
      "execution_count": 25,
      "outputs": []
    },
    {
      "cell_type": "markdown",
      "metadata": {
        "id": "IMQjsic0S7VW"
      },
      "source": [
        "This network definition can be instantiated to support either 2D or 3D inputs, with flexible kernel sizes.  It becomes handy when adapting the same architecture design for different tasks, switching among 2D, 2.5D, 3D easily.\n",
        "\n",
        "Almost all the MONAI layers, blocks and networks are extensions of `torch.nn.modules` and follow this pattern. This makes the implementations compatible with any PyTorch pipelines and flexible with the network design. The current collections of those differentiable modules are listed in https://docs.monai.io/en/latest/networks.html."
      ]
    },
    {
      "cell_type": "code",
      "metadata": {
        "id": "flocQm60S7VW",
        "outputId": "ef8e1d68-d627-48fb-88eb-71ab07dc3d64",
        "colab": {
          "base_uri": "https://localhost:8080/"
        }
      },
      "source": [
        "# default network instance\n",
        "default_net = MyNetwork()\n",
        "print(default_net)\n",
        "print(default_net(torch.ones(3, 1, 20, 20, 30)).shape)\n",
        "\n",
        "# 2D network instance\n",
        "elu_net = MyNetwork(dims=2, in_channels=3, act=(\"elu\", {\"inplace\": True}))\n",
        "print(elu_net)\n",
        "print(elu_net(torch.ones(3, 3, 24, 24)).shape)\n",
        "\n",
        "# 3D network instance with anisotropic kernels\n",
        "sigmoid_net = MyNetwork(3, in_channels=4, kernel_size=(3, 3, 1), act=\"sigmoid\")\n",
        "print(sigmoid_net)\n",
        "print(sigmoid_net(torch.ones(3, 4, 30, 30, 5)).shape)"
      ],
      "execution_count": 26,
      "outputs": [
        {
          "output_type": "stream",
          "name": "stdout",
          "text": [
            "MyNetwork(\n",
            "  (conv): Conv3d(1, 8, kernel_size=(3, 3, 3), stride=(1, 1, 1))\n",
            "  (act): ReLU()\n",
            "  (pool): MaxPool3d(kernel_size=2, stride=2, padding=0, dilation=1, ceil_mode=False)\n",
            ")\n",
            "torch.Size([3, 8, 9, 9, 14])\n",
            "MyNetwork(\n",
            "  (conv): Conv2d(3, 8, kernel_size=(3, 3), stride=(1, 1))\n",
            "  (act): ELU(alpha=1.0, inplace=True)\n",
            "  (pool): MaxPool2d(kernel_size=2, stride=2, padding=0, dilation=1, ceil_mode=False)\n",
            ")\n",
            "torch.Size([3, 8, 11, 11])\n",
            "MyNetwork(\n",
            "  (conv): Conv3d(4, 8, kernel_size=(3, 3, 1), stride=(1, 1, 1))\n",
            "  (act): Sigmoid()\n",
            "  (pool): MaxPool3d(kernel_size=2, stride=2, padding=0, dilation=1, ceil_mode=False)\n",
            ")\n",
            "torch.Size([3, 8, 14, 14, 2])\n"
          ]
        },
        {
          "output_type": "stream",
          "name": "stderr",
          "text": [
            "/usr/local/lib/python3.7/dist-packages/torch/nn/functional.py:718: UserWarning: Named tensors and all their associated APIs are an experimental feature and subject to change. Please do not use them for anything important until they are released as stable. (Triggered internally at  /pytorch/c10/core/TensorImpl.h:1156.)\n",
            "  return torch.max_pool2d(input, kernel_size, stride, padding, dilation, ceil_mode)\n"
          ]
        }
      ]
    },
    {
      "cell_type": "markdown",
      "metadata": {
        "id": "PS3Vz4jIS7VW"
      },
      "source": [
        "MONAI provides over 20 Networks including:\n",
        "- UNet\n",
        "- VNet\n",
        "- AHNet\n",
        "- VGG-like regressor, classifier, discriminator, critic\n",
        "- HighResNet\n",
        "- SENet"
      ]
    },
    {
      "cell_type": "markdown",
      "metadata": {
        "id": "k_GZCr_iS7VW"
      },
      "source": [
        "### Example UNets\n",
        "\n",
        "We'll define a 2D UNet network with 2 hidden layers having outputs with 8 channels, and a bottom (bottleneck) layer producing outputs with 32 channels.  The stride values state the stride for the initial convolution, ie. downsampling in down path and upsampling in up path and it'll transpose the convolutions used to implement upsampling.\n"
      ]
    },
    {
      "cell_type": "code",
      "metadata": {
        "id": "OFxipWL2S7VX"
      },
      "source": [
        "net = monai.networks.nets.UNet(\n",
        "    dimensions=2,  # 2 or 3 for a 2D or 3D network\n",
        "    in_channels=1,  # number of input channels\n",
        "    out_channels=1,  # number of output channels\n",
        "    channels=[8, 16, 32],  # channel counts for layers\n",
        "    strides=[2, 2]  # strides for mid layers\n",
        ")"
      ],
      "execution_count": 27,
      "outputs": []
    },
    {
      "cell_type": "markdown",
      "metadata": {
        "id": "ofh5Ac10S7VX"
      },
      "source": [
        "Here we'll define a 4–layer 3D UNet with leaky ReLU activation in place of default PReLU.  THis time we'll instantiate the Act parameter which is the activation layer factory, and recalls names of known activation layers, eg. LEAKYRELU.  You can add custom layers to all factories."
      ]
    },
    {
      "cell_type": "code",
      "metadata": {
        "id": "zE6CJjJ3S7VX"
      },
      "source": [
        "net = monai.networks.nets.UNet(\n",
        "    dimensions=3,  \n",
        "    in_channels=1,      \n",
        "    out_channels=1,  \n",
        "    channels=[8, 16, 32, 64],\n",
        "    strides=[2, 2, 2],\n",
        "    act=monai.networks.layers.Act.LEAKYRELU\n",
        ")"
      ],
      "execution_count": 28,
      "outputs": []
    },
    {
      "cell_type": "markdown",
      "metadata": {
        "id": "1YvQx_ZUS7VX"
      },
      "source": [
        "### Workflows\n",
        "\n",
        "MONAI includes extensions to Ignite Engine classes.  These workflow objects encompass the majority of the training process and provide default training loops and mechanism for responding to events.  This helps reduce code complexity and amount to be written for each experiment and are totally optional modules, other frameworks such as Lightning or Catalyst can be used instead.\n"
      ]
    },
    {
      "cell_type": "markdown",
      "metadata": {
        "id": "cDVp3a8_S7VX"
      },
      "source": [
        "## **Summary**\n",
        "\n",
        "We've covered MONAI Datasets, Caching and Networks.  Here are some key highlights:\n",
        "\n",
        "- A MONAI Dataset is a generic dataset with a len property, getitem property, and an optional callable data transform when fetching a data sample.\n",
        "- You can use dataset caching to store dataset transforms to speed up training.  Some included Caching options are CachingDataset, PersistentCaching, and SmartCaching\n",
        "- MONAI provides access to some commonly used medical imaging datasets including the DecathlonDataset\n",
        "- Understanding the basic MONAI Layers, Blocks, and Networks\n",
        "- Use MONAI layers to implement a flexible network and instnaite a two UNet examples with different parameters\n"
      ]
    },
    {
      "cell_type": "markdown",
      "metadata": {
        "id": "TDNynnAmS7VX"
      },
      "source": [
        "## **Assignment 1**\n",
        "\n",
        "### Instantiate a Dataset with SmartCache\n",
        "\n",
        "Requirements: \n",
        "- Write a transform that subtracts 1 from the input value\n",
        "- Combine the new Transform with the existing SlowSquare from above\n",
        "- Instantiate SmartCacheDataset with replacement rate of .2 and cache number of 5\n",
        "- Run SmartCache 5-times so that you can see the replacement values"
      ]
    },
    {
      "cell_type": "code",
      "metadata": {
        "id": "j9qvx6LwS7VX"
      },
      "source": [
        "from monai.data import SmartCacheDataset\n",
        "from monai.transforms import Compose, MapTransform\n",
        "\n",
        "class MinusOne(MapTransform):\n",
        "    # constructor needed here?\n",
        "    \n",
        "    def __call__(self, x):\n",
        "        pass # write code here\n",
        "\n",
        "smart_transform = Compose([\n",
        "    # ???\n",
        "])    \n",
        "\n",
        "smart_square = # ???\n",
        "\n",
        "%time for item in smart_square: print(item)"
      ],
      "execution_count": null,
      "outputs": []
    },
    {
      "cell_type": "markdown",
      "metadata": {
        "id": "_2gy6NNqS7VY"
      },
      "source": [
        "Below will utilize SmartCache"
      ]
    },
    {
      "cell_type": "code",
      "metadata": {
        "id": "wT2arEWAS7VY"
      },
      "source": [
        "#Run through SmartCache replacement N-times\n",
        "smart_square.start()\n",
        "\n",
        "for i in range(5):\n",
        "    print(\"\\nCache: \", i)\n",
        "    for item in smart_square: \n",
        "        print(item)\n",
        "    smart_square.update_cache()\n",
        "    \n",
        "smart_square.shutdown()"
      ],
      "execution_count": null,
      "outputs": []
    },
    {
      "cell_type": "markdown",
      "metadata": {
        "id": "h2PjXXBbS7VY"
      },
      "source": [
        "### **Assignment 2**\n",
        "\n",
        "Instantitate a network from the MONAI library. Inspect the output to see which composable layers were used in the network. "
      ]
    },
    {
      "cell_type": "code",
      "metadata": {
        "id": "IpkJYL8YS7VY"
      },
      "source": [
        ""
      ],
      "execution_count": null,
      "outputs": []
    },
    {
      "cell_type": "markdown",
      "metadata": {
        "id": "vboVhbNJS7VY"
      },
      "source": [
        "Some networks, such as UNet, are defined using template methods to create their layers. Experiment with extending one of these classes to change the composition of the created network by overriding these methods:"
      ]
    },
    {
      "cell_type": "code",
      "metadata": {
        "id": "tKPY0PyjS7VY"
      },
      "source": [
        ""
      ],
      "execution_count": null,
      "outputs": []
    },
    {
      "cell_type": "markdown",
      "metadata": {
        "id": "So9JNI2fS7VY"
      },
      "source": [
        "## **Next Steps**"
      ]
    },
    {
      "cell_type": "markdown",
      "metadata": {
        "id": "GdFD2P2nS7VY"
      },
      "source": [
        "In this next notebook, we cover a MONAI end-to-end workflow.\n",
        "\n",
        "You can find more information about everything covered here on our [MONAI Documentation Page](https://docs.monai.io/).  \n",
        "\n",
        "If you're looking for more examples and tutorials, we have a repo dedicated just to that!  You can find it on our [GitHub Organization Page](https://github.com/Project-MONAI/tutorials)."
      ]
    }
  ]
}
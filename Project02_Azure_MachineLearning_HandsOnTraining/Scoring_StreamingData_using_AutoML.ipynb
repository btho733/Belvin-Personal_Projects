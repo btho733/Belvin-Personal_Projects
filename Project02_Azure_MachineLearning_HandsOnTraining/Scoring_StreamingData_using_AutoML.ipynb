{
 "cells": [
  {
   "cell_type": "markdown",
   "metadata": {},
   "source": [
    "# Scoring streaming data using AutoML\n",
    "\n",
    "__Author       : Belvin Thomas__\n",
    "\n",
    "__Problem__    : How to train a forecasting model using __Automated Machine Learning (Auto ML)__ and __Azure Machine Learning Python SDK__ to predict battery failure. The best trained model pipeline, as identified by Auto ML, can then be applied to incoming streaming telemetry. This will further help to determine if a battery replacement is needed within the next 30 days.\n",
    "\n",
    "__Thanks__     : Hands on Azure machine learning workshop conducted by Microsoft, Auckland, Dec 2019"
   ]
  },
  {
   "cell_type": "markdown",
   "metadata": {},
   "source": [
    "## Train Battery Life Forecasting Model\n",
    "\n",
    "This section uses the Azure Machine Learning Python SDK to find a best performing model training pipeline using Auto ML."
   ]
  },
  {
   "cell_type": "markdown",
   "metadata": {},
   "source": [
    "### Connect to the Azure Machine Learning Workspace"
   ]
  },
  {
   "cell_type": "code",
   "execution_count": null,
   "metadata": {},
   "outputs": [],
   "source": [
    "import pandas as pd\n",
    "import numpy as np\n",
    "import logging\n",
    "\n",
    "import azureml\n",
    "from azureml.core import Run\n",
    "from azureml.core import Workspace\n",
    "from azureml.core.model import Model\n",
    "from azureml.core.experiment import Experiment\n",
    "from azureml.train.automl.run import AutoMLRun\n",
    "from azureml.train.automl import AutoMLConfig\n",
    "from azureml.core import Dataset\n",
    "\n",
    "# Verify AML SDK Installed\n",
    "# view version history at https://pypi.org/project/azureml-sdk/#history\n",
    "#print(\"Pandas Version:\", pd.__version__)\n",
    "#print(\"Numpy Version:\", np.__version__)\n",
    "#print(\"SDK Version:\", azureml.core.VERSION)"
   ]
  },
  {
   "cell_type": "markdown",
   "metadata": {},
   "source": [
    "#### Configure access to the Azure Machine Learning resources\n",
    "To begin, provide the following information about the Azure Subscription.\n",
    "\n",
    "**If you are using your own Azure subscription, please provide names for subscription_id, resource_group, workspace_name and workspace_region to use.** Note that the workspace needs to be of type [Machine Learning Workspace](https://docs.microsoft.com/en-us/azure/machine-learning/service/setup-create-workspace).\n",
    "\n",
    "In the following cell, be sure to set the values for `subscription_id`, `resource_group`, `workspace_name` and `workspace_region` as directed by the comments (*these values can be acquired from the Azure Portal*).\n",
    "\n",
    "To get these values, do the following:\n",
    "1. Navigate to the Azure Portal and login with the credentials provided.\n",
    "2. From the left hand menu, under Favorites, select `Resource Groups`.\n",
    "3. In the list, select the resource group with the name similar to `MCW-AI-Lab`.\n",
    "4. From the Overview tab, capture the desired values.\n",
    "\n",
    "In addition to these, be sure to set the `experiment_name` with the name of the experiment in training the model with Automated Machine Learning.\n"
   ]
  },
  {
   "cell_type": "code",
   "execution_count": 6,
   "metadata": {},
   "outputs": [
    {
     "data": {
      "text/html": [
       "<style scoped>\n",
       "  .ansiout {\n",
       "    display: block;\n",
       "    unicode-bidi: embed;\n",
       "    white-space: pre-wrap;\n",
       "    word-wrap: break-word;\n",
       "    word-break: break-all;\n",
       "    font-family: \"Source Code Pro\", \"Menlo\", monospace;;\n",
       "    font-size: 13px;\n",
       "    color: #555;\n",
       "    margin-left: 4px;\n",
       "    line-height: 19px;\n",
       "  }\n",
       "</style>\n",
       "<div class=\"ansiout\"></div>"
      ]
     },
     "metadata": {},
     "output_type": "display_data"
    }
   ],
   "source": [
    "#Provide the Subscription ID of your existing Azure subscription\n",
    "subscription_id = \"281b526e-0f57-4142-ae7c-b89b634fd26e\" # <- subscription id used for hands-on lab\n",
    "\n",
    "#Provide values for the existing Resource Group \n",
    "resource_group = \"MCW-AI-Lab\"\n",
    "\n",
    "#Provide the Workspace Name and Azure Region of the Azure Machine Learning Workspace\n",
    "workspace_name = \"AML-workspace-181384\"\n",
    "workspace_region = \"westus2\" # <- region of your resource group\n",
    "\n",
    "#Provide the name of the Automated ML experiment you executed previously\n",
    "experiment_name = \"Battery-Cycles\""
   ]
  },
  {
   "cell_type": "markdown",
   "metadata": {},
   "source": [
    "Connect to your **Azure Machine Learning Workspace**\n",
    "\n",
    "**Important Note**: You will be prompted to login in the text that is output below the cell. Be sure to navigate to the URL displayed and enter the code that is provided. Once you have entered the code, return to this notebook and wait for the output to read `Workspace Provisioning complete`."
   ]
  },
  {
   "cell_type": "code",
   "execution_count": 8,
   "metadata": {},
   "outputs": [
    {
     "data": {
      "text/html": [
       "<style scoped>\n",
       "  .ansiout {\n",
       "    display: block;\n",
       "    unicode-bidi: embed;\n",
       "    white-space: pre-wrap;\n",
       "    word-wrap: break-word;\n",
       "    word-break: break-all;\n",
       "    font-family: \"Source Code Pro\", \"Menlo\", monospace;;\n",
       "    font-size: 13px;\n",
       "    color: #555;\n",
       "    margin-left: 4px;\n",
       "    line-height: 19px;\n",
       "  }\n",
       "</style>\n",
       "<div class=\"ansiout\">Workspace Provisioning complete\n",
       "</div>"
      ]
     },
     "metadata": {},
     "output_type": "display_data"
    }
   ],
   "source": [
    "# By using the exist_ok param, if the worskpace already exists we get a reference to the existing workspace\n",
    "ws = Workspace.create(\n",
    "    name = \"AML-workspace-181384\",\n",
    "    subscription_id = \"281b526e-0f57-4142-ae7c-b89b634fd26e\",\n",
    "    resource_group = \"ODL-ml-181384\", \n",
    "    location = \"westus2\",\n",
    "    exist_ok = True)\n",
    "\n",
    "print(\"Workspace Provisioning complete\")"
   ]
  },
  {
   "cell_type": "markdown",
   "metadata": {},
   "source": [
    "### Retrieve and Review the Registered Training Dataset\n",
    "The next cell will retrieve the training dataset that was registered in **Exercise 1** with the Azure Machine Learning Workspace."
   ]
  },
  {
   "cell_type": "code",
   "execution_count": 10,
   "metadata": {},
   "outputs": [
    {
     "data": {
      "text/html": [
       "<div style=\"max-width:1500px;overflow:auto;\">\n",
       "<style scoped>\n",
       "    .dataframe tbody tr th:only-of-type {\n",
       "        vertical-align: middle;\n",
       "    }\n",
       "\n",
       "    .dataframe tbody tr th {\n",
       "        vertical-align: top;\n",
       "    }\n",
       "\n",
       "    .dataframe thead th {\n",
       "        text-align: right;\n",
       "    }\n",
       "</style>\n",
       "<table border=\"1\" class=\"dataframe\">\n",
       "  <thead>\n",
       "    <tr style=\"text-align: right;\">\n",
       "      <th></th>\n",
       "      <th>Date</th>\n",
       "      <th>Battery_ID</th>\n",
       "      <th>Battery_Age_Days</th>\n",
       "      <th>Daily_Trip_Duration</th>\n",
       "      <th>Daily_Cycles_Used</th>\n",
       "    </tr>\n",
       "  </thead>\n",
       "  <tbody>\n",
       "    <tr>\n",
       "      <th>0</th>\n",
       "      <td>2013-01-01</td>\n",
       "      <td>0</td>\n",
       "      <td>0</td>\n",
       "      <td>67.845608</td>\n",
       "      <td>0.166920</td>\n",
       "    </tr>\n",
       "    <tr>\n",
       "      <th>1</th>\n",
       "      <td>2013-01-02</td>\n",
       "      <td>0</td>\n",
       "      <td>1</td>\n",
       "      <td>53.450798</td>\n",
       "      <td>0.131505</td>\n",
       "    </tr>\n",
       "    <tr>\n",
       "      <th>2</th>\n",
       "      <td>2013-01-03</td>\n",
       "      <td>0</td>\n",
       "      <td>2</td>\n",
       "      <td>58.841433</td>\n",
       "      <td>0.144767</td>\n",
       "    </tr>\n",
       "    <tr>\n",
       "      <th>3</th>\n",
       "      <td>2013-01-04</td>\n",
       "      <td>0</td>\n",
       "      <td>3</td>\n",
       "      <td>60.638403</td>\n",
       "      <td>0.149188</td>\n",
       "    </tr>\n",
       "    <tr>\n",
       "      <th>4</th>\n",
       "      <td>2013-01-05</td>\n",
       "      <td>0</td>\n",
       "      <td>4</td>\n",
       "      <td>62.646910</td>\n",
       "      <td>0.154130</td>\n",
       "    </tr>\n",
       "  </tbody>\n",
       "</table>\n",
       "</div>"
      ]
     },
     "metadata": {},
     "output_type": "display_data"
    }
   ],
   "source": [
    "dataset_name = 'daily-battery-time-series'\n",
    "\n",
    "dataset = ws.datasets[dataset_name]\n",
    "\n",
    "dataset.take(5).to_pandas_dataframe()"
   ]
  },
  {
   "cell_type": "markdown",
   "metadata": {},
   "source": [
    "### Instantiate an Auto ML Config\n",
    "Next, configure the forecasting Auto ML run. Some of the important configurations include, target column, time column, groupby attributes, maximum horizon, primary evaluation metric, training dataset, number of iterations, and number of cross-validations."
   ]
  },
  {
   "cell_type": "code",
   "execution_count": 12,
   "metadata": {},
   "outputs": [
    {
     "data": {
      "text/html": [
       "<style scoped>\n",
       "  .ansiout {\n",
       "    display: block;\n",
       "    unicode-bidi: embed;\n",
       "    white-space: pre-wrap;\n",
       "    word-wrap: break-word;\n",
       "    word-break: break-all;\n",
       "    font-family: \"Source Code Pro\", \"Menlo\", monospace;;\n",
       "    font-size: 13px;\n",
       "    color: #555;\n",
       "    margin-left: 4px;\n",
       "    line-height: 19px;\n",
       "  }\n",
       "</style>\n",
       "<div class=\"ansiout\">WARNING - Parameter &#96;preprocess&#96; will be deprecated. Use &#96;featurization&#96;\n",
       "WARNING - Detected both &#96;preprocess&#96; and &#96;featurization&#96;. &#96;preprocess&#96; is being deprecated and will be overridden by &#96;featurization&#96; setting.\n",
       "</div>"
      ]
     },
     "metadata": {},
     "output_type": "display_data"
    }
   ],
   "source": [
    "target_column_name = 'Daily_Cycles_Used'\n",
    "time_column_name = 'Date'\n",
    "groupby_column_names = ['Battery_ID']\n",
    "forecast_horizon = 30\n",
    "primary_metric = 'normalized_root_mean_squared_error'\n",
    "project_folder = './automl-forecasting'\n",
    "\n",
    "time_series_settings = {\n",
    "    'time_column_name': time_column_name,\n",
    "    'grain_column_names': groupby_column_names,\n",
    "    'max_horizon': forecast_horizon\n",
    "}\n",
    "\n",
    "automl_config = AutoMLConfig(task='forecasting',\n",
    "                             training_data = dataset, \n",
    "                             label_column_name=target_column_name, \n",
    "                             iterations=3, \n",
    "                             iteration_timeout_minutes = 5, \n",
    "                             max_cores_per_iteration = 1, \n",
    "                             primary_metric=primary_metric, \n",
    "                             preprocess=True, \n",
    "                             n_cross_validations = 3, \n",
    "                             debug_log = 'automl.log', \n",
    "                             verbosity = logging.DEBUG, \n",
    "                             path = project_folder, \n",
    "                             **time_series_settings)"
   ]
  },
  {
   "cell_type": "markdown",
   "metadata": {},
   "source": [
    "### Create and Run Experiment\n",
    "\n",
    "create and run the experiment on the Azure Databricks cluster. Note this will take a few minutes."
   ]
  },
  {
   "cell_type": "code",
   "execution_count": 14,
   "metadata": {},
   "outputs": [
    {
     "data": {
      "text/html": [
       "<style scoped>\n",
       "  .ansiout {\n",
       "    display: block;\n",
       "    unicode-bidi: embed;\n",
       "    white-space: pre-wrap;\n",
       "    word-wrap: break-word;\n",
       "    word-break: break-all;\n",
       "    font-family: \"Source Code Pro\", \"Menlo\", monospace;;\n",
       "    font-size: 13px;\n",
       "    color: #555;\n",
       "    margin-left: 4px;\n",
       "    line-height: 19px;\n",
       "  }\n",
       "</style>\n",
       "<div class=\"ansiout\">Running on local machine\n",
       "Parent Run ID: AutoML_e14bb247-eca9-4659-b171-dd63d14b3194\n",
       "\n",
       "\r",
       "Current status: DatasetFeaturization. Beginning to featurize the dataset.\n",
       "\r",
       "Current status: DatasetFeaturizationCompleted. Completed featurizing the dataset.\n",
       "WARNING - Converting non-string tag to string: (forecasting_target_lags: [0])\n",
       "WARNING - Converting non-string tag to string: (forecasting_target_rolling_window_size: 0)\n",
       "WARNING - Converting non-string tag to string: (forecasting_max_horizon: 30)\n",
       "\r",
       "Current status: DatasetCrossValidationSplit. Generating individually featurized CV splits.\n",
       "\r",
       "Current status: DatasetFeaturization. Beginning to featurize the CV split.\n",
       "\r",
       "Current status: DatasetFeaturizationCompleted. Completed featurizing the CV split.\n",
       "\r",
       "Current status: DatasetFeaturization. Beginning to featurize the CV split.\n",
       "\r",
       "Current status: DatasetFeaturizationCompleted. Completed featurizing the CV split.\n",
       "\r",
       "Current status: DatasetFeaturization. Beginning to featurize the CV split.\n",
       "\r",
       "Current status: DatasetFeaturizationCompleted. Completed featurizing the CV split.\n",
       "\n",
       "****************************************************************************************************\n",
       "DATA GUARDRAILS: \n",
       "\n",
       "TYPE:         Frequency detection\n",
       "STATUS:       PASSED\n",
       "DESCRIPTION:  The time series was analyzed, all data points are aligned with detected frequency.\n",
       "              \n",
       "\n",
       "****************************************************************************************************\n",
       "\r",
       "Current status: ModelSelection. Beginning model selection.\n",
       "\n",
       "****************************************************************************************************\n",
       "ITERATION: The iteration being evaluated.\n",
       "PIPELINE: A summary description of the pipeline being evaluated.\n",
       "DURATION: Time taken for the current iteration.\n",
       "METRIC: The result of computing score on the fitted pipeline.\n",
       "BEST: The best observed score thus far.\n",
       "****************************************************************************************************\n",
       "\n",
       " ITERATION   PIPELINE                                       DURATION      METRIC      BEST\n",
       "         0   StandardScalerWrapper ElasticNet               0:00:08       0.1360    0.1360\n",
       "         1   StandardScalerWrapper ElasticNet               0:00:08       0.1149    0.1149\n",
       "         2   RobustScaler ElasticNet                        0:00:07       0.1360    0.1149\n",
       "****************************************************************************************************\n",
       "\r",
       "Current status: BestRunExplainModel. Best run model explanations started\n",
       "\r",
       "Current status: ModelExplanationDataSetSetup. Model explanations data setup completed\n",
       "\r",
       "Current status: PickSurrogateModel. Choosing LightGBM as the surrogate model for explanations\n",
       "\r",
       "Current status: EngineeredFeatureExplanations. Computation of engineered features started\n",
       "\r",
       "Current status: EngineeredFeatureExplanations. Computation of engineered features completed\n",
       "\r",
       "Current status: BestRunExplainModel. Best run model explanations completed\n",
       "****************************************************************************************************\n",
       "</div>"
      ]
     },
     "metadata": {},
     "output_type": "display_data"
    }
   ],
   "source": [
    "# create a new experiment\n",
    "experiment = Experiment(ws, experiment_name)\n",
    "\n",
    "# submit the run\n",
    "automl_run = experiment.submit(automl_config, show_output=True)"
   ]
  },
  {
   "cell_type": "markdown",
   "metadata": {},
   "source": [
    "### Get the best run and the best trained model\n",
    "\n",
    "At this point you have multiple runs, each with a different trained model pipeline. How can you get the model pipeline that performed the best? Run the following cells to learn how."
   ]
  },
  {
   "cell_type": "code",
   "execution_count": 16,
   "metadata": {},
   "outputs": [
    {
     "data": {
      "text/html": [
       "<style scoped>\n",
       "  .ansiout {\n",
       "    display: block;\n",
       "    unicode-bidi: embed;\n",
       "    white-space: pre-wrap;\n",
       "    word-wrap: break-word;\n",
       "    word-break: break-all;\n",
       "    font-family: \"Source Code Pro\", \"Menlo\", monospace;;\n",
       "    font-size: 13px;\n",
       "    color: #555;\n",
       "    margin-left: 4px;\n",
       "    line-height: 19px;\n",
       "  }\n",
       "</style>\n",
       "<div class=\"ansiout\"></div>"
      ]
     },
     "metadata": {},
     "output_type": "display_data"
    }
   ],
   "source": [
    "best_run, best_model = automl_run.get_output()"
   ]
  },
  {
   "cell_type": "markdown",
   "metadata": {},
   "source": [
    "## Understand how to score time-series data using a static DataFrame\n",
    "Before implementing the scoring against a Spark Structured Streaming DataFrame, it is often useful to prototype the approach using a static data set. The following cells will do just that. It uses the above trained model and forecasts using that data loaded directly from disk."
   ]
  },
  {
   "cell_type": "markdown",
   "metadata": {},
   "source": [
    "The next cell downloads the sample data set that represents the incoming data you will process with the Spark streaming query. While this approach leverages a CSV file based source, this same approach used here could be applied to process data from IoT Hub, Event Hubs and Kafka sources."
   ]
  },
  {
   "cell_type": "code",
   "execution_count": 19,
   "metadata": {},
   "outputs": [
    {
     "data": {
      "text/html": [
       "[FileInfo(path='dbfs:/FileStore/temp_d13aad2f-1240-45f3-a75b-d1e9ec781c86/daily-battery-time-series-v2.csv', name='daily-battery-time-series-v2.csv', size=132341)]"
      ]
     },
     "metadata": {},
     "output_type": "display_data"
    }
   ],
   "source": [
    "import uuid\n",
    "\n",
    "# Create a temporary folder to store locally relevant content for this notebook\n",
    "session_id = uuid.uuid4()\n",
    "tempFolderName = '/FileStore/temp_{0}'.format(session_id)\n",
    "dbutils.fs.mkdirs(tempFolderName)\n",
    "print('Content files will be saved to {0}'.format(tempFolderName))\n",
    "\n",
    "import os\n",
    "filesToDownload = ['daily-battery-time-series-v2.csv']\n",
    "\n",
    "for fileToDownload in filesToDownload:\n",
    "  downloadCommand = 'wget -O ''/dbfs{0}/{1}'' ''https://databricksdemostore.blob.core.windows.net/data/connected-car/{1}'''.format(tempFolderName, fileToDownload)\n",
    "  print(downloadCommand)\n",
    "  os.system(downloadCommand)\n",
    "  \n",
    "#List all downloaded files\n",
    "dbutils.fs.ls(tempFolderName)"
   ]
  },
  {
   "cell_type": "markdown",
   "metadata": {},
   "source": [
    "Now, the data is loaded from the provided CSV to createbthe test data sets. In this case I am using the last 500 rows as my test dataset."
   ]
  },
  {
   "cell_type": "code",
   "execution_count": 21,
   "metadata": {},
   "outputs": [
    {
     "data": {
      "text/html": [
       "<style scoped>\n",
       "  .ansiout {\n",
       "    display: block;\n",
       "    unicode-bidi: embed;\n",
       "    white-space: pre-wrap;\n",
       "    word-wrap: break-word;\n",
       "    word-break: break-all;\n",
       "    font-family: \"Source Code Pro\", \"Menlo\", monospace;;\n",
       "    font-size: 13px;\n",
       "    color: #555;\n",
       "    margin-left: 4px;\n",
       "    line-height: 19px;\n",
       "  }\n",
       "</style>\n",
       "<div class=\"ansiout\"></div>"
      ]
     },
     "metadata": {},
     "output_type": "display_data"
    }
   ],
   "source": [
    "data_path = '/dbfs{0}/daily-battery-time-series-v2.csv'.format(tempFolderName)\n",
    "pandas_df = pd.read_csv(data_path, sep=',')\n",
    "data = pandas_df\n",
    "\n",
    "field_to_predict = 'Daily_Cycles_Used'\n",
    "X_test = data.iloc[-500:][['Date','Battery_ID','Battery_Age_Days','Daily_Trip_Duration',field_to_predict]] \n",
    "y_test = X_test.pop(field_to_predict).values"
   ]
  },
  {
   "cell_type": "markdown",
   "metadata": {},
   "source": [
    "Next, the best trained model pipeline is applied to forecast the battery cycles used for some rows of the test data."
   ]
  },
  {
   "cell_type": "code",
   "execution_count": 23,
   "metadata": {},
   "outputs": [
    {
     "data": {
      "text/html": [
       "<style scoped>\n",
       "  .ansiout {\n",
       "    display: block;\n",
       "    unicode-bidi: embed;\n",
       "    white-space: pre-wrap;\n",
       "    word-wrap: break-word;\n",
       "    word-break: break-all;\n",
       "    font-family: \"Source Code Pro\", \"Menlo\", monospace;;\n",
       "    font-size: 13px;\n",
       "    color: #555;\n",
       "    margin-left: 4px;\n",
       "    line-height: 19px;\n",
       "  }\n",
       "</style>\n",
       "<div class=\"ansiout\">predicted:  [0.14264633 0.14408106 0.14405788 0.14133612 0.14317895 0.14258427\n",
       " 0.14465001 0.14408369 0.14210325 0.14115508 0.14220464 0.13837258\n",
       " 0.14103327 0.14426143 0.14328412 0.14144389 0.14424872 0.1412123\n",
       " 0.14248391 0.14164407 0.14054159 0.14554583 0.13954701 0.1437073\n",
       " 0.14159196 0.1423007  0.13909944 0.14185534 0.1406769  0.14349889]\n",
       "actual:  [0.14612809 0.15558208 0.15543076 0.13749998 0.14964273 0.14572615\n",
       " 0.15933757 0.15560774 0.1425611  0.13631549 0.14323184 0.11798587\n",
       " 0.13551713 0.15678712 0.15034955 0.13822664 0.15670756 0.13670358\n",
       " 0.14508294 0.13955106 0.13228883 0.16526042 0.12573885 0.15315009\n",
       " 0.13921468 0.14388556 0.1227956  0.1409541  0.13319141 0.15178535]\n",
       "</div>"
      ]
     },
     "metadata": {},
     "output_type": "display_data"
    }
   ],
   "source": [
    "y_predict = best_model.predict(X_test.iloc[0:30])\n",
    "y_actual = y_test[0:30].flatten()\n",
    "\n",
    "print(\"predicted: \", y_predict)\n",
    "print(\"actual: \", y_actual)"
   ]
  },
  {
   "cell_type": "markdown",
   "metadata": {},
   "source": [
    "## Create the Spark Streaming Query"
   ]
  },
  {
   "cell_type": "markdown",
   "metadata": {},
   "source": [
    "With an idea of how to score against a static data set, the scoring is now incorporated into the processing of the streaming microbatches. \n",
    "\n",
    "The next cell defines the schema of the streaming data frame."
   ]
  },
  {
   "cell_type": "code",
   "execution_count": 26,
   "metadata": {},
   "outputs": [
    {
     "data": {
      "text/html": [
       "<style scoped>\n",
       "  .ansiout {\n",
       "    display: block;\n",
       "    unicode-bidi: embed;\n",
       "    white-space: pre-wrap;\n",
       "    word-wrap: break-word;\n",
       "    word-break: break-all;\n",
       "    font-family: \"Source Code Pro\", \"Menlo\", monospace;;\n",
       "    font-size: 13px;\n",
       "    color: #555;\n",
       "    margin-left: 4px;\n",
       "    line-height: 19px;\n",
       "  }\n",
       "</style>\n",
       "<div class=\"ansiout\"></div>"
      ]
     },
     "metadata": {},
     "output_type": "display_data"
    }
   ],
   "source": [
    "from pyspark.sql.types import StructField, StructType, StringType, Row\n",
    "userSchema = StructType().add(\"Idx\", \"integer\").add(\"Date\", \"date\").add(\"Battery_ID\", \"integer\").add(\"Battery_Age_Days\", \"integer\") \\\n",
    "             .add(\"Number_Of_Trips\", \"integer\").add(\"Daily_Trip_Duration\", \"float\").add(\"Daily_Cycles_Used\", \"float\") \\\n",
    "             .add(\"Lifetime_Cycles_Used\", \"float\").add(\"Battery_Rated_Cycles\", \"float\")"
   ]
  },
  {
   "cell_type": "markdown",
   "metadata": {},
   "source": [
    "To leverage the model for scoring microbatches, a function need to be defined with the scoring logic that will write the scored results to the desired destination. \n",
    "\n",
    "In this case, the scored results will be written out to a Databricks Delta table. The following cells  will create the helper functions for scoring and saving."
   ]
  },
  {
   "cell_type": "code",
   "execution_count": 28,
   "metadata": {},
   "outputs": [
    {
     "data": {
      "text/html": [
       "<style scoped>\n",
       "  .ansiout {\n",
       "    display: block;\n",
       "    unicode-bidi: embed;\n",
       "    white-space: pre-wrap;\n",
       "    word-wrap: break-word;\n",
       "    word-break: break-all;\n",
       "    font-family: \"Source Code Pro\", \"Menlo\", monospace;;\n",
       "    font-size: 13px;\n",
       "    color: #555;\n",
       "    margin-left: 4px;\n",
       "    line-height: 19px;\n",
       "  }\n",
       "</style>\n",
       "<div class=\"ansiout\"></div>"
      ]
     },
     "metadata": {},
     "output_type": "display_data"
    }
   ],
   "source": [
    "deltaDataPath = '/tmp/{0}'.format(session_id)\n",
    "deltaDataPath\n",
    "\n",
    "def foreach_batch_scorerer(df, epoch_id):\n",
    "    # Transform and write batchDF\n",
    "    scored_df = score_batch(df)\n",
    "    write_scored_results(scored_df)\n",
    "    pass\n",
    "\n",
    "def score_batch(df):\n",
    "  pandas_df = df.toPandas()\n",
    "  pandas_df = pandas_df[['Date','Battery_ID','Battery_Age_Days','Daily_Trip_Duration']] \n",
    "  y_predict = best_model.predict(pandas_df)\n",
    "  pandas_df['forecast'] = y_predict\n",
    "  pandas_df = pandas_df[['Date','Battery_ID','Battery_Age_Days','Daily_Trip_Duration', 'forecast']] \n",
    "  scored_df = spark.createDataFrame(pandas_df)\n",
    "  return scored_df\n",
    "\n",
    "def write_scored_results(scored_df):\n",
    "  (scored_df\n",
    "    .write\n",
    "    .format(\"delta\")\n",
    "    .partitionBy(\"Battery_ID\")\n",
    "    .mode(\"append\")\n",
    "    .save(deltaDataPath)\n",
    "  )"
   ]
  },
  {
   "cell_type": "markdown",
   "metadata": {},
   "source": [
    "The next cell defines the streaming source."
   ]
  },
  {
   "cell_type": "code",
   "execution_count": 30,
   "metadata": {},
   "outputs": [
    {
     "data": {
      "text/html": [
       "<style scoped>\n",
       "  .ansiout {\n",
       "    display: block;\n",
       "    unicode-bidi: embed;\n",
       "    white-space: pre-wrap;\n",
       "    word-wrap: break-word;\n",
       "    word-break: break-all;\n",
       "    font-family: \"Source Code Pro\", \"Menlo\", monospace;;\n",
       "    font-size: 13px;\n",
       "    color: #555;\n",
       "    margin-left: 4px;\n",
       "    line-height: 19px;\n",
       "  }\n",
       "</style>\n",
       "<div class=\"ansiout\"></div>"
      ]
     },
     "metadata": {},
     "output_type": "display_data"
    }
   ],
   "source": [
    "csvDF = spark \\\n",
    "    .readStream \\\n",
    "    .option(\"sep\", \",\") \\\n",
    "    .schema(userSchema) \\\n",
    "    .csv(tempFolderName, header=True) "
   ]
  },
  {
   "cell_type": "markdown",
   "metadata": {},
   "source": [
    "The next cell starts the streaming query. Notice the use of `foreachBatch` as sink (the destination for the data)."
   ]
  },
  {
   "cell_type": "code",
   "execution_count": 32,
   "metadata": {},
   "outputs": [
    {
     "data": {
      "text/html": [
       "<style scoped>\n",
       "  .ansiout {\n",
       "    display: block;\n",
       "    unicode-bidi: embed;\n",
       "    white-space: pre-wrap;\n",
       "    word-wrap: break-word;\n",
       "    word-break: break-all;\n",
       "    font-family: \"Source Code Pro\", \"Menlo\", monospace;;\n",
       "    font-size: 13px;\n",
       "    color: #555;\n",
       "    margin-left: 4px;\n",
       "    line-height: 19px;\n",
       "  }\n",
       "</style>\n",
       "<div class=\"ansiout\"></div>"
      ]
     },
     "metadata": {},
     "output_type": "display_data"
    }
   ],
   "source": [
    "spark.conf.set(\"spark.sql.shuffle.partitions\", \"2\")  # keep the size of shuffles small\n",
    "\n",
    "# csvDF.writeStream.format(\"memory\").queryName(\"metrics\").start()\n",
    "# streaming_query = csvDF.writeStream.foreach(ForeachScorer()).start()\n",
    "streaming_query = csvDF.writeStream.foreachBatch(foreach_batch_scorerer).start()   "
   ]
  },
  {
   "cell_type": "markdown",
   "metadata": {},
   "source": [
    "After the stream has started processing (e.g., the above cell's output displays a GUID instead of the phrase `stream initializing`),  query the Delta table. The next cell shows the scored result."
   ]
  },
  {
   "cell_type": "code",
   "execution_count": 34,
   "metadata": {},
   "outputs": [
    {
     "data": {
      "text/html": [
       "<style scoped>\n",
       "  .table-result-container {\n",
       "    max-height: 300px;\n",
       "    overflow: auto;\n",
       "  }\n",
       "  table, th, td {\n",
       "    border: 1px solid black;\n",
       "    border-collapse: collapse;\n",
       "  }\n",
       "  th, td {\n",
       "    padding: 5px;\n",
       "  }\n",
       "  th {\n",
       "    text-align: left;\n",
       "  }\n",
       "</style><div class='table-result-container'><table class='table-result'><thead style='background-color: white'><tr><th>Date</th><th>Battery_ID</th><th>Battery_Age_Days</th><th>Daily_Trip_Duration</th><th>forecast</th></tr></thead><tbody><tr><td>2015-02-10T00:00:00.000+0000</td><td>0</td><td>770</td><td>49.45682</td><td>0.13899198866329068</td></tr><tr><td>2015-02-11T00:00:00.000+0000</td><td>0</td><td>771</td><td>58.761208</td><td>0.1424662690718341</td></tr><tr><td>2015-02-12T00:00:00.000+0000</td><td>0</td><td>772</td><td>58.99486</td><td>0.14255331080691389</td></tr><tr><td>2015-02-13T00:00:00.000+0000</td><td>0</td><td>773</td><td>51.401432</td><td>0.13971752339353938</td></tr><tr><td>2015-02-14T00:00:00.000+0000</td><td>0</td><td>774</td><td>56.159653</td><td>0.14149415169579957</td></tr><tr><td>2015-02-15T00:00:00.000+0000</td><td>0</td><td>775</td><td>64.706314</td><td>0.14468547869060072</td></tr><tr><td>2015-02-16T00:00:00.000+0000</td><td>0</td><td>776</td><td>61.473648</td><td>0.14347810966194907</td></tr><tr><td>2015-02-17T00:00:00.000+0000</td><td>0</td><td>777</td><td>62.008133</td><td>0.14367748917152318</td></tr><tr><td>2015-02-18T00:00:00.000+0000</td><td>0</td><td>778</td><td>54.35206</td><td>0.1408183085608427</td></tr><tr><td>2015-02-19T00:00:00.000+0000</td><td>0</td><td>779</td><td>56.89744</td><td>0.141768607994534</td></tr><tr><td>2015-02-20T00:00:00.000+0000</td><td>0</td><td>780</td><td>72.570656</td><td>0.14762116830577945</td></tr><tr><td>2015-02-21T00:00:00.000+0000</td><td>0</td><td>781</td><td>60.313297</td><td>0.1430437529370149</td></tr><tr><td>2015-02-22T00:00:00.000+0000</td><td>0</td><td>782</td><td>57.25889</td><td>0.1419029495347736</td></tr><tr><td>2015-02-23T00:00:00.000+0000</td><td>0</td><td>783</td><td>59.57257</td><td>0.14276672604731236</td></tr><tr><td>2015-02-24T00:00:00.000+0000</td><td>0</td><td>784</td><td>57.5495</td><td>0.14201105000047495</td></tr><tr><td>2015-02-25T00:00:00.000+0000</td><td>0</td><td>785</td><td>60.31104</td><td>0.14304206750335058</td></tr><tr><td>2015-02-26T00:00:00.000+0000</td><td>0</td><td>786</td><td>54.161613</td><td>0.1407455073904637</td></tr><tr><td>2015-02-27T00:00:00.000+0000</td><td>0</td><td>787</td><td>60.53618</td><td>0.1431257192146151</td></tr><tr><td>2015-02-28T00:00:00.000+0000</td><td>0</td><td>788</td><td>53.14588</td><td>0.14036578661530358</td></tr><tr><td>2015-03-01T00:00:00.000+0000</td><td>0</td><td>789</td><td>62.164635</td><td>0.1437334044714978</td></tr><tr><td>2015-03-02T00:00:00.000+0000</td><td>0</td><td>790</td><td>52.497566</td><td>0.14012326832411137</td></tr><tr><td>2015-03-03T00:00:00.000+0000</td><td>0</td><td>791</td><td>55.462505</td><td>0.14123024035629855</td></tr><tr><td>2015-03-04T00:00:00.000+0000</td><td>0</td><td>792</td><td>57.612587</td><td>0.1420329241850679</td></tr><tr><td>2015-03-05T00:00:00.000+0000</td><td>0</td><td>793</td><td>58.114098</td><td>0.14221999028595164</td></tr><tr><td>2015-03-06T00:00:00.000+0000</td><td>0</td><td>794</td><td>54.94138</td><td>0.1410350073305958</td></tr><tr><td>2015-03-07T00:00:00.000+0000</td><td>0</td><td>795</td><td>63.04671</td><td>0.14406153066063493</td></tr><tr><td>2015-03-08T00:00:00.000+0000</td><td>0</td><td>796</td><td>59.332867</td><td>0.14267447760313298</td></tr><tr><td>2015-03-09T00:00:00.000+0000</td><td>0</td><td>797</td><td>54.65186</td><td>0.1409262616134568</td></tr><tr><td>2015-03-10T00:00:00.000+0000</td><td>0</td><td>798</td><td>53.58933</td><td>0.14052927556063</td></tr><tr><td>2015-03-11T00:00:00.000+0000</td><td>0</td><td>799</td><td>57.98378</td><td>0.14217006320431652</td></tr><tr><td>2015-03-12T00:00:00.000+0000</td><td>0</td><td>800</td><td>58.685066</td><td>0.14243173055613886</td></tr><tr><td>2015-03-13T00:00:00.000+0000</td><td>0</td><td>801</td><td>60.915813</td><td>0.14326453693698665</td></tr><tr><td>2015-03-14T00:00:00.000+0000</td><td>0</td><td>802</td><td>51.20515</td><td>0.13963812156302535</td></tr><tr><td>2015-03-15T00:00:00.000+0000</td><td>0</td><td>803</td><td>58.43236</td><td>0.14233673272276556</td></tr><tr><td>2015-03-16T00:00:00.000+0000</td><td>0</td><td>804</td><td>54.39172</td><td>0.1408276452951012</td></tr><tr><td>2015-03-17T00:00:00.000+0000</td><td>0</td><td>805</td><td>58.16532</td><td>0.14223659213694018</td></tr><tr><td>2015-03-18T00:00:00.000+0000</td><td>0</td><td>806</td><td>55.604626</td><td>0.14128015368221603</td></tr><tr><td>2015-03-19T00:00:00.000+0000</td><td>0</td><td>807</td><td>52.013702</td><td>0.13993900240262117</td></tr><tr><td>2015-03-20T00:00:00.000+0000</td><td>0</td><td>808</td><td>53.48451</td><td>0.14048802773316385</td></tr><tr><td>2015-03-21T00:00:00.000+0000</td><td>0</td><td>809</td><td>57.231342</td><td>0.14188697883358914</td></tr><tr><td>2015-03-22T00:00:00.000+0000</td><td>0</td><td>810</td><td>58.512516</td><td>0.14236519066813397</td></tr><tr><td>2015-03-23T00:00:00.000+0000</td><td>0</td><td>811</td><td>53.115593</td><td>0.14034963382362875</td></tr><tr><td>2015-03-24T00:00:00.000+0000</td><td>0</td><td>812</td><td>61.54491</td><td>0.1434971416647136</td></tr><tr><td>2015-03-25T00:00:00.000+0000</td><td>0</td><td>813</td><td>62.82143</td><td>0.14397361560492686</td></tr><tr><td>2015-03-26T00:00:00.000+0000</td><td>0</td><td>814</td><td>55.57182</td><td>0.14126621869655703</td></tr><tr><td>2015-03-27T00:00:00.000+0000</td><td>0</td><td>815</td><td>65.110916</td><td>0.14482814595955432</td></tr><tr><td>2015-03-28T00:00:00.000+0000</td><td>0</td><td>816</td><td>49.249187</td><td>0.13890476846807007</td></tr><tr><td>2015-03-29T00:00:00.000+0000</td><td>0</td><td>817</td><td>52.873085</td><td>0.14025781209257407</td></tr><tr><td>2015-03-30T00:00:00.000+0000</td><td>0</td><td>818</td><td>56.341915</td><td>0.1415529496477511</td></tr><tr><td>2015-03-31T00:00:00.000+0000</td><td>0</td><td>819</td><td>47.36635</td><td>0.13820103753247062</td></tr><tr><td>2015-04-01T00:00:00.000+0000</td><td>0</td><td>820</td><td>53.20342</td><td>0.14038053538185594</td></tr><tr><td>2015-04-02T00:00:00.000+0000</td><td>0</td><td>821</td><td>59.573193</td><td>0.1427589580295479</td></tr><tr><td>2015-04-03T00:00:00.000+0000</td><td>0</td><td>822</td><td>54.10633</td><td>0.14071728433694825</td></tr><tr><td>2015-04-04T00:00:00.000+0000</td><td>0</td><td>823</td><td>60.553867</td><td>0.1431247454895167</td></tr><tr><td>2015-04-05T00:00:00.000+0000</td><td>0</td><td>824</td><td>53.83202</td><td>0.14061442864735563</td></tr><tr><td>2015-04-06T00:00:00.000+0000</td><td>0</td><td>825</td><td>64.87111</td><td>0.1447364906494509</td></tr><tr><td>2015-04-07T00:00:00.000+0000</td><td>0</td><td>826</td><td>63.00994</td><td>0.14404127338230296</td></tr><tr><td>2015-04-08T00:00:00.000+0000</td><td>0</td><td>827</td><td>54.98638</td><td>0.14104486464659066</td></tr><tr><td>2015-04-09T00:00:00.000+0000</td><td>0</td><td>828</td><td>59.309986</td><td>0.1426591964103377</td></tr><tr><td>2015-04-10T00:00:00.000+0000</td><td>0</td><td>829</td><td>58.57798</td><td>0.14238563646764213</td></tr><tr><td>2015-04-11T00:00:00.000+0000</td><td>0</td><td>830</td><td>59.473873</td><td>0.14271997486809215</td></tr><tr><td>2015-04-12T00:00:00.000+0000</td><td>0</td><td>831</td><td>61.233917</td><td>0.14337700890683924</td></tr><tr><td>2015-04-13T00:00:00.000+0000</td><td>0</td><td>832</td><td>62.21961</td><td>0.14374488012086753</td></tr><tr><td>2015-04-14T00:00:00.000+0000</td><td>0</td><td>833</td><td>55.695015</td><td>0.14130822293279816</td></tr><tr><td>2015-04-15T00:00:00.000+0000</td><td>0</td><td>834</td><td>64.111176</td><td>0.14445081766113743</td></tr><tr><td>2015-04-16T00:00:00.000+0000</td><td>0</td><td>835</td><td>61.629066</td><td>0.14352372540405672</td></tr><tr><td>2015-04-17T00:00:00.000+0000</td><td>0</td><td>836</td><td>62.04018</td><td>0.14367703504430476</td></tr><tr><td>2015-04-18T00:00:00.000+0000</td><td>0</td><td>837</td><td>52.13369</td><td>0.13997749278057964</td></tr><tr><td>2015-04-19T00:00:00.000+0000</td><td>0</td><td>838</td><td>54.884487</td><td>0.1410044988814571</td></tr><tr><td>2015-04-20T00:00:00.000+0000</td><td>0</td><td>839</td><td>55.659473</td><td>0.1412936876418747</td></tr><tr><td>2015-04-21T00:00:00.000+0000</td><td>0</td><td>840</td><td>69.80347</td><td>0.14657519866781837</td></tr><tr><td>2015-04-22T00:00:00.000+0000</td><td>0</td><td>841</td><td>61.653767</td><td>0.14353168587320242</td></tr><tr><td>2015-04-23T00:00:00.000+0000</td><td>0</td><td>842</td><td>51.550133</td><td>0.13975852526598853</td></tr><tr><td>2015-04-24T00:00:00.000+0000</td><td>0</td><td>843</td><td>59.103264</td><td>0.14257884316007455</td></tr><tr><td>2015-04-25T00:00:00.000+0000</td><td>0</td><td>844</td><td>51.397736</td><td>0.13970119528536568</td></tr><tr><td>2015-04-26T00:00:00.000+0000</td><td>0</td><td>845</td><td>63.98417</td><td>0.14440107438913108</td></tr><tr><td>2015-04-27T00:00:00.000+0000</td><td>0</td><td>846</td><td>58.976963</td><td>0.14253104767634991</td></tr><tr><td>2015-04-28T00:00:00.000+0000</td><td>0</td><td>847</td><td>60.632313</td><td>0.14314898621515412</td></tr><tr><td>2015-04-29T00:00:00.000+0000</td><td>0</td><td>848</td><td>61.28362</td><td>0.14339198972145806</td></tr><tr><td>2015-04-30T00:00:00.000+0000</td><td>0</td><td>849</td><td>50.443966</td><td>0.13934398112570415</td></tr><tr><td>2015-05-01T00:00:00.000+0000</td><td>0</td><td>850</td><td>63.25442</td><td>0.14412751562497497</td></tr><tr><td>2015-05-02T00:00:00.000+0000</td><td>0</td><td>851</td><td>61.19572</td><td>0.14335853471497612</td></tr><tr><td>2015-05-03T00:00:00.000+0000</td><td>0</td><td>852</td><td>58.57892</td><td>0.14238114466203153</td></tr><tr><td>2015-05-04T00:00:00.000+0000</td><td>0</td><td>853</td><td>47.148697</td><td>0.13811260297361377</td></tr><tr><td>2015-05-05T00:00:00.000+0000</td><td>0</td><td>854</td><td>63.40232</td><td>0.14418190292456814</td></tr><tr><td>2015-05-06T00:00:00.000+0000</td><td>0</td><td>855</td><td>55.551647</td><td>0.1412500541142671</td></tr><tr><td>2015-05-07T00:00:00.000+0000</td><td>0</td><td>856</td><td>52.24525</td><td>0.14001515228099182</td></tr><tr><td>2015-05-08T00:00:00.000+0000</td><td>0</td><td>857</td><td>58.535812</td><td>0.14236399511245806</td></tr><tr><td>2015-05-09T00:00:00.000+0000</td><td>0</td><td>858</td><td>62.993362</td><td>0.14402834546937307</td></tr><tr><td>2015-05-10T00:00:00.000+0000</td><td>0</td><td>859</td><td>62.76982</td><td>0.14394465902942438</td></tr><tr><td>2015-05-11T00:00:00.000+0000</td><td>0</td><td>860</td><td>52.796192</td><td>0.14022004550321082</td></tr><tr><td>2015-05-12T00:00:00.000+0000</td><td>0</td><td>861</td><td>65.085075</td><td>0.14480881190553532</td></tr><tr><td>2015-05-13T00:00:00.000+0000</td><td>0</td><td>862</td><td>48.669132</td><td>0.1386784768402233</td></tr><tr><td>2015-05-14T00:00:00.000+0000</td><td>0</td><td>863</td><td>59.651108</td><td>0.14277921117516082</td></tr><tr><td>2015-05-15T00:00:00.000+0000</td><td>0</td><td>864</td><td>58.63342</td><td>0.1423989701615699</td></tr><tr><td>2015-05-16T00:00:00.000+0000</td><td>0</td><td>865</td><td>66.65023</td><td>0.14539243788672018</td></tr><tr><td>2015-05-17T00:00:00.000+0000</td><td>0</td><td>866</td><td>63.41943</td><td>0.14418576544030473</td></tr><tr><td>2015-05-18T00:00:00.000+0000</td><td>0</td><td>867</td><td>62.524216</td><td>0.14385125953770547</td></tr><tr><td>2015-05-19T00:00:00.000+0000</td><td>0</td><td>868</td><td>64.75604</td><td>0.14468446905305804</td></tr><tr><td>2015-05-20T00:00:00.000+0000</td><td>0</td><td>869</td><td>54.965668</td><td>0.14102828725290595</td></tr><tr><td>2015-05-21T00:00:00.000+0000</td><td>0</td><td>870</td><td>67.681625</td><td>0.1457765339502243</td></tr><tr><td>2015-05-22T00:00:00.000+0000</td><td>0</td><td>871</td><td>59.35302</td><td>0.14266621336359442</td></tr><tr><td>2015-05-23T00:00:00.000+0000</td><td>0</td><td>872</td><td>61.760098</td><td>0.14356486599655954</td></tr><tr><td>2015-05-24T00:00:00.000+0000</td><td>0</td><td>873</td><td>48.72588</td><td>0.1386973519042435</td></tr><tr><td>2015-05-25T00:00:00.000+0000</td><td>0</td><td>874</td><td>55.953102</td><td>0.14139596733749438</td></tr><tr><td>2015-05-26T00:00:00.000+0000</td><td>0</td><td>875</td><td>60.125706</td><td>0.14295391155269924</td></tr><tr><td>2015-05-27T00:00:00.000+0000</td><td>0</td><td>876</td><td>51.90345</td><td>0.13988330470055316</td></tr><tr><td>2015-05-28T00:00:00.000+0000</td><td>0</td><td>877</td><td>54.204266</td><td>0.14074227636261613</td></tr><tr><td>2015-05-29T00:00:00.000+0000</td><td>0</td><td>878</td><td>48.27404</td><td>0.13852757107274688</td></tr><tr><td>2015-05-30T00:00:00.000+0000</td><td>0</td><td>879</td><td>60.105824</td><td>0.1429456449126317</td></tr><tr><td>2015-05-31T00:00:00.000+0000</td><td>0</td><td>880</td><td>54.793106</td><td>0.14096153255949978</td></tr><tr><td>2015-06-01T00:00:00.000+0000</td><td>0</td><td>881</td><td>53.779045</td><td>0.14058264624878536</td></tr><tr><td>2015-06-02T00:00:00.000+0000</td><td>0</td><td>882</td><td>56.52091</td><td>0.14160631616234762</td></tr><tr><td>2015-06-03T00:00:00.000+0000</td><td>0</td><td>883</td><td>52.198345</td><td>0.13999195222428865</td></tr><tr><td>2015-06-04T00:00:00.000+0000</td><td>0</td><td>884</td><td>65.14538</td><td>0.14482648822417726</td></tr><tr><td>2015-06-05T00:00:00.000+0000</td><td>0</td><td>885</td><td>62.745</td><td>0.14392991595566557</td></tr><tr><td>2015-06-06T00:00:00.000+0000</td><td>0</td><td>886</td><td>59.367416</td><td>0.14266843146163477</td></tr><tr><td>2015-06-07T00:00:00.000+0000</td><td>0</td><td>887</td><td>54.22938</td><td>0.1407495499750864</td></tr><tr><td>2015-06-08T00:00:00.000+0000</td><td>0</td><td>888</td><td>56.28014</td><td>0.14151514400491194</td></tr><tr><td>2015-06-09T00:00:00.000+0000</td><td>0</td><td>889</td><td>59.71574</td><td>0.14279787270966074</td></tr><tr><td>2015-06-10T00:00:00.000+0000</td><td>0</td><td>890</td><td>49.49593</td><td>0.13898132884681702</td></tr><tr><td>2015-06-11T00:00:00.000+0000</td><td>0</td><td>891</td><td>62.69213</td><td>0.14390891056961583</td></tr><tr><td>2015-06-12T00:00:00.000+0000</td><td>0</td><td>892</td><td>59.65937</td><td>0.14277619122502347</td></tr><tr><td>2015-06-13T00:00:00.000+0000</td><td>0</td><td>893</td><td>58.374195</td><td>0.14229606402247297</td></tr><tr><td>2015-06-14T00:00:00.000+0000</td><td>0</td><td>894</td><td>60.738358</td><td>0.1431786909904952</td></tr><tr><td>2015-06-15T00:00:00.000+0000</td><td>0</td><td>895</td><td>64.48938</td><td>0.1445792061958189</td></tr><tr><td>2015-06-16T00:00:00.000+0000</td><td>0</td><td>896</td><td>58.96056</td><td>0.14251439571655236</td></tr><tr><td>2015-06-17T00:00:00.000+0000</td><td>0</td><td>897</td><td>52.80921</td><td>0.14021711765387607</td></tr><tr><td>2015-06-18T00:00:00.000+0000</td><td>0</td><td>898</td><td>61.67332</td><td>0.1435269875606374</td></tr><tr><td>2015-06-19T00:00:00.000+0000</td><td>0</td><td>899</td><td>54.02481</td><td>0.14067063174049754</td></tr><tr><td>2015-06-20T00:00:00.000+0000</td><td>0</td><td>900</td><td>52.559464</td><td>0.14012322381075437</td></tr><tr><td>2015-06-21T00:00:00.000+0000</td><td>0</td><td>901</td><td>63.018974</td><td>0.14402885671491475</td></tr><tr><td>2015-06-22T00:00:00.000+0000</td><td>0</td><td>902</td><td>51.154274</td><td>0.13959806977011163</td></tr><tr><td>2015-06-23T00:00:00.000+0000</td><td>0</td><td>903</td><td>62.30418</td><td>0.14376151360034836</td></tr><tr><td>2015-06-24T00:00:00.000+0000</td><td>0</td><td>904</td><td>69.58645</td><td>0.1464806846198326</td></tr><tr><td>2015-06-25T00:00:00.000+0000</td><td>0</td><td>905</td><td>67.72158</td><td>0.1457840855842407</td></tr><tr><td>2015-06-26T00:00:00.000+0000</td><td>0</td><td>906</td><td>56.188057</td><td>0.14147696833967593</td></tr><tr><td>2015-06-27T00:00:00.000+0000</td><td>0</td><td>907</td><td>62.91342</td><td>0.14398817751032936</td></tr><tr><td>2015-06-28T00:00:00.000+0000</td><td>0</td><td>908</td><td>60.80947</td><td>0.1432022991392147</td></tr><tr><td>2015-06-29T00:00:00.000+0000</td><td>0</td><td>909</td><td>51.45165</td><td>0.13970764322115495</td></tr><tr><td>2015-06-30T00:00:00.000+0000</td><td>0</td><td>910</td><td>66.42202</td><td>0.14529774445123889</td></tr><tr><td>2015-07-01T00:00:00.000+0000</td><td>0</td><td>911</td><td>60.468166</td><td>0.14307421578637797</td></tr><tr><td>2015-07-02T00:00:00.000+0000</td><td>0</td><td>912</td><td>52.73283</td><td>0.14018543684092566</td></tr><tr><td>2015-07-03T00:00:00.000+0000</td><td>0</td><td>913</td><td>58.04894</td><td>0.14217039451393274</td></tr><tr><td>2015-07-04T00:00:00.000+0000</td><td>0</td><td>914</td><td>51.753445</td><td>0.1398192887355945</td></tr><tr><td>2015-07-05T00:00:00.000+0000</td><td>0</td><td>915</td><td>50.355892</td><td>0.13929719708295044</td></tr><tr><td>2015-07-06T00:00:00.000+0000</td><td>0</td><td>916</td><td>57.775143</td><td>0.14206752060042885</td></tr><tr><td>2015-07-07T00:00:00.000+0000</td><td>0</td><td>917</td><td>57.551548</td><td>0.14198381421743048</td></tr><tr><td>2015-07-08T00:00:00.000+0000</td><td>0</td><td>918</td><td>51.64474</td><td>0.13977785395485762</td></tr><tr><td>2015-07-09T00:00:00.000+0000</td><td>0</td><td>919</td><td>59.712063</td><td>0.1427901835315198</td></tr><tr><td>2015-07-10T00:00:00.000+0000</td><td>0</td><td>920</td><td>58.063705</td><td>0.1421744350439424</td></tr><tr><td>2015-07-11T00:00:00.000+0000</td><td>0</td><td>921</td><td>51.541054</td><td>0.1397385029281802</td></tr><tr><td>2015-07-12T00:00:00.000+0000</td><td>0</td><td>922</td><td>56.118896</td><td>0.141447773580056</td></tr><tr><td>2015-07-13T00:00:00.000+0000</td><td>0</td><td>923</td><td>53.992832</td><td>0.14065363736185924</td></tr><tr><td>2015-07-14T00:00:00.000+0000</td><td>0</td><td>924</td><td>56.946262</td><td>0.1417563116668346</td></tr><tr><td>2015-07-15T00:00:00.000+0000</td><td>0</td><td>925</td><td>63.897408</td><td>0.1443518329291302</td></tr><tr><td>2015-07-16T00:00:00.000+0000</td><td>0</td><td>926</td><td>52.536602</td><td>0.1401092129318205</td></tr><tr><td>2015-07-17T00:00:00.000+0000</td><td>0</td><td>927</td><td>55.951042</td><td>0.1413840399153748</td></tr><tr><td>2015-07-18T00:00:00.000+0000</td><td>0</td><td>928</td><td>58.150177</td><td>0.14220504143529977</td></tr><tr><td>2015-07-19T00:00:00.000+0000</td><td>0</td><td>929</td><td>59.923252</td><td>0.14286694157817528</td></tr><tr><td>2015-07-20T00:00:00.000+0000</td><td>0</td><td>930</td><td>55.20152</td><td>0.1411035175885942</td></tr><tr><td>2015-07-21T00:00:00.000+0000</td><td>0</td><td>931</td><td>61.05654</td><td>0.1432897191516881</td></tr><tr><td>2015-07-22T00:00:00.000+0000</td><td>0</td><td>932</td><td>54.364643</td><td>0.14079058608690184</td></tr><tr><td>2015-07-23T00:00:00.000+0000</td><td>0</td><td>933</td><td>63.429184</td><td>0.14417530225921243</td></tr><tr><td>2015-07-24T00:00:00.000+0000</td><td>0</td><td>934</td><td>55.94866</td><td>0.14138167730192502</td></tr><tr><td>2015-07-25T00:00:00.000+0000</td><td>0</td><td>935</td><td>63.48369</td><td>0.14419523450216046</td></tr><tr><td>2015-07-26T00:00:00.000+0000</td><td>0</td><td>936</td><td>57.535336</td><td>0.14197375997141934</td></tr><tr><td>2015-07-27T00:00:00.000+0000</td><td>0</td><td>937</td><td>57.326443</td><td>0.1418955436251045</td></tr><tr><td>2015-07-28T00:00:00.000+0000</td><td>0</td><td>938</td><td>56.57753</td><td>0.14161567028267324</td></tr><tr><td>2015-07-29T00:00:00.000+0000</td><td>0</td><td>939</td><td>55.21461</td><td>0.14110651169776398</td></tr><tr><td>2015-07-30T00:00:00.000+0000</td><td>0</td><td>940</td><td>55.578163</td><td>0.14124206062774464</td></tr><tr><td>2015-07-31T00:00:00.000+0000</td><td>0</td><td>941</td><td>59.65127</td><td>0.14276285094134594</td></tr><tr><td>2015-08-01T00:00:00.000+0000</td><td>0</td><td>942</td><td>51.129883</td><td>0.1395805402187855</td></tr><tr><td>2015-08-02T00:00:00.000+0000</td><td>0</td><td>943</td><td>64.626686</td><td>0.14462037424586557</td></tr><tr><td>2015-08-03T00:00:00.000+0000</td><td>0</td><td>944</td><td>57.617134</td><td>0.1420026213459274</td></tr><tr><td>2015-08-04T00:00:00.000+0000</td><td>0</td><td>945</td><td>55.9602</td><td>0.14138367057436851</td></tr><tr><td>2015-08-05T00:00:00.000+0000</td><td>0</td><td>946</td><td>60.05733</td><td>0.14291343098682716</td></tr><tr><td>2015-08-06T00:00:00.000+0000</td><td>0</td><td>947</td><td>59.800724</td><td>0.14281739695010293</td></tr><tr><td>2015-08-07T00:00:00.000+0000</td><td>0</td><td>948</td><td>49.053024</td><td>0.1388037260124333</td></tr><tr><td>2015-08-08T00:00:00.000+0000</td><td>0</td><td>949</td><td>58.639668</td><td>0.14238340828768375</td></tr><tr><td>2015-08-09T00:00:00.000+0000</td><td>0</td><td>950</td><td>59.816364</td><td>0.14282260581898806</td></tr><tr><td>2015-08-10T00:00:00.000+0000</td><td>0</td><td>951</td><td>59.55702</td><td>0.1427255489887146</td></tr><tr><td>2015-08-11T00:00:00.000+0000</td><td>0</td><td>952</td><td>54.420162</td><td>0.1408071076737633</td></tr><tr><td>2015-08-12T00:00:00.000+0000</td><td>0</td><td>953</td><td>60.072685</td><td>0.14291769089038356</td></tr><tr><td>2015-08-13T00:00:00.000+0000</td><td>0</td><td>954</td><td>62.66199</td><td>0.14388439205795506</td></tr><tr><td>2015-08-14T00:00:00.000+0000</td><td>0</td><td>955</td><td>62.955906</td><td>0.14399393667562177</td></tr><tr><td>2015-08-15T00:00:00.000+0000</td><td>0</td><td>956</td><td>47.63123</td><td>0.1382711079164917</td></tr><tr><td>2015-08-16T00:00:00.000+0000</td><td>0</td><td>957</td><td>60.1839</td><td>0.1429583787393318</td></tr><tr><td>2015-08-17T00:00:00.000+0000</td><td>0</td><td>958</td><td>59.38554</td><td>0.1426600409818792</td></tr><tr><td>2015-08-18T00:00:00.000+0000</td><td>0</td><td>959</td><td>61.78136</td><td>0.14355448990486686</td></tr><tr><td>2015-08-19T00:00:00.000+0000</td><td>0</td><td>960</td><td>67.298355</td><td>0.14561446335934572</td></tr><tr><td>2015-08-20T00:00:00.000+0000</td><td>0</td><td>961</td><td>55.311752</td><td>0.1411381549790835</td></tr><tr><td>2015-08-21T00:00:00.000+0000</td><td>0</td><td>962</td><td>55.405373</td><td>0.14117290461332874</td></tr><tr><td>2015-08-22T00:00:00.000+0000</td><td>0</td><td>963</td><td>55.628258</td><td>0.1412559249748855</td></tr><tr><td>2015-08-23T00:00:00.000+0000</td><td>0</td><td>964</td><td>62.20573</td><td>0.14371190756739038</td></tr><tr><td>2015-08-24T00:00:00.000+0000</td><td>0</td><td>965</td><td>61.91305</td><td>0.14360240342509284</td></tr><tr><td>2015-08-25T00:00:00.000+0000</td><td>0</td><td>966</td><td>56.064636</td><td>0.14141824803836717</td></tr><tr><td>2015-08-26T00:00:00.000+0000</td><td>0</td><td>967</td><td>62.644566</td><td>0.14387514801115855</td></tr><tr><td>2015-08-27T00:00:00.000+0000</td><td>0</td><td>968</td><td>56.933865</td><td>0.14174241862710873</td></tr><tr><td>2015-08-28T00:00:00.000+0000</td><td>0</td><td>969</td><td>57.071293</td><td>0.14179352726012767</td></tr><tr><td>2015-08-29T00:00:00.000+0000</td><td>0</td><td>970</td><td>53.715042</td><td>0.14054000858995117</td></tr><tr><td>2015-08-30T00:00:00.000+0000</td><td>0</td><td>971</td><td>68.17734</td><td>0.14594038161665035</td></tr><tr><td>2015-08-31T00:00:00.000+0000</td><td>0</td><td>972</td><td>62.336903</td><td>0.14375920629135228</td></tr><tr><td>2015-09-01T00:00:00.000+0000</td><td>0</td><td>973</td><td>48.128273</td><td>0.13845313741346807</td></tr><tr><td>2015-09-02T00:00:00.000+0000</td><td>0</td><td>974</td><td>61.300865</td><td>0.14337190288379295</td></tr><tr><td>2015-09-03T00:00:00.000+0000</td><td>0</td><td>975</td><td>64.22206</td><td>0.14446254013376678</td></tr><tr><td>2015-09-04T00:00:00.000+0000</td><td>0</td><td>976</td><td>60.709587</td><td>0.1431506837696875</td></tr><tr><td>2015-09-05T00:00:00.000+0000</td><td>0</td><td>977</td><td>55.14915</td><td>0.14107406700499459</td></tr><tr><td>2015-09-06T00:00:00.000+0000</td><td>0</td><td>978</td><td>53.748993</td><td>0.14055100241642554</td></tr><tr><td>2015-09-07T00:00:00.000+0000</td><td>0</td><td>979</td><td>51.988598</td><td>0.13989341625957058</td></tr><tr><td>2015-09-08T00:00:00.000+0000</td><td>0</td><td>980</td><td>59.35041</td><td>0.14264229102708942</td></tr><tr><td>2015-09-09T00:00:00.000+0000</td><td>0</td><td>981</td><td>56.59667</td><td>0.14161376414568977</td></tr><tr><td>2015-09-10T00:00:00.000+0000</td><td>0</td><td>982</td><td>56.65579</td><td>0.14163563056982448</td></tr><tr><td>2015-09-11T00:00:00.000+0000</td><td>0</td><td>983</td><td>51.765667</td><td>0.13980932614451816</td></tr><tr><td>2015-09-12T00:00:00.000+0000</td><td>0</td><td>984</td><td>54.215324</td><td>0.14072387908611372</td></tr><tr><td>2015-09-13T00:00:00.000+0000</td><td>0</td><td>985</td><td>55.801064</td><td>0.14131582328412878</td></tr><tr><td>2015-09-14T00:00:00.000+0000</td><td>0</td><td>986</td><td>60.603867</td><td>0.14310909975938343</td></tr><tr><td>2015-09-15T00:00:00.000+0000</td><td>0</td><td>987</td><td>58.031612</td><td>0.14214834505890134</td></tr><tr><td>2015-09-16T00:00:00.000+0000</td><td>0</td><td>988</td><td>60.281868</td><td>0.1429884363509063</td></tr><tr><td>2015-09-17T00:00:00.000+0000</td><td>0</td><td>989</td><td>60.504585</td><td>0.14307139403430685</td></tr><tr><td>2015-09-18T00:00:00.000+0000</td><td>0</td><td>990</td><td>60.30418</td><td>0.14299634720839183</td></tr><tr><td>2015-09-19T00:00:00.000+0000</td><td>0</td><td>991</td><td>62.56865</td><td>0.14384174620062584</td></tr><tr><td>2015-09-20T00:00:00.000+0000</td><td>0</td><td>992</td><td>48.257996</td><td>0.13849757897528406</td></tr><tr><td>2015-09-21T00:00:00.000+0000</td><td>0</td><td>993</td><td>63.22338</td><td>0.14408581837922751</td></tr><tr><td>2015-09-22T00:00:00.000+0000</td><td>0</td><td>994</td><td>58.49649</td><td>0.1423204684608462</td></tr><tr><td>2015-09-23T00:00:00.000+0000</td><td>0</td><td>995</td><td>59.002827</td><td>0.1425093365587213</td></tr><tr><td>2015-09-24T00:00:00.000+0000</td><td>0</td><td>996</td><td>57.04176</td><td>0.1417768143925934</td></tr><tr><td>2015-09-25T00:00:00.000+0000</td><td>0</td><td>997</td><td>51.85611</td><td>0.13984015225272792</td></tr><tr><td>2015-09-26T00:00:00.000+0000</td><td>0</td><td>998</td><td>57.848446</td><td>0.14207763024562484</td></tr><tr><td>2015-09-27T00:00:00.000+0000</td><td>0</td><td>999</td><td>66.3174</td><td>0.1452399386785992</td></tr><tr><td>2015-09-28T00:00:00.000+0000</td><td>0</td><td>1000</td><td>54.086517</td><td>0.14067241078897852</td></tr><tr><td>2015-09-29T00:00:00.000+0000</td><td>0</td><td>1001</td><td>59.461117</td><td>0.14267921037492506</td></tr><tr><td>2015-09-30T00:00:00.000+0000</td><td>0</td><td>1002</td><td>55.164497</td><td>0.1410745344855129</td></tr><tr><td>2015-10-01T00:00:00.000+0000</td><td>0</td><td>1003</td><td>54.303883</td><td>0.14075294883011652</td></tr><tr><td>2015-10-02T00:00:00.000+0000</td><td>0</td><td>1004</td><td>55.385708</td><td>0.1411567189581204</td></tr><tr><td>2015-10-03T00:00:00.000+0000</td><td>0</td><td>1005</td><td>55.599953</td><td>0.14123651281913535</td></tr><tr><td>2015-10-04T00:00:00.000+0000</td><td>0</td><td>1006</td><td>57.20513</td><td>0.14183571628724365</td></tr><tr><td>2015-10-05T00:00:00.000+0000</td><td>0</td><td>1007</td><td>62.20576</td><td>0.14370286609212257</td></tr><tr><td>2015-10-06T00:00:00.000+0000</td><td>0</td><td>1008</td><td>60.937874</td><td>0.14322919473966284</td></tr><tr><td>2015-10-07T00:00:00.000+0000</td><td>0</td><td>1009</td><td>53.73544</td><td>0.14053941466670178</td></tr><tr><td>2015-10-08T00:00:00.000+0000</td><td>0</td><td>1010</td><td>64.66742</td><td>0.14462147945810674</td></tr><tr><td>2015-10-09T00:00:00.000+0000</td><td>0</td><td>1011</td><td>51.086308</td><td>0.13954974141427628</td></tr><tr><td>2015-10-10T00:00:00.000+0000</td><td>0</td><td>1012</td><td>60.263096</td><td>0.14297637360355975</td></tr><tr><td>2015-10-11T00:00:00.000+0000</td><td>0</td><td>1013</td><td>62.182255</td><td>0.14369282510990086</td></tr><tr><td>2015-10-12T00:00:00.000+0000</td><td>0</td><td>1014</td><td>57.70022</td><td>0.14201890980091414</td></tr><tr><td>2015-10-13T00:00:00.000+0000</td><td>0</td><td>1015</td><td>55.392605</td><td>0.14115697860974297</td></tr><tr><td>2015-10-14T00:00:00.000+0000</td><td>0</td><td>1016</td><td>51.412945</td><td>0.13967066329583655</td></tr><tr><td>2015-10-15T00:00:00.000+0000</td><td>0</td><td>1017</td><td>61.911686</td><td>0.14359094579451007</td></tr><tr><td>2015-10-16T00:00:00.000+0000</td><td>0</td><td>1018</td><td>51.00001</td><td>0.1395160425717231</td></tr><tr><td>2015-10-17T00:00:00.000+0000</td><td>0</td><td>1019</td><td>53.113426</td><td>0.14030503407236525</td></tr><tr><td>2015-10-18T00:00:00.000+0000</td><td>0</td><td>1020</td><td>61.853683</td><td>0.14356865462235321</td></tr><tr><td>2015-10-19T00:00:00.000+0000</td><td>0</td><td>1021</td><td>66.15691</td><td>0.14517537811263712</td></tr><tr><td>2015-10-20T00:00:00.000+0000</td><td>0</td><td>1022</td><td>70.613556</td><td>0.1468393894377071</td></tr><tr><td>2015-10-21T00:00:00.000+0000</td><td>0</td><td>1023</td><td>66.327385</td><td>0.1452386152635197</td></tr><tr><td>2015-10-22T00:00:00.000+0000</td><td>0</td><td>1024</td><td>64.01526</td><td>0.14437499888464833</td></tr><tr><td>2015-10-23T00:00:00.000+0000</td><td>0</td><td>1025</td><td>53.37567</td><td>0.14040169980210282</td></tr><tr><td>2015-10-24T00:00:00.000+0000</td><td>0</td><td>1026</td><td>63.17609</td><td>0.1440612112563221</td></tr><tr><td>2015-10-25T00:00:00.000+0000</td><td>0</td><td>1027</td><td>58.123997</td><td>0.14217442241026246</td></tr><tr><td>2015-10-26T00:00:00.000+0000</td><td>0</td><td>1028</td><td>64.408264</td><td>0.14452091481087043</td></tr><tr><td>2015-10-27T00:00:00.000+0000</td><td>0</td><td>1029</td><td>54.149357</td><td>0.14068977121113785</td></tr><tr><td>2015-10-28T00:00:00.000+0000</td><td>0</td><td>1030</td><td>49.28687</td><td>0.1388737858895512</td></tr><tr><td>2015-10-29T00:00:00.000+0000</td><td>0</td><td>1031</td><td>66.12228</td><td>0.14516033830149266</td></tr><tr><td>2015-10-30T00:00:00.000+0000</td><td>0</td><td>1032</td><td>52.570034</td><td>0.14009938090053226</td></tr><tr><td>2015-10-31T00:00:00.000+0000</td><td>0</td><td>1033</td><td>62.310574</td><td>0.14373653192251967</td></tr><tr><td>2015-11-01T00:00:00.000+0000</td><td>0</td><td>1034</td><td>58.73713</td><td>0.1424019077181931</td></tr><tr><td>2015-11-02T00:00:00.000+0000</td><td>0</td><td>1035</td><td>63.361477</td><td>0.14412854449285278</td></tr><tr><td>2015-11-03T00:00:00.000+0000</td><td>0</td><td>1036</td><td>49.315144</td><td>0.1388830811185237</td></tr><tr><td>2015-11-04T00:00:00.000+0000</td><td>0</td><td>1037</td><td>54.51269</td><td>0.1408237652211819</td></tr><tr><td>2015-11-05T00:00:00.000+0000</td><td>0</td><td>1038</td><td>49.30641</td><td>0.13887939936611543</td></tr><tr><td>2015-11-06T00:00:00.000+0000</td><td>0</td><td>1039</td><td>59.3945</td><td>0.1426463340575799</td></tr><tr><td>2015-11-07T00:00:00.000+0000</td><td>0</td><td>1040</td><td>63.237125</td><td>0.14408105586666123</td></tr><tr><td>2015-11-08T00:00:00.000+0000</td><td>0</td><td>1041</td><td>63.175617</td><td>0.14405787663952271</td></tr><tr><td>2015-11-09T00:00:00.000+0000</td><td>0</td><td>1042</td><td>55.88756</td><td>0.14133612358437114</td></tr><tr><td>2015-11-10T00:00:00.000+0000</td><td>0</td><td>1043</td><td>60.823044</td><td>0.143178945717615</td></tr><tr><td>2015-11-11T00:00:00.000+0000</td><td>0</td><td>1044</td><td>59.23113</td><td>0.14258427418457048</td></tr><tr><td>2015-11-12T00:00:00.000+0000</td><td>0</td><td>1045</td><td>64.76356</td><td>0.14465001118041457</td></tr><tr><td>2015-11-13T00:00:00.000+0000</td><td>0</td><td>1046</td><td>63.247555</td><td>0.1440836872680246</td></tr><tr><td>2015-11-14T00:00:00.000+0000</td><td>0</td><td>1047</td><td>57.94468</td><td>0.1421032501340529</td></tr><tr><td>2015-11-15T00:00:00.000+0000</td><td>0</td><td>1048</td><td>55.40612</td><td>0.1411550780734322</td></tr><tr><td>2015-11-16T00:00:00.000+0000</td><td>0</td><td>1049</td><td>58.217308</td><td>0.1422046354900173</td></tr><tr><td>2015-11-17T00:00:00.000+0000</td><td>0</td><td>1050</td><td>47.95595</td><td>0.13837257735900532</td></tr><tr><td>2015-11-18T00:00:00.000+0000</td><td>0</td><td>1051</td><td>55.081623</td><td>0.14103327108323888</td></tr><tr><td>2015-11-19T00:00:00.000+0000</td><td>0</td><td>1052</td><td>63.726917</td><td>0.1442614300418412</td></tr><tr><td>2015-11-20T00:00:00.000+0000</td><td>0</td><td>1053</td><td>61.110336</td><td>0.14328412261010257</td></tr><tr><td>2015-11-21T00:00:00.000+0000</td><td>0</td><td>1054</td><td>56.182915</td><td>0.14144388938907965</td></tr><tr><td>2015-11-22T00:00:00.000+0000</td><td>0</td><td>1055</td><td>63.69458</td><td>0.14424872292957197</td></tr><tr><td>2015-11-23T00:00:00.000+0000</td><td>0</td><td>1056</td><td>55.563858</td><td>0.14121229704011962</td></tr><tr><td>2015-11-24T00:00:00.000+0000</td><td>0</td><td>1057</td><td>58.969692</td><td>0.14248391034366403</td></tr><tr><td>2015-11-25T00:00:00.000+0000</td><td>0</td><td>1058</td><td>56.721233</td><td>0.14164406892905015</td></tr><tr><td>2015-11-26T00:00:00.000+0000</td><td>0</td><td>1059</td><td>53.769463</td><td>0.140541593219338</td></tr><tr><td>2015-11-27T00:00:00.000+0000</td><td>0</td><td>1060</td><td>67.17094</td><td>0.14554582890269163</td></tr><tr><td>2015-11-28T00:00:00.000+0000</td><td>0</td><td>1061</td><td>51.107193</td><td>0.13954701397668468</td></tr><tr><td>2015-11-29T00:00:00.000+0000</td><td>0</td><td>1062</td><td>62.24863</td><td>0.14370729540903932</td></tr><tr><td>2015-11-30T00:00:00.000+0000</td><td>0</td><td>1063</td><td>56.58451</td><td>0.14159196063784438</td></tr><tr><td>2015-12-01T00:00:00.000+0000</td><td>0</td><td>1064</td><td>58.483013</td><td>0.14230069845745966</td></tr><tr><td>2015-12-02T00:00:00.000+0000</td><td>0</td><td>1065</td><td>49.910892</td><td>0.1390994432621814</td></tr><tr><td>2015-12-03T00:00:00.000+0000</td><td>0</td><td>1066</td><td>57.291504</td><td>0.14185533798319702</td></tr><tr><td>2015-12-04T00:00:00.000+0000</td><td>0</td><td>1067</td><td>54.136322</td><td>0.1406769034706627</td></tr><tr><td>2015-12-05T00:00:00.000+0000</td><td>0</td><td>1068</td><td>61.693924</td><td>0.14349889088290987</td></tr><tr><td>2015-12-06T00:00:00.000+0000</td><td>0</td><td>1069</td><td>62.392696</td><td>0.14375961948689245</td></tr><tr><td>2015-12-07T00:00:00.000+0000</td><td>0</td><td>1070</td><td>60.928062</td><td>0.14321247793931322</td></tr><tr><td>2015-12-08T00:00:00.000+0000</td><td>0</td><td>1071</td><td>53.975082</td><td>0.14061585042702862</td></tr><tr><td>2015-12-09T00:00:00.000+0000</td><td>0</td><td>1072</td><td>60.831898</td><td>0.14317614656552796</td></tr><tr><td>2015-12-10T00:00:00.000+0000</td><td>0</td><td>1073</td><td>55.462585</td><td>0.14117090027772114</td></tr><tr><td>2015-12-11T00:00:00.000+0000</td><td>0</td><td>1074</td><td>52.228466</td><td>0.13996298851321676</td></tr><tr><td>2015-12-12T00:00:00.000+0000</td><td>0</td><td>1075</td><td>56.868515</td><td>0.1416954885444902</td></tr><tr><td>2015-12-13T00:00:00.000+0000</td><td>0</td><td>1076</td><td>61.546535</td><td>0.14344216808410515</td></tr><tr><td>2015-12-14T00:00:00.000+0000</td><td>0</td><td>1077</td><td>48.14856</td><td>0.1384388176067261</td></tr><tr><td>2015-12-15T00:00:00.000+0000</td><td>0</td><td>1078</td><td>66.90237</td><td>0.14544174858069275</td></tr><tr><td>2015-12-16T00:00:00.000+0000</td><td>0</td><td>1079</td><td>61.511654</td><td>0.14342851082796773</td></tr><tr><td>2015-12-17T00:00:00.000+0000</td><td>0</td><td>1080</td><td>57.895985</td><td>0.1420781187938409</td></tr><tr><td>2015-12-18T00:00:00.000+0000</td><td>0</td><td>1081</td><td>56.191914</td><td>0.14144156543190878</td></tr><tr><td>2015-12-19T00:00:00.000+0000</td><td>0</td><td>1082</td><td>63.862408</td><td>0.14430570960222883</td></tr><tr><td>2015-12-20T00:00:00.000+0000</td><td>0</td><td>1083</td><td>55.930508</td><td>0.14134352883782744</td></tr><tr><td>2015-12-21T00:00:00.000+0000</td><td>0</td><td>1084</td><td>64.45492</td><td>0.14452654670341863</td></tr><tr><td>2015-12-22T00:00:00.000+0000</td><td>0</td><td>1085</td><td>56.843803</td><td>0.14168415529158412</td></tr><tr><td>2015-12-23T00:00:00.000+0000</td><td>0</td><td>1086</td><td>57.921295</td><td>0.1420863071835547</td></tr><tr><td>2015-12-24T00:00:00.000+0000</td><td>0</td><td>1087</td><td>52.09412</td><td>0.1399100834325981</td></tr><tr><td>2015-12-25T00:00:00.000+0000</td><td>0</td><td>1088</td><td>58.948612</td><td>0.1424695120484352</td></tr><tr><td>2015-12-26T00:00:00.000+0000</td><td>0</td><td>1089</td><td>60.888226</td><td>0.14319360174281398</td></tr><tr><td>2015-12-27T00:00:00.000+0000</td><td>0</td><td>1090</td><td>52.936092</td><td>0.14022386541158086</td></tr><tr><td>2015-12-28T00:00:00.000+0000</td><td>0</td><td>1091</td><td>52.824345</td><td>0.14018192547268252</td></tr><tr><td>2015-12-29T00:00:00.000+0000</td><td>0</td><td>1092</td><td>56.481403</td><td>0.1415473523065508</td></tr><tr><td>2015-12-30T00:00:00.000+0000</td><td>0</td><td>1093</td><td>59.608902</td><td>0.14271502813303807</td></tr><tr><td>2015-12-31T00:00:00.000+0000</td><td>0</td><td>1094</td><td>50.914177</td><td>0.13946798939364743</td></tr><tr><td>2016-01-01T00:00:00.000+0000</td><td>0</td><td>1095</td><td>47.01929</td><td>0.1380133308221433</td></tr><tr><td>2016-01-02T00:00:00.000+0000</td><td>0</td><td>1096</td><td>54.35165</td><td>0.1407512069977489</td></tr><tr><td>2016-01-03T00:00:00.000+0000</td><td>0</td><td>1097</td><td>63.132877</td><td>0.14403012671586898</td></tr><tr><td>2016-01-04T00:00:00.000+0000</td><td>0</td><td>1098</td><td>56.902</td><td>0.1417031506031723</td></tr><tr><td>2016-01-05T00:00:00.000+0000</td><td>0</td><td>1099</td><td>55.349277</td><td>0.1411231144196054</td></tr><tr><td>2016-01-06T00:00:00.000+0000</td><td>0</td><td>1100</td><td>62.214752</td><td>0.14368664418116434</td></tr><tr><td>2016-01-07T00:00:00.000+0000</td><td>0</td><td>1101</td><td>62.68164</td><td>0.14386078148782394</td></tr><tr><td>2016-01-08T00:00:00.000+0000</td><td>0</td><td>1102</td><td>54.98357</td><td>0.14098591851755626</td></tr><tr><td>2016-01-09T00:00:00.000+0000</td><td>0</td><td>1103</td><td>46.425926</td><td>0.13779006931325208</td></tr><tr><td>2016-01-10T00:00:00.000+0000</td><td>0</td><td>1104</td><td>60.93241</td><td>0.14320694378908003</td></tr><tr><td>2016-01-11T00:00:00.000+0000</td><td>0</td><td>1105</td><td>55.756653</td><td>0.14127397538692094</td></tr><tr><td>2016-01-12T00:00:00.000+0000</td><td>0</td><td>1106</td><td>49.583088</td><td>0.13896840101556665</td></tr><tr><td>2016-01-13T00:00:00.000+0000</td><td>0</td><td>1107</td><td>51.138584</td><td>0.13954905174943352</td></tr><tr><td>2016-01-14T00:00:00.000+0000</td><td>0</td><td>1108</td><td>56.540718</td><td>0.14156613340200744</td></tr><tr><td>2016-01-15T00:00:00.000+0000</td><td>0</td><td>1109</td><td>60.33111</td><td>0.1429813494839721</td></tr><tr><td>2016-01-16T00:00:00.000+0000</td><td>0</td><td>1110</td><td>60.490814</td><td>0.14304077721772582</td></tr><tr><td>2016-01-17T00:00:00.000+0000</td><td>0</td><td>1111</td><td>55.64577</td><td>0.1412313061508755</td></tr><tr><td>2016-01-18T00:00:00.000+0000</td><td>0</td><td>1112</td><td>63.092964</td><td>0.14401206415686119</td></tr><tr><td>2016-01-19T00:00:00.000+0000</td><td>0</td><td>1113</td><td>50.970478</td><td>0.13948501353562737</td></tr><tr><td>2016-01-20T00:00:00.000+0000</td><td>0</td><td>1114</td><td>62.7153</td><td>0.14387061439257545</td></tr><tr><td>2016-01-21T00:00:00.000+0000</td><td>0</td><td>1115</td><td>54.226494</td><td>0.14070047035483965</td></tr><tr><td>2016-01-22T00:00:00.000+0000</td><td>0</td><td>1116</td><td>64.20475</td><td>0.1444263907400787</td></tr><tr><td>2016-01-23T00:00:00.000+0000</td><td>0</td><td>1117</td><td>56.814007</td><td>0.14166629147385182</td></tr><tr><td>2016-01-24T00:00:00.000+0000</td><td>0</td><td>1118</td><td>60.39422</td><td>0.14300302168369572</td></tr><tr><td>2016-01-25T00:00:00.000+0000</td><td>0</td><td>1119</td><td>58.785564</td><td>0.14240209942907173</td></tr><tr><td>2016-01-26T00:00:00.000+0000</td><td>0</td><td>1120</td><td>54.706333</td><td>0.1408786017234907</td></tr><tr><td>2016-01-27T00:00:00.000+0000</td><td>0</td><td>1121</td><td>50.00998</td><td>0.13912465495603094</td></tr><tr><td>2016-01-28T00:00:00.000+0000</td><td>0</td><td>1122</td><td>70.27176</td><td>0.1466907007305232</td></tr><tr><td>2016-01-29T00:00:00.000+0000</td><td>0</td><td>1123</td><td>51.465023</td><td>0.13966758370601245</td></tr><tr><td>2016-01-30T00:00:00.000+0000</td><td>0</td><td>1124</td><td>50.543427</td><td>0.13932322593685809</td></tr><tr><td>2016-01-31T00:00:00.000+0000</td><td>0</td><td>1125</td><td>53.636086</td><td>0.14047789177241882</td></tr><tr><td>2016-02-01T00:00:00.000+0000</td><td>0</td><td>1126</td><td>57.754364</td><td>0.14201554963256133</td></tr><tr><td>2016-02-02T00:00:00.000+0000</td><td>0</td><td>1127</td><td>54.225605</td><td>0.14069761206282508</td></tr><tr><td>2016-02-03T00:00:00.000+0000</td><td>0</td><td>1128</td><td>64.45653</td><td>0.1445178844407301</td></tr><tr><td>2016-02-04T00:00:00.000+0000</td><td>0</td><td>1129</td><td>59.711315</td><td>0.14274569263179585</td></tr><tr><td>2016-02-05T00:00:00.000+0000</td><td>0</td><td>1130</td><td>58.808594</td><td>0.14240838330620925</td></tr><tr><td>2016-02-06T00:00:00.000+0000</td><td>0</td><td>1131</td><td>54.606773</td><td>0.14083910775453004</td></tr><tr><td>2016-02-07T00:00:00.000+0000</td><td>0</td><td>1132</td><td>67.731255</td><td>0.14573990738607628</td></tr><tr><td>2016-02-08T00:00:00.000+0000</td><td>0</td><td>1133</td><td>57.07287</td><td>0.14175958835003402</td></tr><tr><td>2016-02-09T00:00:00.000+0000</td><td>0</td><td>1134</td><td>65.029</td><td>0.14473039649720681</td></tr><tr><td>2016-02-10T00:00:00.000+0000</td><td>0</td><td>1135</td><td>60.071228</td><td>0.1428788299259363</td></tr><tr><td>2016-02-11T00:00:00.000+0000</td><td>0</td><td>1136</td><td>66.8052</td><td>0.1453932527765996</td></tr><tr><td>2016-02-12T00:00:00.000+0000</td><td>0</td><td>1137</td><td>64.67973</td><td>0.14459934020546025</td></tr><tr><td>2016-02-13T00:00:00.000+0000</td><td>0</td><td>1138</td><td>61.965252</td><td>0.1435854743146021</td></tr><tr><td>2016-02-14T00:00:00.000+0000</td><td>0</td><td>1139</td><td>57.82521</td><td>0.1420392685979229</td></tr><tr><td>2016-02-15T00:00:00.000+0000</td><td>0</td><td>1140</td><td>52.02347</td><td>0.13987254343664088</td></tr><tr><td>2016-02-16T00:00:00.000+0000</td><td>0</td><td>1141</td><td>52.897682</td><td>0.14019878495890997</td></tr><tr><td>2016-02-17T00:00:00.000+0000</td><td>0</td><td>1142</td><td>57.07663</td><td>0.1417590981235193</td></tr><tr><td>2016-02-18T00:00:00.000+0000</td><td>0</td><td>1143</td><td>62.814655</td><td>0.14390161016272</td></tr><tr><td>2016-02-19T00:00:00.000+0000</td><td>0</td><td>1144</td><td>58.739796</td><td>0.14237974493820782</td></tr><tr><td>2016-02-20T00:00:00.000+0000</td><td>0</td><td>1145</td><td>52.09757</td><td>0.13989916033415234</td></tr><tr><td>2016-02-21T00:00:00.000+0000</td><td>0</td><td>1146</td><td>53.26361</td><td>0.14033437922704017</td></tr><tr><td>2016-02-22T00:00:00.000+0000</td><td>0</td><td>1147</td><td>56.976143</td><td>0.14172052119153952</td></tr><tr><td>2016-02-23T00:00:00.000+0000</td><td>0</td><td>1148</td><td>55.700428</td><td>0.1412439267577942</td></tr><tr><td>2016-02-24T00:00:00.000+0000</td><td>0</td><td>1149</td><td>61.241596</td><td>0.14331292729127246</td></tr><tr><td>2016-02-25T00:00:00.000+0000</td><td>0</td><td>1150</td><td>55.441025</td><td>0.1411466380280769</td></tr><tr><td>2016-02-26T00:00:00.000+0000</td><td>0</td><td>1151</td><td>56.309944</td><td>0.14147090376392146</td></tr><tr><td>2016-02-27T00:00:00.000+0000</td><td>0</td><td>1152</td><td>53.71028</td><td>0.1404999140054292</td></tr><tr><td>2016-02-28T00:00:00.000+0000</td><td>0</td><td>1153</td><td>50.37227</td><td>0.13925320588672752</td></tr><tr><td>2016-02-29T00:00:00.000+0000</td><td>0</td><td>1154</td><td>54.47527</td><td>0.14078515861015034</td></tr><tr><td>2014-01-21T00:00:00.000+0000</td><td>0</td><td>385</td><td>50.5082</td><td>0.13946565513823359</td></tr><tr><td>2014-01-22T00:00:00.000+0000</td><td>0</td><td>386</td><td>53.59945</td><td>0.14061979390748067</td></tr><tr><td>2014-01-23T00:00:00.000+0000</td><td>0</td><td>387</td><td>65.84984</td><td>0.14519418564447728</td></tr><tr><td>2014-01-24T00:00:00.000+0000</td><td>0</td><td>388</td><td>50.25864</td><td>0.13937183109578588</td></tr><tr><td>2014-01-25T00:00:00.000+0000</td><td>0</td><td>389</td><td>64.553856</td><td>0.14470981229147764</td></tr><tr><td>2014-01-26T00:00:00.000+0000</td><td>0</td><td>390</td><td>67.7559</td><td>0.14590532434184483</td></tr><tr><td>2014-01-27T00:00:00.000+0000</td><td>0</td><td>391</td><td>49.810505</td><td>0.139203854521018</td></tr><tr><td>2014-01-28T00:00:00.000+0000</td><td>0</td><td>392</td><td>50.612938</td><td>0.13950329258448127</td></tr><tr><td>2014-01-29T00:00:00.000+0000</td><td>0</td><td>393</td><td>61.350925</td><td>0.14351291567233015</td></tr><tr><td>2014-01-30T00:00:00.000+0000</td><td>0</td><td>394</td><td>51.162415</td><td>0.13970805986111814</td></tr><tr><td>2014-01-31T00:00:00.000+0000</td><td>0</td><td>395</td><td>63.026855</td><td>0.14413832887589859</td></tr><tr><td>2014-02-01T00:00:00.000+0000</td><td>0</td><td>396</td><td>57.630302</td><td>0.1421229102082378</td></tr><tr><td>2014-02-02T00:00:00.000+0000</td><td>0</td><td>397</td><td>52.740074</td><td>0.14029656589683207</td></tr><tr><td>2014-02-03T00:00:00.000+0000</td><td>0</td><td>398</td><td>65.74718</td><td>0.14515353355413008</td></tr><tr><td>2014-02-04T00:00:00.000+0000</td><td>0</td><td>399</td><td>61.027786</td><td>0.14339098420972898</td></tr><tr><td>2014-02-05T00:00:00.000+0000</td><td>0</td><td>400</td><td>49.856457</td><td>0.13921911930377157</td></tr><tr><td>2014-02-06T00:00:00.000+0000</td><td>0</td><td>401</td><td>56.95107</td><td>0.14186821472009714</td></tr><tr><td>2014-02-07T00:00:00.000+0000</td><td>0</td><td>402</td><td>57.358704</td><td>0.14202022521310714</td></tr><tr><td>2014-02-08T00:00:00.000+0000</td><td>0</td><td>403</td><td>61.683826</td><td>0.14363512392926725</td></tr><tr><td>2014-02-09T00:00:00.000+0000</td><td>0</td><td>404</td><td>49.684093</td><td>0.1391539124077843</td></tr><tr><td>2014-02-10T00:00:00.000+0000</td><td>0</td><td>405</td><td>58.66695</td><td>0.1425081256855685</td></tr><tr><td>2014-02-11T00:00:00.000+0000</td><td>0</td><td>406</td><td>59.398148</td><td>0.14278096256973014</td></tr><tr><td>2014-02-12T00:00:00.000+0000</td><td>0</td><td>407</td><td>58.517975</td><td>0.14245207348463043</td></tr><tr><td>2014-02-13T00:00:00.000+0000</td><td>0</td><td>408</td><td>62.38708</td><td>0.1438966841973592</td></tr><tr><td>2014-02-14T00:00:00.000+0000</td><td>0</td><td>409</td><td>57.25433</td><td>0.14197977564822822</td></tr><tr><td>2014-02-15T00:00:00.000+0000</td><td>0</td><td>410</td><td>59.4288</td><td>0.14279156632819578</td></tr><tr><td>2014-02-16T00:00:00.000+0000</td><td>0</td><td>411</td><td>67.08498</td><td>0.1456503643366909</td></tr><tr><td>2014-02-17T00:00:00.000+0000</td><td>0</td><td>412</td><td>52.554516</td><td>0.14022411579226696</td></tr><tr><td>2014-02-18T00:00:00.000+0000</td><td>0</td><td>413</td><td>57.30834</td><td>0.14199910164193347</td></tr><tr><td>2014-02-19T00:00:00.000+0000</td><td>0</td><td>414</td><td>59.72721</td><td>0.14290215883987667</td></tr><tr><td>2014-02-20T00:00:00.000+0000</td><td>0</td><td>415</td><td>59.72204</td><td>0.1429000166811716</td></tr><tr><td>2014-02-21T00:00:00.000+0000</td><td>0</td><td>416</td><td>68.83821</td><td>0.14630401350903796</td></tr><tr><td>2014-02-22T00:00:00.000+0000</td><td>0</td><td>417</td><td>67.43212</td><td>0.1457787338174479</td></tr><tr><td>2014-02-23T00:00:00.000+0000</td><td>0</td><td>418</td><td>50.191547</td><td>0.13934046097062178</td></tr><tr><td>2014-02-24T00:00:00.000+0000</td><td>0</td><td>419</td><td>59.763226</td><td>0.14291455491844368</td></tr><tr><td>2014-02-25T00:00:00.000+0000</td><td>0</td><td>420</td><td>55.541126</td><td>0.14133770670589013</td></tr><tr><td>2014-02-26T00:00:00.000+0000</td><td>0</td><td>421</td><td>63.355316</td><td>0.14425551050045318</td></tr><tr><td>2014-02-27T00:00:00.000+0000</td><td>0</td><td>422</td><td>52.443314</td><td>0.14018048477036088</td></tr><tr><td>2014-02-28T00:00:00.000+0000</td><td>0</td><td>423</td><td>65.08491</td><td>0.1449009621954662</td></tr><tr><td>2014-03-01T00:00:00.000+0000</td><td>0</td><td>424</td><td>54.138847</td><td>0.1408132184976752</td></tr><tr><td>2014-03-02T00:00:00.000+0000</td><td>0</td><td>425</td><td>63.064213</td><td>0.14414596308245015</td></tr><tr><td>2014-03-03T00:00:00.000+0000</td><td>0</td><td>426</td><td>49.93991</td><td>0.13924480933878955</td></tr><tr><td>2014-03-04T00:00:00.000+0000</td><td>0</td><td>427</td><td>53.620003</td><td>0.14061883732509564</td></tr><tr><td>2014-03-05T00:00:00.000+0000</td><td>0</td><td>428</td><td>55.009018</td><td>0.14113731987501252</td></tr><tr><td>2014-03-06T00:00:00.000+0000</td><td>0</td><td>429</td><td>51.635586</td><td>0.13987738524084464</td></tr><tr><td>2014-03-07T00:00:00.000+0000</td><td>0</td><td>430</td><td>69.87326</td><td>0.14668757945992794</td></tr><tr><td>2014-03-08T00:00:00.000+0000</td><td>0</td><td>431</td><td>54.858757</td><td>0.14108057708448732</td></tr><tr><td>2014-03-09T00:00:00.000+0000</td><td>0</td><td>432</td><td>57.412823</td><td>0.1420341186882595</td></tr><tr><td>2014-03-10T00:00:00.000+0000</td><td>0</td><td>433</td><td>57.96888</td><td>0.14224155376541153</td></tr><tr><td>2014-03-11T00:00:00.000+0000</td><td>0</td><td>434</td><td>51.340748</td><td>0.13976623270197508</td></tr><tr><td>2014-03-12T00:00:00.000+0000</td><td>0</td><td>435</td><td>50.737335</td><td>0.13954069277396616</td></tr><tr><td>2014-03-13T00:00:00.000+0000</td><td>0</td><td>436</td><td>65.33737</td><td>0.14499250177486606</td></tr><tr><td>2014-03-14T00:00:00.000+0000</td><td>0</td><td>437</td><td>55.826653</td><td>0.14144075032999956</td></tr><tr><td>2014-03-15T00:00:00.000+0000</td><td>0</td><td>438</td><td>56.02071</td><td>0.14151300571822537</td></tr><tr><td>2014-03-16T00:00:00.000+0000</td><td>0</td><td>439</td><td>55.606014</td><td>0.1413579374053622</td></tr><tr><td>2014-03-17T00:00:00.000+0000</td><td>0</td><td>440</td><td>60.256355</td><td>0.14309428074721484</td></tr><tr><td>2014-03-18T00:00:00.000+0000</td><td>0</td><td>441</td><td>57.921066</td><td>0.14222201478278496</td></tr><tr><td>2014-03-19T00:00:00.000+0000</td><td>0</td><td>442</td><td>57.48813</td><td>0.1420601344939434</td></tr><tr><td>2014-03-20T00:00:00.000+0000</td><td>0</td><td>443</td><td>58.026222</td><td>0.14226086158387624</td></tr><tr><td>2014-03-21T00:00:00.000+0000</td><td>0</td><td>444</td><td>61.81419</td><td>0.14367517310608632</td></tr><tr><td>2014-03-22T00:00:00.000+0000</td><td>0</td><td>445</td><td>59.056282</td><td>0.14264509066680953</td></tr><tr><td>2014-03-23T00:00:00.000+0000</td><td>0</td><td>446</td><td>65.44735</td><td>0.14503146489332025</td></tr><tr><td>2014-03-24T00:00:00.000+0000</td><td>0</td><td>447</td><td>58.309097</td><td>0.14236565209259602</td></tr><tr><td>2014-03-25T00:00:00.000+0000</td><td>0</td><td>448</td><td>51.52348</td><td>0.13983152182458158</td></tr><tr><td>2014-03-26T00:00:00.000+0000</td><td>0</td><td>449</td><td>54.07095</td><td>0.14078260046171498</td></tr><tr><td>2014-03-27T00:00:00.000+0000</td><td>0</td><td>450</td><td>50.8195</td><td>0.13956821717758078</td></tr><tr><td>2014-03-28T00:00:00.000+0000</td><td>0</td><td>451</td><td>56.049583</td><td>0.14152105087102101</td></tr><tr><td>2014-03-29T00:00:00.000+0000</td><td>0</td><td>452</td><td>56.224407</td><td>0.14158612391234532</td></tr><tr><td>2014-03-30T00:00:00.000+0000</td><td>0</td><td>453</td><td>49.652077</td><td>0.13913164048684526</td></tr><tr><td>2014-03-31T00:00:00.000+0000</td><td>0</td><td>454</td><td>62.653683</td><td>0.143986555434527</td></tr><tr><td>2014-04-01T00:00:00.000+0000</td><td>0</td><td>455</td><td>57.199196</td><td>0.14194950283144508</td></tr><tr><td>2014-04-02T00:00:00.000+0000</td><td>0</td><td>456</td><td>48.90435</td><td>0.13885178910123694</td></tr><tr><td>2014-04-03T00:00:00.000+0000</td><td>0</td><td>457</td><td>53.15397</td><td>0.14043849261862243</td></tr><tr><td>2014-04-04T00:00:00.000+0000</td><td>0</td><td>458</td><td>62.02684</td><td>0.14375163461003923</td></tr><tr><td>2014-04-05T00:00:00.000+0000</td><td>0</td><td>459</td><td>64.70627</td><td>0.1447519896739908</td></tr><tr><td>2014-04-06T00:00:00.000+0000</td><td>0</td><td>460</td><td>62.537296</td><td>0.14394183063985824</td></tr><tr><td>2014-04-07T00:00:00.000+0000</td><td>0</td><td>461</td><td>70.10257</td><td>0.14676668272874543</td></tr><tr><td>2014-04-08T00:00:00.000+0000</td><td>0</td><td>462</td><td>67.35151</td><td>0.14573915727334175</td></tr><tr><td>2014-04-09T00:00:00.000+0000</td><td>0</td><td>463</td><td>54.791492</td><td>0.1410487217928822</td></tr><tr><td>2014-04-10T00:00:00.000+0000</td><td>0</td><td>464</td><td>58.330772</td><td>0.14237016707962946</td></tr><tr><td>2014-04-11T00:00:00.000+0000</td><td>0</td><td>465</td><td>53.921318</td><td>0.1407233557996977</td></tr><tr><td>2014-04-12T00:00:00.000+0000</td><td>0</td><td>466</td><td>56.087578</td><td>0.14153208094802464</td></tr><tr><td>2014-04-13T00:00:00.000+0000</td><td>0</td><td>467</td><td>64.811066</td><td>0.14478943938040467</td></tr><tr><td>2014-04-14T00:00:00.000+0000</td><td>0</td><td>468</td><td>52.162743</td><td>0.1400660280672551</td></tr><tr><td>2014-04-15T00:00:00.000+0000</td><td>0</td><td>469</td><td>58.978745</td><td>0.14261108344226786</td></tr><tr><td>2014-04-16T00:00:00.000+0000</td><td>0</td><td>470</td><td>50.89574</td><td>0.13959247666772845</td></tr><tr><td>2014-04-17T00:00:00.000+0000</td><td>0</td><td>471</td><td>56.501392</td><td>0.141685557009224</td></tr><tr><td>2014-04-18T00:00:00.000+0000</td><td>0</td><td>472</td><td>59.021072</td><td>0.14262625813799215</td></tr><tr><td>2014-04-19T00:00:00.000+0000</td><td>0</td><td>473</td><td>51.63146</td><td>0.1398665805248162</td></tr><tr><td>2014-04-20T00:00:00.000+0000</td><td>0</td><td>474</td><td>52.7092</td><td>0.14026882643402108</td></tr><tr><td>2014-04-21T00:00:00.000+0000</td><td>0</td><td>475</td><td>58.726162</td><td>0.14251549959733634</td></tr><tr><td>2014-04-22T00:00:00.000+0000</td><td>0</td><td>476</td><td>59.874107</td><td>0.1429439606453807</td></tr><tr><td>2014-04-23T00:00:00.000+0000</td><td>0</td><td>477</td><td>49.574417</td><td>0.13909758767818997</td></tr><tr><td>2014-04-24T00:00:00.000+0000</td><td>0</td><td>478</td><td>56.70122</td><td>0.14175870447997801</td></tr><tr><td>2014-04-25T00:00:00.000+0000</td><td>0</td><td>479</td><td>55.91433</td><td>0.14146464878019815</td></tr><tr><td>2014-04-26T00:00:00.000+0000</td><td>0</td><td>480</td><td>48.345387</td><td>0.1386380052551142</td></tr><tr><td>2014-04-27T00:00:00.000+0000</td><td>0</td><td>481</td><td>54.72838</td><td>0.14102136380760855</td></tr><tr><td>2014-04-28T00:00:00.000+0000</td><td>0</td><td>482</td><td>60.320507</td><td>0.14310939428401764</td></tr><tr><td>2014-04-29T00:00:00.000+0000</td><td>0</td><td>483</td><td>59.98558</td><td>0.14298411376489853</td></tr><tr><td>2014-04-30T00:00:00.000+0000</td><td>0</td><td>484</td><td>57.73055</td><td>0.14214181793066719</td></tr><tr><td>2014-05-01T00:00:00.000+0000</td><td>0</td><td>485</td><td>55.56867</td><td>0.14133430704863495</td></tr><tr><td>2014-05-02T00:00:00.000+0000</td><td>0</td><td>486</td><td>50.164883</td><td>0.13931618752224245</td></tr><tr><td>2014-05-03T00:00:00.000+0000</td><td>0</td><td>487</td><td>60.28597</td><td>0.14309544416941855</td></tr><tr><td>2014-05-04T00:00:00.000+0000</td><td>0</td><td>488</td><td>48.282864</td><td>0.13861297338679696</td></tr><tr><td>2014-05-05T00:00:00.000+0000</td><td>0</td><td>489</td><td>52.204018</td><td>0.14007702002596847</td></tr><tr><td>2014-05-06T00:00:00.000+0000</td><td>0</td><td>490</td><td>54.8566</td><td>0.1410673508584353</td></tr><tr><td>2014-05-07T00:00:00.000+0000</td><td>0</td><td>491</td><td>56.32454</td><td>0.14161530496230804</td></tr><tr><td>2014-05-08T00:00:00.000+0000</td><td>0</td><td>492</td><td>61.30921</td><td>0.1434764960688353</td></tr><tr><td>2014-05-09T00:00:00.000+0000</td><td>0</td><td>493</td><td>52.704178</td><td>0.14026295025692354</td></tr><tr><td>2014-05-10T00:00:00.000+0000</td><td>0</td><td>494</td><td>53.078476</td><td>0.1404025120134059</td></tr><tr><td>2014-05-11T00:00:00.000+0000</td><td>0</td><td>495</td><td>59.391403</td><td>0.1427597067091886</td></tr><tr><td>2014-05-12T00:00:00.000+0000</td><td>0</td><td>496</td><td>55.975155</td><td>0.1414837834471702</td></tr><tr><td>2014-05-13T00:00:00.000+0000</td><td>0</td><td>497</td><td>54.315685</td><td>0.14086388538075023</td></tr><tr><td>2014-05-14T00:00:00.000+0000</td><td>0</td><td>498</td><td>58.209793</td><td>0.14231783228974884</td></tr><tr><td>2014-05-15T00:00:00.000+0000</td><td>0</td><td>499</td><td>50.89691</td><td>0.13958680856549077</td></tr><tr><td>2014-05-16T00:00:00.000+0000</td><td>0</td><td>500</td><td>53.43315</td><td>0.14053369346417158</td></tr><tr><td>2014-05-17T00:00:00.000+0000</td><td>0</td><td>501</td><td>64.73024</td><td>0.1447520989148964</td></tr><tr><td>2014-05-18T00:00:00.000+0000</td><td>0</td><td>502</td><td>54.609013</td><td>0.1409723684973077</td></tr><tr><td>2014-05-19T00:00:00.000+0000</td><td>0</td><td>503</td><td>58.34048</td><td>0.14236558169743166</td></tr><tr><td>2014-05-20T00:00:00.000+0000</td><td>0</td><td>504</td><td>54.391636</td><td>0.140890773523206</td></tr><tr><td>2014-05-21T00:00:00.000+0000</td><td>0</td><td>505</td><td>50.0241</td><td>0.13925961611279045</td></tr><tr><td>2014-05-22T00:00:00.000+0000</td><td>0</td><td>506</td><td>62.331726</td><td>0.14385538110105844</td></tr><tr><td>2014-05-23T00:00:00.000+0000</td><td>0</td><td>507</td><td>60.319088</td><td>0.1431036010714316</td></tr><tr><td>2014-05-24T00:00:00.000+0000</td><td>0</td><td>508</td><td>56.945312</td><td>0.1418435382319442</td></tr><tr><td>2014-05-25T00:00:00.000+0000</td><td>0</td><td>509</td><td>65.64414</td><td>0.14509168867337396</td></tr><tr><td>2014-05-26T00:00:00.000+0000</td><td>0</td><td>510</td><td>58.785503</td><td>0.14253029055839625</td></tr><tr><td>2014-05-27T00:00:00.000+0000</td><td>0</td><td>511</td><td>54.423515</td><td>0.1409012043761431</td></tr><tr><td>2014-05-28T00:00:00.000+0000</td><td>0</td><td>512</td><td>52.954216</td><td>0.14035232066072162</td></tr><tr><td>2014-05-29T00:00:00.000+0000</td><td>0</td><td>513</td><td>52.64492</td><td>0.1402366113809582</td></tr><tr><td>2014-05-30T00:00:00.000+0000</td><td>0</td><td>514</td><td>50.92481</td><td>0.1395940679815963</td></tr><tr><td>2014-05-31T00:00:00.000+0000</td><td>0</td><td>515</td><td>62.203133</td><td>0.1438054662993563</td></tr><tr><td>2014-06-01T00:00:00.000+0000</td><td>0</td><td>516</td><td>61.820988</td><td>0.14366255327528937</td></tr><tr><td>2014-06-02T00:00:00.000+0000</td><td>0</td><td>517</td><td>57.557846</td><td>0.14207037882903623</td></tr><tr><td>2014-06-03T00:00:00.000+0000</td><td>0</td><td>518</td><td>60.786068</td><td>0.14327566724727034</td></tr><tr><td>2014-06-04T00:00:00.000+0000</td><td>0</td><td>519</td><td>58.932625</td><td>0.1425833345998121</td></tr><tr><td>2014-06-05T00:00:00.000+0000</td><td>0</td><td>520</td><td>53.227024</td><td>0.14045250977700924</td></tr><tr><td>2014-06-06T00:00:00.000+0000</td><td>0</td><td>521</td><td>52.402355</td><td>0.140144347218569</td></tr><tr><td>2014-06-07T00:00:00.000+0000</td><td>0</td><td>522</td><td>60.71887</td><td>0.14324973106516264</td></tr><tr><td>2014-06-08T00:00:00.000+0000</td><td>0</td><td>523</td><td>56.60178</td><td>0.14171209658634668</td></tr><tr><td>2014-06-09T00:00:00.000+0000</td><td>0</td><td>524</td><td>50.73819</td><td>0.1395222745244972</td></tr><tr><td>2014-06-10T00:00:00.000+0000</td><td>0</td><td>525</td><td>62.575237</td><td>0.1439423141792817</td></tr><tr><td>2014-06-11T00:00:00.000+0000</td><td>0</td><td>526</td><td>66.381065</td><td>0.1453632952271151</td></tr><tr><td>2014-06-12T00:00:00.000+0000</td><td>0</td><td>527</td><td>56.58575</td><td>0.14170526869486513</td></tr><tr><td>2014-06-13T00:00:00.000+0000</td><td>0</td><td>528</td><td>53.17277</td><td>0.14043056623238945</td></tr><tr><td>2014-06-14T00:00:00.000+0000</td><td>0</td><td>529</td><td>58.41984</td><td>0.14238974324013998</td></tr><tr><td>2014-06-15T00:00:00.000+0000</td><td>0</td><td>530</td><td>65.007706</td><td>0.14484960618031634</td></tr><tr><td>2014-06-16T00:00:00.000+0000</td><td>0</td><td>531</td><td>55.28666</td><td>0.14121931330769066</td></tr><tr><td>2014-06-17T00:00:00.000+0000</td><td>0</td><td>532</td><td>55.79939</td><td>0.14141056887351636</td></tr><tr><td>2014-06-18T00:00:00.000+0000</td><td>0</td><td>533</td><td>60.0001</td><td>0.14297900883088116</td></tr><tr><td>2014-06-19T00:00:00.000+0000</td><td>0</td><td>534</td><td>52.75674</td><td>0.14027394668383056</td></tr><tr><td>2014-06-20T00:00:00.000+0000</td><td>0</td><td>535</td><td>57.34519</td><td>0.1419871774555767</td></tr><tr><td>2014-06-21T00:00:00.000+0000</td><td>0</td><td>536</td><td>56.075314</td><td>0.14151276393676715</td></tr><tr><td>2014-06-22T00:00:00.000+0000</td><td>0</td><td>537</td><td>53.45614</td><td>0.1405344878426142</td></tr><tr><td>2014-06-23T00:00:00.000+0000</td><td>0</td><td>538</td><td>53.33873</td><td>0.14049043394044694</td></tr><tr><td>2014-06-24T00:00:00.000+0000</td><td>0</td><td>539</td><td>55.542484</td><td>0.14131316053417153</td></tr><tr><td>2014-06-25T00:00:00.000+0000</td><td>0</td><td>540</td><td>57.169697</td><td>0.14192059193478743</td></tr><tr><td>2014-06-26T00:00:00.000+0000</td><td>0</td><td>541</td><td>59.52193</td><td>0.1427987644802073</td></tr><tr><td>2014-06-27T00:00:00.000+0000</td><td>0</td><td>542</td><td>55.635357</td><td>0.14134720990193966</td></tr><tr><td>2014-06-28T00:00:00.000+0000</td><td>0</td><td>543</td><td>56.451283</td><td>0.141651686434461</td></tr><tr><td>2014-06-29T00:00:00.000+0000</td><td>0</td><td>544</td><td>49.884464</td><td>0.1391992614165914</td></tr><tr><td>2014-06-30T00:00:00.000+0000</td><td>0</td><td>545</td><td>55.9237</td><td>0.1414542522561379</td></tr><tr><td>2014-07-01T00:00:00.000+0000</td><td>0</td><td>546</td><td>60.11347</td><td>0.14301860673731992</td></tr><tr><td>2014-07-02T00:00:00.000+0000</td><td>0</td><td>547</td><td>61.535786</td><td>0.14354952520323247</td></tr><tr><td>2014-07-03T00:00:00.000+0000</td><td>0</td><td>548</td><td>59.577446</td><td>0.14281802155714315</td></tr><tr><td>2014-07-04T00:00:00.000+0000</td><td>0</td><td>549</td><td>57.322098</td><td>0.1419756074891171</td></tr><tr><td>2014-07-05T00:00:00.000+0000</td><td>0</td><td>550</td><td>57.766113</td><td>0.14214120347248804</td></tr><tr><td>2014-07-06T00:00:00.000+0000</td><td>0</td><td>551</td><td>58.725494</td><td>0.14249924988552867</td></tr><tr><td>2014-07-07T00:00:00.000+0000</td><td>0</td><td>552</td><td>64.34075</td><td>0.1445959171269643</td></tr><tr><td>2014-07-08T00:00:00.000+0000</td><td>0</td><td>553</td><td>60.485012</td><td>0.1431558768108952</td></tr><tr><td>2014-07-09T00:00:00.000+0000</td><td>0</td><td>554</td><td>64.977066</td><td>0.14483311180242428</td></tr><tr><td>2014-07-10T00:00:00.000+0000</td><td>0</td><td>555</td><td>45.353626</td><td>0.13750501711477728</td></tr><tr><td>2014-07-11T00:00:00.000+0000</td><td>0</td><td>556</td><td>57.06574</td><td>0.14187840285378</td></tr><tr><td>2014-07-12T00:00:00.000+0000</td><td>0</td><td>557</td><td>56.42703</td><td>0.1416396819944185</td></tr><tr><td>2014-07-13T00:00:00.000+0000</td><td>0</td><td>558</td><td>56.00181</td><td>0.14148068347625958</td></tr><tr><td>2014-07-14T00:00:00.000+0000</td><td>0</td><td>559</td><td>64.61958</td><td>0.14469856606624873</td></tr><tr><td>2014-07-15T00:00:00.000+0000</td><td>0</td><td>560</td><td>56.82455</td><td>0.14178749506473498</td></tr><tr><td>2014-07-16T00:00:00.000+0000</td><td>0</td><td>561</td><td>59.79243</td><td>0.14289556538915957</td></tr><tr><td>2014-07-17T00:00:00.000+0000</td><td>0</td><td>562</td><td>50.19312</td><td>0.13931073127383675</td></tr><tr><td>2014-07-18T00:00:00.000+0000</td><td>0</td><td>563</td><td>67.545044</td><td>0.14579016431552017</td></tr><tr><td>2014-07-19T00:00:00.000+0000</td><td>0</td><td>564</td><td>58.189587</td><td>0.14229639158966173</td></tr><tr><td>2014-07-20T00:00:00.000+0000</td><td>0</td><td>565</td><td>56.969875</td><td>0.14184071029254097</td></tr><tr><td>2014-07-21T00:00:00.000+0000</td><td>0</td><td>566</td><td>61.536636</td><td>0.14354584276160265</td></tr><tr><td>2014-07-22T00:00:00.000+0000</td><td>0</td><td>567</td><td>55.65709</td><td>0.14135006200140152</td></tr><tr><td>2014-07-23T00:00:00.000+0000</td><td>0</td><td>568</td><td>60.859703</td><td>0.14329263784477475</td></tr><tr><td>2014-07-24T00:00:00.000+0000</td><td>0</td><td>569</td><td>57.61819</td><td>0.14208196539238954</td></tr><tr><td>2014-07-25T00:00:00.000+0000</td><td>0</td><td>570</td><td>50.744118</td><td>0.1395148037360466</td></tr><tr><td>2014-07-26T00:00:00.000+0000</td><td>0</td><td>571</td><td>54.51896</td><td>0.1409242135415395</td></tr><tr><td>2014-07-27T00:00:00.000+0000</td><td>0</td><td>572</td><td>57.780926</td><td>0.14214210311818112</td></tr><tr><td>2014-07-28T00:00:00.000+0000</td><td>0</td><td>573</td><td>57.978363</td><td>0.14221562061655266</td></tr><tr><td>2014-07-29T00:00:00.000+0000</td><td>0</td><td>574</td><td>62.219456</td><td>0.14379914036850283</td></tr><tr><td>2014-07-30T00:00:00.000+0000</td><td>0</td><td>575</td><td>59.136623</td><td>0.1426477229903069</td></tr><tr><td>2014-07-31T00:00:00.000+0000</td><td>0</td><td>576</td><td>49.855186</td><td>0.13918159133134195</td></tr><tr><td>2014-08-01T00:00:00.000+0000</td><td>0</td><td>577</td><td>67.67945</td><td>0.1458374078271492</td></tr><tr><td>2014-08-02T00:00:00.000+0000</td><td>0</td><td>578</td><td>50.654728</td><td>0.13947973908922334</td></tr><tr><td>2014-08-03T00:00:00.000+0000</td><td>0</td><td>579</td><td>66.55932</td><td>0.14541870123881956</td></tr><tr><td>2014-08-04T00:00:00.000+0000</td><td>0</td><td>580</td><td>56.126156</td><td>0.14152248631690112</td></tr><tr><td>2014-08-05T00:00:00.000+0000</td><td>0</td><td>581</td><td>65.922516</td><td>0.1451804820993427</td></tr><tr><td>2014-08-06T00:00:00.000+0000</td><td>0</td><td>582</td><td>57.022152</td><td>0.14185665264705638</td></tr><tr><td>2014-08-07T00:00:00.000+0000</td><td>0</td><td>583</td><td>56.443356</td><td>0.1416403050404587</td></tr><tr><td>2014-08-08T00:00:00.000+0000</td><td>0</td><td>584</td><td>64.05487</td><td>0.1444824249613848</td></tr><tr><td>2014-08-09T00:00:00.000+0000</td><td>0</td><td>585</td><td>53.898827</td><td>0.1406896930998909</td></tr><tr><td>2014-08-10T00:00:00.000+0000</td><td>0</td><td>586</td><td>57.350025</td><td>0.1419782465996576</td></tr><tr><td>2014-08-11T00:00:00.000+0000</td><td>0</td><td>587</td><td>62.250828</td><td>0.14380811857112405</td></tr><tr><td>2014-08-12T00:00:00.000+0000</td><td>0</td><td>588</td><td>57.400654</td><td>0.14199673154699835</td></tr><tr><td>2014-08-13T00:00:00.000+0000</td><td>0</td><td>589</td><td>56.495247</td><td>0.14165841937091223</td></tr><tr><td>2014-08-14T00:00:00.000+0000</td><td>0</td><td>590</td><td>61.20817</td><td>0.14341813311801402</td></tr><tr><td>2014-08-15T00:00:00.000+0000</td><td>0</td><td>591</td><td>60.930992</td><td>0.14331441673364206</td></tr><tr><td>2014-08-16T00:00:00.000+0000</td><td>0</td><td>592</td><td>51.759174</td><td>0.13988921960870365</td></tr><tr><td>2014-08-17T00:00:00.000+0000</td><td>0</td><td>593</td><td>60.57404</td><td>0.14318070059913188</td></tr><tr><td>2014-08-18T00:00:00.000+0000</td><td>0</td><td>594</td><td>47.409683</td><td>0.13826458956819127</td></tr><tr><td>2014-08-19T00:00:00.000+0000</td><td>0</td><td>595</td><td>68.819954</td><td>0.1462595106266262</td></tr><tr><td>2014-08-20T00:00:00.000+0000</td><td>0</td><td>596</td><td>53.53901</td><td>0.14055301237619883</td></tr><tr><td>2014-08-21T00:00:00.000+0000</td><td>0</td><td>597</td><td>58.3849</td><td>0.14236237861905612</td></tr><tr><td>2014-08-22T00:00:00.000+0000</td><td>0</td><td>598</td><td>59.03834</td><td>0.14260617984734833</td></tr><tr><td>2014-08-23T00:00:00.000+0000</td><td>0</td><td>599</td><td>51.83553</td><td>0.13991625874853578</td></tr><tr><td>2014-08-24T00:00:00.000+0000</td><td>0</td><td>600</td><td>53.678196</td><td>0.1406041461096827</td></tr><tr><td>2014-08-25T00:00:00.000+0000</td><td>0</td><td>601</td><td>54.822384</td><td>0.14103120402172983</td></tr><tr><td>2014-08-26T00:00:00.000+0000</td><td>0</td><td>602</td><td>59.554234</td><td>0.14279798473094557</td></tr><tr><td>2014-08-27T00:00:00.000+0000</td><td>0</td><td>603</td><td>61.222363</td><td>0.14342069535664387</td></tr><tr><td>2014-08-28T00:00:00.000+0000</td><td>0</td><td>604</td><td>57.861553</td><td>0.14216547440472455</td></tr><tr><td>2014-08-29T00:00:00.000+0000</td><td>0</td><td>605</td><td>61.19885</td><td>0.1434114936529775</td></tr><tr><td>2014-08-30T00:00:00.000+0000</td><td>0</td><td>606</td><td>55.613697</td><td>0.14132564752978102</td></tr><tr><td>2014-08-31T00:00:00.000+0000</td><td>0</td><td>607</td><td>54.020363</td><td>0.14073044608141574</td></tr><tr><td>2014-09-01T00:00:00.000+0000</td><td>0</td><td>608</td><td>53.86196</td><td>0.14067108446409504</td></tr><tr><td>2014-09-02T00:00:00.000+0000</td><td>0</td><td>609</td><td>65.1591</td><td>0.14488950985786958</td></tr><tr><td>2014-09-03T00:00:00.000+0000</td><td>0</td><td>610</td><td>57.208664</td><td>0.14192040600621286</td></tr><tr><td>2014-09-04T00:00:00.000+0000</td><td>0</td><td>611</td><td>61.16253</td><td>0.14339666776332974</td></tr><tr><td>2014-09-05T00:00:00.000+0000</td><td>0</td><td>612</td><td>52.761177</td><td>0.14025918189399222</td></tr><tr><td>2014-09-06T00:00:00.000+0000</td><td>0</td><td>613</td><td>51.94021</td><td>0.13995240110399593</td></tr><tr><td>2014-09-07T00:00:00.000+0000</td><td>0</td><td>614</td><td>60.359077</td><td>0.14309600722985605</td></tr><tr><td>2014-09-08T00:00:00.000+0000</td><td>0</td><td>615</td><td>60.562443</td><td>0.14317173840674502</td></tr><tr><td>2014-09-09T00:00:00.000+0000</td><td>0</td><td>616</td><td>69.531425</td><td>0.14652077076511613</td></tr><tr><td>2014-09-10T00:00:00.000+0000</td><td>0</td><td>617</td><td>57.743603</td><td>0.1421186918403658</td></tr><tr><td>2014-09-11T00:00:00.000+0000</td><td>0</td><td>618</td><td>63.55005</td><td>0.1442867537752479</td></tr><tr><td>2014-09-12T00:00:00.000+0000</td><td>0</td><td>619</td><td>46.772034</td><td>0.13802121195544215</td></tr><tr><td>2014-09-13T00:00:00.000+0000</td><td>0</td><td>620</td><td>63.837452</td><td>0.1443936562334633</td></tr><tr><td>2014-09-14T00:00:00.000+0000</td><td>0</td><td>621</td><td>58.877117</td><td>0.14254113239580687</td></tr><tr><td>2014-09-15T00:00:00.000+0000</td><td>0</td><td>622</td><td>60.499714</td><td>0.14314684014712667</td></tr><tr><td>2014-09-16T00:00:00.000+0000</td><td>0</td><td>623</td><td>50.226173</td><td>0.13931023215177446</td></tr><tr><td>2014-09-17T00:00:00.000+0000</td><td>0</td><td>624</td><td>57.71367</td><td>0.14210604003777094</td></tr><tr><td>2014-09-18T00:00:00.000+0000</td><td>0</td><td>625</td><td>62.26947</td><td>0.14380707990813207</td></tr><tr><td>2014-09-19T00:00:00.000+0000</td><td>0</td><td>626</td><td>59.216316</td><td>0.14266674516755887</td></tr><tr><td>2014-09-20T00:00:00.000+0000</td><td>0</td><td>627</td><td>57.465</td><td>0.14201254932915403</td></tr><tr><td>2014-09-21T00:00:00.000+0000</td><td>0</td><td>628</td><td>53.260082</td><td>0.14044211708059184</td></tr><tr><td>2014-09-22T00:00:00.000+0000</td><td>0</td><td>629</td><td>56.87174</td><td>0.14179058947320233</td></tr><tr><td>2014-09-23T00:00:00.000+0000</td><td>0</td><td>630</td><td>51.55541</td><td>0.13980512811520812</td></tr><tr><td>2014-09-24T00:00:00.000+0000</td><td>0</td><td>631</td><td>52.087048</td><td>0.14000344494513356</td></tr><tr><td>2014-09-25T00:00:00.000+0000</td><td>0</td><td>632</td><td>59.210228</td><td>0.14266320846854863</td></tr><tr><td>2014-09-26T00:00:00.000+0000</td><td>0</td><td>633</td><td>58.878876</td><td>0.14253926270925632</td></tr><tr><td>2014-09-27T00:00:00.000+0000</td><td>0</td><td>634</td><td>66.33983</td><td>0.14532515889954856</td></tr><tr><td>2014-09-28T00:00:00.000+0000</td><td>0</td><td>635</td><td>50.121494</td><td>0.13926861596715845</td></tr><tr><td>2014-09-29T00:00:00.000+0000</td><td>0</td><td>636</td><td>60.10199</td><td>0.14299537253598166</td></tr><tr><td>2014-09-30T00:00:00.000+0000</td><td>0</td><td>637</td><td>61.16208</td><td>0.14339102584275493</td></tr><tr><td>2014-10-01T00:00:00.000+0000</td><td>0</td><td>638</td><td>51.079216</td><td>0.1396256216573734</td></tr><tr><td>2014-10-02T00:00:00.000+0000</td><td>0</td><td>639</td><td>51.56157</td><td>0.13980553390142664</td></tr><tr><td>2014-10-03T00:00:00.000+0000</td><td>0</td><td>640</td><td>62.469517</td><td>0.14387862432046358</td></tr><tr><td>2014-10-04T00:00:00.000+0000</td><td>0</td><td>641</td><td>49.613697</td><td>0.13907772856118925</td></tr><tr><td>2014-10-05T00:00:00.000+0000</td><td>0</td><td>642</td><td>52.850616</td><td>0.14028626484751844</td></tr><tr><td>2014-10-06T00:00:00.000+0000</td><td>0</td><td>643</td><td>56.367287</td><td>0.14159926710172202</td></tr><tr><td>2014-10-07T00:00:00.000+0000</td><td>0</td><td>644</td><td>51.7327</td><td>0.13986838589575162</td></tr><tr><td>2014-10-08T00:00:00.000+0000</td><td>0</td><td>645</td><td>56.308907</td><td>0.1415770454356043</td></tr><tr><td>2014-10-09T00:00:00.000+0000</td><td>0</td><td>646</td><td>55.67252</td><td>0.14133919209890503</td></tr><tr><td>2014-10-10T00:00:00.000+0000</td><td>0</td><td>647</td><td>55.754234</td><td>0.14136949585756922</td></tr><tr><td>2014-10-11T00:00:00.000+0000</td><td>0</td><td>648</td><td>44.501606</td><td>0.137167271931944</td></tr><tr><td>2014-10-12T00:00:00.000+0000</td><td>0</td><td>649</td><td>60.08944</td><td>0.14298794900472264</td></tr><tr><td>2014-10-13T00:00:00.000+0000</td><td>0</td><td>650</td><td>58.2651</td><td>0.142306483894851</td></tr><tr><td>2014-10-14T00:00:00.000+0000</td><td>0</td><td>651</td><td>59.32101</td><td>0.1427005773702365</td></tr><tr><td>2014-10-15T00:00:00.000+0000</td><td>0</td><td>652</td><td>59.971127</td><td>0.14294313643143272</td></tr><tr><td>2014-10-16T00:00:00.000+0000</td><td>0</td><td>653</td><td>59.116077</td><td>0.14262362912671644</td></tr><tr><td>2014-10-17T00:00:00.000+0000</td><td>0</td><td>654</td><td>45.79545</td><td>0.13764916188332693</td></tr><tr><td>2014-10-18T00:00:00.000+0000</td><td>0</td><td>655</td><td>57.14367</td><td>0.14188666137964237</td></tr><tr><td>2014-10-19T00:00:00.000+0000</td><td>0</td><td>656</td><td>62.269436</td><td>0.1438005405989912</td></tr><tr><td>2014-10-20T00:00:00.000+0000</td><td>0</td><td>657</td><td>58.601643</td><td>0.14243068414835064</td></tr><tr><td>2014-10-21T00:00:00.000+0000</td><td>0</td><td>658</td><td>55.16805</td><td>0.14114828366868817</td></tr><tr><td>2014-10-22T00:00:00.000+0000</td><td>0</td><td>659</td><td>62.00036</td><td>0.14369942879637926</td></tr><tr><td>2014-10-23T00:00:00.000+0000</td><td>0</td><td>660</td><td>57.439007</td><td>0.14199589520957095</td></tr><tr><td>2014-10-24T00:00:00.000+0000</td><td>0</td><td>661</td><td>63.250744</td><td>0.14416593293087754</td></tr><tr><td>2014-10-25T00:00:00.000+0000</td><td>0</td><td>662</td><td>61.44035</td><td>0.14348967580598646</td></tr><tr><td>2014-10-26T00:00:00.000+0000</td><td>0</td><td>663</td><td>68.21341</td><td>0.1460186955445315</td></tr><tr><td>2014-10-27T00:00:00.000+0000</td><td>0</td><td>664</td><td>49.8601</td><td>0.1391648992855413</td></tr><tr><td>2014-10-28T00:00:00.000+0000</td><td>0</td><td>665</td><td>52.58675</td><td>0.14018288827894423</td></tr><tr><td>2014-10-29T00:00:00.000+0000</td><td>0</td><td>666</td><td>61.62367</td><td>0.14355728962104583</td></tr><tr><td>2014-10-30T00:00:00.000+0000</td><td>0</td><td>667</td><td>60.680923</td><td>0.14320503440420762</td></tr><tr><td>2014-10-31T00:00:00.000+0000</td><td>0</td><td>668</td><td>60.968643</td><td>0.14331226562810834</td></tr><tr><td>2014-11-01T00:00:00.000+0000</td><td>0</td><td>669</td><td>50.015896</td><td>0.13922202477559337</td></tr><tr><td>2014-11-02T00:00:00.000+0000</td><td>0</td><td>670</td><td>60.22721</td><td>0.14303497520524894</td></tr><tr><td>2014-11-03T00:00:00.000+0000</td><td>0</td><td>671</td><td>66.0956</td><td>0.14522616680428013</td></tr><tr><td>2014-11-04T00:00:00.000+0000</td><td>0</td><td>672</td><td>55.287273</td><td>0.1411898576561863</td></tr><tr><td>2014-11-05T00:00:00.000+0000</td><td>0</td><td>673</td><td>58.99098</td><td>0.14257270331946986</td></tr><tr><td>2014-11-06T00:00:00.000+0000</td><td>0</td><td>674</td><td>52.155697</td><td>0.14002002743973174</td></tr><tr><td>2014-11-07T00:00:00.000+0000</td><td>0</td><td>675</td><td>54.28715</td><td>0.1408157554176641</td></tr><tr><td>2014-11-08T00:00:00.000+0000</td><td>0</td><td>676</td><td>58.800594</td><td>0.14250097760060074</td></tr><tr><td>2014-11-09T00:00:00.000+0000</td><td>0</td><td>677</td><td>63.935654</td><td>0.14441832691059853</td></tr><tr><td>2014-11-10T00:00:00.000+0000</td><td>0</td><td>678</td><td>68.36996</td><td>0.1460739963428769</td></tr><tr><td>2014-11-11T00:00:00.000+0000</td><td>0</td><td>679</td><td>58.87532</td><td>0.14252825060497923</td></tr><tr><td>2014-11-12T00:00:00.000+0000</td><td>0</td><td>680</td><td>66.20376</td><td>0.14526466239093494</td></tr><tr><td>2014-11-13T00:00:00.000+0000</td><td>0</td><td>681</td><td>52.35649</td><td>0.14009353530988403</td></tr><tr><td>2014-11-14T00:00:00.000+0000</td><td>0</td><td>682</td><td>49.221157</td><td>0.13892251248932286</td></tr><tr><td>2014-11-15T00:00:00.000+0000</td><td>0</td><td>683</td><td>52.227177</td><td>0.14004482500024512</td></tr><tr><td>2014-11-16T00:00:00.000+0000</td><td>0</td><td>684</td><td>64.32932</td><td>0.14456385910476657</td></tr><tr><td>2014-11-17T00:00:00.000+0000</td><td>0</td><td>685</td><td>57.856663</td><td>0.14214659510803343</td></tr><tr><td>2014-11-18T00:00:00.000+0000</td><td>0</td><td>686</td><td>57.543495</td><td>0.14202943995716627</td></tr><tr><td>2014-11-19T00:00:00.000+0000</td><td>0</td><td>687</td><td>58.955334</td><td>0.14255644531182565</td></tr><tr><td>2014-11-20T00:00:00.000+0000</td><td>0</td><td>688</td><td>54.924988</td><td>0.141051202619244</td></tr><tr><td>2014-11-21T00:00:00.000+0000</td><td>0</td><td>689</td><td>48.957603</td><td>0.13882262124028955</td></tr><tr><td>2014-11-22T00:00:00.000+0000</td><td>0</td><td>690</td><td>67.408585</td><td>0.145712469424405</td></tr><tr><td>2014-11-23T00:00:00.000+0000</td><td>0</td><td>691</td><td>60.98637</td><td>0.14331404306262338</td></tr><tr><td>2014-11-24T00:00:00.000+0000</td><td>0</td><td>692</td><td>58.46855</td><td>0.14237361602780663</td></tr><tr><td>2014-11-25T00:00:00.000+0000</td><td>0</td><td>693</td><td>61.186153</td><td>0.14338822609878785</td></tr><tr><td>2014-11-26T00:00:00.000+0000</td><td>0</td><td>694</td><td>57.169487</td><td>0.14188809167593824</td></tr><tr><td>2014-11-27T00:00:00.000+0000</td><td>0</td><td>695</td><td>60.04113</td><td>0.14296022462479133</td></tr><tr><td>2014-11-28T00:00:00.000+0000</td><td>0</td><td>696</td><td>50.084766</td><td>0.13924205840164725</td></tr><tr><td>2014-11-29T00:00:00.000+0000</td><td>0</td><td>697</td><td>56.16741</td><td>0.1415132600915982</td></tr><tr><td>2014-11-30T00:00:00.000+0000</td><td>0</td><td>698</td><td>55.22592</td><td>0.1411614735364281</td></tr><tr><td>2014-12-01T00:00:00.000+0000</td><td>0</td><td>699</td><td>55.884315</td><td>0.14140712377032885</td></tr><tr><td>2014-12-02T00:00:00.000+0000</td><td>0</td><td>700</td><td>51.665966</td><td>0.1398316758447654</td></tr><tr><td>2014-12-03T00:00:00.000+0000</td><td>0</td><td>701</td><td>48.64638</td><td>0.1387038767354364</td></tr><tr><td>2014-12-04T00:00:00.000+0000</td><td>0</td><td>702</td><td>60.970592</td><td>0.1433058354651419</td></tr><tr><td>2014-12-05T00:00:00.000+0000</td><td>0</td><td>703</td><td>62.76369</td><td>0.1439752128271539</td></tr><tr><td>2014-12-06T00:00:00.000+0000</td><td>0</td><td>704</td><td>56.0778</td><td>0.14147832335545962</td></tr><tr><td>2014-12-07T00:00:00.000+0000</td><td>0</td><td>705</td><td>57.54252</td><td>0.14202507517833576</td></tr><tr><td>2014-12-08T00:00:00.000+0000</td><td>0</td><td>706</td><td>61.545906</td><td>0.14351982984054493</td></tr><tr><td>2014-12-09T00:00:00.000+0000</td><td>0</td><td>707</td><td>57.248005</td><td>0.1419146753179398</td></tr><tr><td>2014-12-10T00:00:00.000+0000</td><td>0</td><td>708</td><td>63.97803</td><td>0.1444276252319319</td></tr><tr><td>2014-12-11T00:00:00.000+0000</td><td>0</td><td>709</td><td>56.579655</td><td>0.14166467553410048</td></tr><tr><td>2014-12-12T00:00:00.000+0000</td><td>0</td><td>710</td><td>48.35586</td><td>0.13859349460702355</td></tr><tr><td>2014-12-13T00:00:00.000+0000</td><td>0</td><td>711</td><td>55.85238</td><td>0.14139267144391693</td></tr><tr><td>2014-12-14T00:00:00.000+0000</td><td>0</td><td>712</td><td>56.951096</td><td>0.14180274927364234</td></tr><tr><td>2014-12-15T00:00:00.000+0000</td><td>0</td><td>713</td><td>45.354538</td><td>0.1374720935324095</td></tr><tr><td>2014-12-16T00:00:00.000+0000</td><td>0</td><td>714</td><td>52.684406</td><td>0.14020903950719663</td></tr><tr><td>2014-12-17T00:00:00.000+0000</td><td>0</td><td>715</td><td>60.107296</td><td>0.14298072200106218</td></tr><tr><td>2014-12-18T00:00:00.000+0000</td><td>0</td><td>716</td><td>58.768963</td><td>0.14248074434153576</td></tr><tr><td>2014-12-19T00:00:00.000+0000</td><td>0</td><td>717</td><td>57.108734</td><td>0.1418605627989093</td></tr><tr><td>2014-12-20T00:00:00.000+0000</td><td>0</td><td>718</td><td>59.183517</td><td>0.14263512835209574</td></tr><tr><td>2014-12-21T00:00:00.000+0000</td><td>0</td><td>719</td><td>57.53576</td><td>0.14201960351157578</td></tr><tr><td>2014-12-22T00:00:00.000+0000</td><td>0</td><td>720</td><td>62.14822</td><td>0.14374180153317218</td></tr><tr><td>2014-12-23T00:00:00.000+0000</td><td>0</td><td>721</td><td>58.525913</td><td>0.1423889308628675</td></tr><tr><td>2014-12-24T00:00:00.000+0000</td><td>0</td><td>722</td><td>54.013523</td><td>0.1407036807791296</td></tr><tr><td>2014-12-25T00:00:00.000+0000</td><td>0</td><td>723</td><td>55.205143</td><td>0.1411484509683234</td></tr><tr><td>2014-12-26T00:00:00.000+0000</td><td>0</td><td>724</td><td>59.135643</td><td>0.14261598764119357</td></tr><tr><td>2014-12-27T00:00:00.000+0000</td><td>0</td><td>725</td><td>63.301304</td><td>0.14417133925993658</td></tr><tr><td>2014-12-28T00:00:00.000+0000</td><td>0</td><td>726</td><td>53.093304</td><td>0.14035920566008514</td></tr><tr><td>2014-12-29T00:00:00.000+0000</td><td>0</td><td>727</td><td>57.419567</td><td>0.14197453030280685</td></tr><tr><td>2014-12-30T00:00:00.000+0000</td><td>0</td><td>728</td><td>57.636467</td><td>0.14205531561829293</td></tr><tr><td>2014-12-31T00:00:00.000+0000</td><td>0</td><td>729</td><td>56.475742</td><td>0.14162166141957325</td></tr><tr><td>2015-01-01T00:00:00.000+0000</td><td>0</td><td>730</td><td>54.81021</td><td>0.1409994998170116</td></tr><tr><td>2015-01-02T00:00:00.000+0000</td><td>0</td><td>731</td><td>56.904408</td><td>0.14178131466876645</td></tr><tr><td>2015-01-03T00:00:00.000+0000</td><td>0</td><td>732</td><td>54.413044</td><td>0.14085076656607226</td></tr><tr><td>2015-01-04T00:00:00.000+0000</td><td>0</td><td>733</td><td>61.46449</td><td>0.1434837423002206</td></tr><tr><td>2015-01-05T00:00:00.000+0000</td><td>0</td><td>734</td><td>62.705357</td><td>0.14394690283025108</td></tr><tr><td>2015-01-06T00:00:00.000+0000</td><td>0</td><td>735</td><td>51.535126</td><td>0.13977544818131618</td></tr><tr><td>2015-01-07T00:00:00.000+0000</td><td>0</td><td>736</td><td>62.336895</td><td>0.14380888896852909</td></tr><tr><td>2015-01-08T00:00:00.000+0000</td><td>0</td><td>737</td><td>62.68322</td><td>0.1439380048404758</td></tr><tr><td>2015-01-09T00:00:00.000+0000</td><td>0</td><td>738</td><td>55.420017</td><td>0.14122553242595562</td></tr><tr><td>2015-01-10T00:00:00.000+0000</td><td>0</td><td>739</td><td>64.98117</td><td>0.14479569616848179</td></tr><tr><td>2015-01-11T00:00:00.000+0000</td><td>0</td><td>740</td><td>57.71507</td><td>0.14208214113126322</td></tr><tr><td>2015-01-12T00:00:00.000+0000</td><td>0</td><td>741</td><td>61.628777</td><td>0.1435434071395042</td></tr><tr><td>2015-01-13T00:00:00.000+0000</td><td>0</td><td>742</td><td>58.908554</td><td>0.14252739737080258</td></tr><tr><td>2015-01-14T00:00:00.000+0000</td><td>0</td><td>743</td><td>61.396973</td><td>0.14345642469297457</td></tr><tr><td>2015-01-15T00:00:00.000+0000</td><td>0</td><td>744</td><td>53.739796</td><td>0.14059683240076803</td></tr><tr><td>2015-01-16T00:00:00.000+0000</td><td>0</td><td>745</td><td>57.02993</td><td>0.14182524051162643</td></tr><tr><td>2015-01-17T00:00:00.000+0000</td><td>0</td><td>746</td><td>60.795048</td><td>0.14323101925756912</td></tr><tr><td>2015-01-18T00:00:00.000+0000</td><td>0</td><td>747</td><td>52.437084</td><td>0.14010973569161475</td></tr><tr><td>2015-01-19T00:00:00.000+0000</td><td>0</td><td>748</td><td>63.79591</td><td>0.14435119530780055</td></tr><tr><td>2015-01-20T00:00:00.000+0000</td><td>0</td><td>749</td><td>56.108498</td><td>0.1414803124004529</td></tr><tr><td>2015-01-21T00:00:00.000+0000</td><td>0</td><td>750</td><td>54.850456</td><td>0.14101031769165695</td></tr><tr><td>2015-01-22T00:00:00.000+0000</td><td>0</td><td>751</td><td>55.716423</td><td>0.14133348086175346</td></tr><tr><td>2015-01-23T00:00:00.000+0000</td><td>0</td><td>752</td><td>55.402447</td><td>0.1412160237161336</td></tr><tr><td>2015-01-24T00:00:00.000+0000</td><td>0</td><td>753</td><td>52.193348</td><td>0.14001745527041679</td></tr><tr><td>2015-01-25T00:00:00.000+0000</td><td>0</td><td>754</td><td>50.537792</td><td>0.13939901874463964</td></tr><tr><td>2015-01-26T00:00:00.000+0000</td><td>0</td><td>755</td><td>53.78949</td><td>0.1406130735577234</td></tr><tr><td>2015-01-27T00:00:00.000+0000</td><td>0</td><td>756</td><td>55.134758</td><td>0.14111521990092338</td></tr><tr><td>2015-01-28T00:00:00.000+0000</td><td>0</td><td>757</td><td>62.62815</td><td>0.1439132300694089</td></tr><tr><td>2015-01-29T00:00:00.000+0000</td><td>0</td><td>758</td><td>59.623352</td><td>0.14279095233584158</td></tr><tr><td>2015-01-30T00:00:00.000+0000</td><td>0</td><td>759</td><td>50.85291</td><td>0.13951563862547744</td></tr><tr><td>2015-01-31T00:00:00.000+0000</td><td>0</td><td>760</td><td>61.161293</td><td>0.14336483697247854</td></tr><tr><td>2015-02-01T00:00:00.000+0000</td><td>0</td><td>761</td><td>58.825325</td><td>0.14249231744641666</td></tr><tr><td>2015-02-02T00:00:00.000+0000</td><td>0</td><td>762</td><td>63.11604</td><td>0.14409436714055146</td></tr><tr><td>2015-02-03T00:00:00.000+0000</td><td>0</td><td>763</td><td>58.619225</td><td>0.14241493330481014</td></tr><tr><td>2015-02-04T00:00:00.000+0000</td><td>0</td><td>764</td><td>54.82718</td><td>0.1409986779245234</td></tr><tr><td>2015-02-05T00:00:00.000+0000</td><td>0</td><td>765</td><td>58.542282</td><td>0.1423857800044158</td></tr><tr><td>2015-02-06T00:00:00.000+0000</td><td>0</td><td>766</td><td>55.987495</td><td>0.14143154810569133</td></tr><tr><td>2015-02-07T00:00:00.000+0000</td><td>0</td><td>767</td><td>61.0247</td><td>0.14331235605061227</td></tr><tr><td>2015-02-08T00:00:00.000+0000</td><td>0</td><td>768</td><td>52.820606</td><td>0.14024853125987</td></tr><tr><td>2015-02-09T00:00:00.000+0000</td><td>0</td><td>769</td><td>65.4824</td><td>0.1449765514312751</td></tr><tr><td>2016-03-01T00:00:00.000+0000</td><td>0</td><td>1155</td><td>60.89497</td><td>0.14318222516031098</td></tr><tr><td>2016-03-02T00:00:00.000+0000</td><td>0</td><td>1156</td><td>58.325134</td><td>0.1422223735950799</td></tr><tr><td>2016-03-03T00:00:00.000+0000</td><td>0</td><td>1157</td><td>56.45619</td><td>0.1415242517651925</td></tr><tr><td>2016-03-04T00:00:00.000+0000</td><td>0</td><td>1158</td><td>56.003727</td><td>0.1413550808671796</td></tr><tr><td>2016-03-05T00:00:00.000+0000</td><td>0</td><td>1159</td><td>64.95878</td><td>0.14469891093858436</td></tr><tr><td>2016-03-06T00:00:00.000+0000</td><td>0</td><td>1160</td><td>61.591927</td><td>0.14344143357304107</td></tr><tr><td>2016-03-07T00:00:00.000+0000</td><td>0</td><td>1161</td><td>56.99165</td><td>0.1417233643520037</td></tr><tr><td>2016-03-08T00:00:00.000+0000</td><td>0</td><td>1162</td><td>65.34693</td><td>0.14484322542818084</td></tr><tr><td>2016-03-09T00:00:00.000+0000</td><td>0</td><td>1163</td><td>60.529606</td><td>0.14304410480412832</td></tr><tr><td>2016-03-10T00:00:00.000+0000</td><td>0</td><td>1164</td><td>57.348804</td><td>0.141856103325749</td></tr><tr><td>2016-03-11T00:00:00.000+0000</td><td>0</td><td>1165</td><td>59.736893</td><td>0.14274766478003983</td></tr><tr><td>2016-03-12T00:00:00.000+0000</td><td>0</td><td>1166</td><td>56.738377</td><td>0.14162773320382013</td></tr><tr><td>2016-03-13T00:00:00.000+0000</td><td>0</td><td>1167</td><td>53.262558</td><td>0.14032956489435744</td></tr><tr><td>2016-03-14T00:00:00.000+0000</td><td>0</td><td>1168</td><td>58.887608</td><td>0.14242988883640714</td></tr><tr><td>2016-03-15T00:00:00.000+0000</td><td>0</td><td>1169</td><td>58.303387</td><td>0.14221151558576067</td></tr><tr><td>2016-03-16T00:00:00.000+0000</td><td>0</td><td>1170</td><td>65.396164</td><td>0.14485992581587848</td></tr><tr><td>2016-03-17T00:00:00.000+0000</td><td>0</td><td>1171</td><td>60.979576</td><td>0.1432104507143073</td></tr><tr><td>2016-03-18T00:00:00.000+0000</td><td>0</td><td>1172</td><td>52.92683</td><td>0.14020314310193027</td></tr><tr><td>2016-03-19T00:00:00.000+0000</td><td>0</td><td>1173</td><td>67.01405</td><td>0.14546345466603575</td></tr><tr><td>2016-03-20T00:00:00.000+0000</td><td>0</td><td>1174</td><td>58.345863</td><td>0.1422263247733422</td></tr><tr><td>2016-03-21T00:00:00.000+0000</td><td>0</td><td>1175</td><td>54.705463</td><td>0.14086669768269763</td></tr><tr><td>2016-03-22T00:00:00.000+0000</td><td>0</td><td>1176</td><td>58.58274</td><td>0.14231435968203154</td></tr><tr><td>2016-03-23T00:00:00.000+0000</td><td>0</td><td>1177</td><td>67.38364</td><td>0.1456006241404579</td></tr><tr><td>2016-03-24T00:00:00.000+0000</td><td>0</td><td>1178</td><td>55.12637</td><td>0.14102324295977856</td></tr><tr><td>2016-03-25T00:00:00.000+0000</td><td>0</td><td>1179</td><td>59.83121</td><td>0.1427799381838569</td></tr><tr><td>2016-03-26T00:00:00.000+0000</td><td>0</td><td>1180</td><td>58.540337</td><td>0.14229768277300198</td></tr><tr><td>2016-03-27T00:00:00.000+0000</td><td>0</td><td>1181</td><td>55.74581</td><td>0.14125392652414415</td></tr><tr><td>2016-03-28T00:00:00.000+0000</td><td>0</td><td>1182</td><td>58.866085</td><td>0.14241890434090682</td></tr><tr><td>2016-03-29T00:00:00.000+0000</td><td>0</td><td>1183</td><td>54.510334</td><td>0.14079214722195868</td></tr><tr><td>2016-03-30T00:00:00.000+0000</td><td>0</td><td>1184</td><td>50.105995</td><td>0.1391472462012881</td></tr><tr><td>2016-03-31T00:00:00.000+0000</td><td>0</td><td>1185</td><td>60.820374</td><td>0.14314805303666306</td></tr><tr><td>2016-04-01T00:00:00.000+0000</td><td>0</td><td>1186</td><td>55.515156</td><td>0.14116674125751139</td></tr><tr><td>2016-04-02T00:00:00.000+0000</td><td>0</td><td>1187</td><td>49.930584</td><td>0.1390811116588546</td></tr><tr><td>2016-04-03T00:00:00.000+0000</td><td>0</td><td>1188</td><td>67.20072</td><td>0.14553000334441574</td></tr><tr><td>2016-04-04T00:00:00.000+0000</td><td>0</td><td>1189</td><td>48.57679</td><td>0.13857514995454745</td></tr><tr><td>2016-04-05T00:00:00.000+0000</td><td>0</td><td>1190</td><td>52.320194</td><td>0.13997282042628084</td></tr><tr><td>2016-04-06T00:00:00.000+0000</td><td>0</td><td>1191</td><td>53.52863</td><td>0.14042386982712515</td></tr><tr><td>2016-04-07T00:00:00.000+0000</td><td>0</td><td>1192</td><td>57.75207</td><td>0.14200079840114727</td></tr><tr><td>2016-04-08T00:00:00.000+0000</td><td>0</td><td>1193</td><td>58.960117</td><td>0.1424517025026294</td></tr><tr><td>2016-04-09T00:00:00.000+0000</td><td>0</td><td>1194</td><td>59.378754</td><td>0.142607821263879</td></tr><tr><td>2016-04-10T00:00:00.000+0000</td><td>0</td><td>1195</td><td>62.099773</td><td>0.14362370769004143</td></tr><tr><td>2016-04-11T00:00:00.000+0000</td><td>0</td><td>1196</td><td>53.051544</td><td>0.14024466163113145</td></tr><tr><td>2016-04-12T00:00:00.000+0000</td><td>0</td><td>1197</td><td>48.273743</td><td>0.13846030028836542</td></tr><tr><td>2016-04-13T00:00:00.000+0000</td><td>0</td><td>1198</td><td>53.28323</td><td>0.14033075779048856</td></tr><tr><td>2016-04-14T00:00:00.000+0000</td><td>0</td><td>1199</td><td>59.688427</td><td>0.14272240837815028</td></tr><tr><td>2016-04-15T00:00:00.000+0000</td><td>0</td><td>1200</td><td>59.118668</td><td>0.14250943542046368</td></tr><tr><td>2016-04-16T00:00:00.000+0000</td><td>0</td><td>1201</td><td>56.04722</td><td>0.1413622687608624</td></tr><tr><td>2016-04-17T00:00:00.000+0000</td><td>0</td><td>1202</td><td>58.139248</td><td>0.14214327449460057</td></tr><tr><td>2016-04-18T00:00:00.000+0000</td><td>0</td><td>1203</td><td>58.860725</td><td>0.14241248174371557</td></tr><tr><td>2016-04-19T00:00:00.000+0000</td><td>0</td><td>1204</td><td>61.286648</td><td>0.14331817142422007</td></tr><tr><td>2016-04-20T00:00:00.000+0000</td><td>0</td><td>1205</td><td>45.120678</td><td>0.13728118265206737</td></tr><tr><td>2016-04-21T00:00:00.000+0000</td><td>0</td><td>1206</td><td>61.680824</td><td>0.1434649457368134</td></tr><tr><td>2016-04-22T00:00:00.000+0000</td><td>0</td><td>1207</td><td>55.519096</td><td>0.14116379159997622</td></tr><tr><td>2016-04-23T00:00:00.000+0000</td><td>0</td><td>1208</td><td>60.042374</td><td>0.14285268615306596</td></tr><tr><td>2016-04-24T00:00:00.000+0000</td><td>0</td><td>1209</td><td>61.296776</td><td>0.14332090082169355</td></tr><tr><td>2016-04-25T00:00:00.000+0000</td><td>0</td><td>1210</td><td>57.737194</td><td>0.1419914532632694</td></tr><tr><td>2016-04-26T00:00:00.000+0000</td><td>0</td><td>1211</td><td>52.15833</td><td>0.13990795472192413</td></tr><tr><td>2016-04-27T00:00:00.000+0000</td><td>0</td><td>1212</td><td>63.4795</td><td>0.14413535306356312</td></tr><tr><td>2016-04-28T00:00:00.000+0000</td><td>0</td><td>1213</td><td>56.14549</td><td>0.14139643901413895</td></tr><tr><td>2016-04-29T00:00:00.000+0000</td><td>0</td><td>1214</td><td>59.61275</td><td>0.14269099109835673</td></tr><tr><td>2016-04-30T00:00:00.000+0000</td><td>0</td><td>1215</td><td>52.731274</td><td>0.1401210644806223</td></tr><tr><td>2016-05-01T00:00:00.000+0000</td><td>0</td><td>1216</td><td>56.72453</td><td>0.1416120356614014</td></tr><tr><td>2016-05-02T00:00:00.000+0000</td><td>0</td><td>1217</td><td>59.36476</td><td>0.1425977539513718</td></tr><tr><td>2016-05-03T00:00:00.000+0000</td><td>0</td><td>1218</td><td>56.709686</td><td>0.1416060718543053</td></tr><tr><td>2016-05-04T00:00:00.000+0000</td><td>0</td><td>1219</td><td>58.36634</td><td>0.14222449757332375</td></tr><tr><td>2016-05-05T00:00:00.000+0000</td><td>0</td><td>1220</td><td>64.92043</td><td>0.14467174938356775</td></tr><tr><td>2016-05-06T00:00:00.000+0000</td><td>0</td><td>1221</td><td>49.985992</td><td>0.13909464448864456</td></tr><tr><td>2016-05-07T00:00:00.000+0000</td><td>0</td><td>1222</td><td>58.965675</td><td>0.14244767257947477</td></tr><tr><td>2016-05-08T00:00:00.000+0000</td><td>0</td><td>1223</td><td>51.901897</td><td>0.13980967036156652</td></tr><tr><td>2016-05-09T00:00:00.000+0000</td><td>0</td><td>1224</td><td>54.274036</td><td>0.1406952759665128</td></tr><tr><td>2016-05-10T00:00:00.000+0000</td><td>0</td><td>1225</td><td>47.992245</td><td>0.13834928700492788</td></tr><tr><td>2016-05-11T00:00:00.000+0000</td><td>0</td><td>1226</td><td>55.293606</td><td>0.14107558766468228</td></tr><tr><td>2016-05-12T00:00:00.000+0000</td><td>0</td><td>1227</td><td>59.402058</td><td>0.14260957600367874</td></tr><tr><td>2016-05-13T00:00:00.000+0000</td><td>0</td><td>1228</td><td>57.225025</td><td>0.14179640699354404</td></tr><tr><td>2016-05-14T00:00:00.000+0000</td><td>0</td><td>1229</td><td>62.21671</td><td>0.14366021633759707</td></tr><tr><td>2016-05-15T00:00:00.000+0000</td><td>0</td><td>1230</td><td>56.02878</td><td>0.14134927871037523</td></tr><tr><td>2016-05-16T00:00:00.000+0000</td><td>0</td><td>1231</td><td>62.56042</td><td>0.1437881458927211</td></tr><tr><td>2016-05-17T00:00:00.000+0000</td><td>0</td><td>1232</td><td>53.01807</td><td>0.14022458246441405</td></tr><tr><td>2016-05-18T00:00:00.000+0000</td><td>0</td><td>1233</td><td>54.32284</td><td>0.14071160627792215</td></tr><tr><td>2016-05-19T00:00:00.000+0000</td><td>0</td><td>1234</td><td>54.270782</td><td>0.14069195554607816</td></tr><tr><td>2016-05-20T00:00:00.000+0000</td><td>0</td><td>1235</td><td>53.364346</td><td>0.1403532587540334</td></tr><tr><td>2016-05-21T00:00:00.000+0000</td><td>0</td><td>1236</td><td>55.288292</td><td>0.14107149801233038</td></tr><tr><td>2016-05-22T00:00:00.000+0000</td><td>0</td><td>1237</td><td>63.230556</td><td>0.1440371280890972</td></tr><tr><td>2016-05-23T00:00:00.000+0000</td><td>0</td><td>1238</td><td>61.37321</td><td>0.14334333817450678</td></tr><tr><td>2016-05-24T00:00:00.000+0000</td><td>0</td><td>1239</td><td>58.06224</td><td>0.14210672836147448</td></tr><tr><td>2016-05-25T00:00:00.000+0000</td><td>0</td><td>1240</td><td>56.015327</td><td>0.1413421491674466</td></tr><tr><td>2016-05-26T00:00:00.000+0000</td><td>0</td><td>1241</td><td>52.39141</td><td>0.13998867735664364</td></tr><tr><td>2016-05-27T00:00:00.000+0000</td><td>0</td><td>1242</td><td>57.922356</td><td>0.1420538602206066</td></tr><tr><td>2016-05-28T00:00:00.000+0000</td><td>0</td><td>1243</td><td>59.070385</td><td>0.14248235260772907</td></tr><tr><td>2016-05-29T00:00:00.000+0000</td><td>0</td><td>1244</td><td>51.81087</td><td>0.1397712576881422</td></tr><tr><td>2016-05-30T00:00:00.000+0000</td><td>0</td><td>1245</td><td>56.484562</td><td>0.1415163204162273</td></tr><tr><td>2016-05-31T00:00:00.000+0000</td><td>0</td><td>1246</td><td>59.463814</td><td>0.14262863718573587</td></tr><tr><td>2016-06-01T00:00:00.000+0000</td><td>0</td><td>1247</td><td>68.75576</td><td>0.14609827228820116</td></tr><tr><td>2016-06-02T00:00:00.000+0000</td><td>0</td><td>1248</td><td>64.82141</td><td>0.14462887722746734</td></tr><tr><td>2016-06-03T00:00:00.000+0000</td><td>0</td><td>1249</td><td>56.85004</td><td>0.14165195712482914</td></tr><tr><td>2016-06-04T00:00:00.000+0000</td><td>0</td><td>1250</td><td>50.712757</td><td>0.13935993120674348</td></tr><tr><td>2016-06-05T00:00:00.000+0000</td><td>0</td><td>1251</td><td>58.317978</td><td>0.14219970069681126</td></tr><tr><td>2016-06-06T00:00:00.000+0000</td><td>0</td><td>1252</td><td>52.689358</td><td>0.1400976223556571</td></tr><tr><td>2016-06-07T00:00:00.000+0000</td><td>0</td><td>1253</td><td>53.544117</td><td>0.1404166003343223</td></tr><tr><td>2016-06-08T00:00:00.000+0000</td><td>0</td><td>1254</td><td>56.405617</td><td>0.14148494552823465</td></tr><tr><td>2016-06-09T00:00:00.000+0000</td><td>0</td><td>1255</td><td>56.78354</td><td>0.14162586056308998</td></tr><tr><td>2016-06-10T00:00:00.000+0000</td><td>0</td><td>1256</td><td>48.700386</td><td>0.13860719823291212</td></tr><tr><td>2016-06-11T00:00:00.000+0000</td><td>0</td><td>1257</td><td>58.685406</td><td>0.14233564426294618</td></tr><tr><td>2016-06-12T00:00:00.000+0000</td><td>0</td><td>1258</td><td>58.40001</td><td>0.1422288594979265</td></tr><tr><td>2016-06-13T00:00:00.000+0000</td><td>0</td><td>1259</td><td>58.805206</td><td>0.14237995973316775</td></tr><tr><td>2016-06-14T00:00:00.000+0000</td><td>0</td><td>1260</td><td>59.426094</td><td>0.1426116042481602</td></tr><tr><td>2016-06-15T00:00:00.000+0000</td><td>0</td><td>1261</td><td>59.801563</td><td>0.14275160332723258</td></tr><tr><td>2016-06-16T00:00:00.000+0000</td><td>0</td><td>1262</td><td>56.957462</td><td>0.14168933423023272</td></tr><tr><td>2016-06-17T00:00:00.000+0000</td><td>0</td><td>1263</td><td>57.739037</td><td>0.14198098310828197</td></tr><tr><td>2016-06-18T00:00:00.000+0000</td><td>0</td><td>1264</td><td>57.79617</td><td>0.1420021073660669</td></tr><tr><td>2016-06-19T00:00:00.000+0000</td><td>0</td><td>1265</td><td>62.516594</td><td>0.14376462168714893</td></tr><tr><td>2016-06-20T00:00:00.000+0000</td><td>0</td><td>1266</td><td>54.468708</td><td>0.14075912889229525</td></tr><tr><td>2016-06-21T00:00:00.000+0000</td><td>0</td><td>1267</td><td>56.105362</td><td>0.14137008593919853</td></tr><tr><td>2016-06-22T00:00:00.000+0000</td><td>0</td><td>1268</td><td>63.241196</td><td>0.14403457454089058</td></tr><tr><td>2016-06-23T00:00:00.000+0000</td><td>0</td><td>1269</td><td>62.069813</td><td>0.14359694027925085</td></tr><tr><td>2016-06-24T00:00:00.000+0000</td><td>0</td><td>1270</td><td>58.889862</td><td>0.14240925646516328</td></tr><tr><td>2016-06-25T00:00:00.000+0000</td><td>0</td><td>1271</td><td>60.576363</td><td>0.1430388274999607</td></tr><tr><td>2016-06-26T00:00:00.000+0000</td><td>0</td><td>1272</td><td>59.458225</td><td>0.14262107645887856</td></tr><tr><td>2016-06-27T00:00:00.000+0000</td><td>0</td><td>1273</td><td>52.22305</td><td>0.13991906987194375</td></tr><tr><td>2016-06-28T00:00:00.000+0000</td><td>0</td><td>1274</td><td>52.847595</td><td>0.1401520804858411</td></tr><tr><td>2016-06-29T00:00:00.000+0000</td><td>0</td><td>1275</td><td>56.282307</td><td>0.14143447728126263</td></tr><tr><td>2016-06-30T00:00:00.000+0000</td><td>0</td><td>1276</td><td>50.6634</td><td>0.13933602572614795</td></tr><tr><td>2016-07-01T00:00:00.000+0000</td><td>0</td><td>1277</td><td>65.537056</td><td>0.1448900115177166</td></tr><tr><td>2016-07-02T00:00:00.000+0000</td><td>0</td><td>1278</td><td>54.973423</td><td>0.1409450757253647</td></tr><tr><td>2016-07-03T00:00:00.000+0000</td><td>0</td><td>1279</td><td>58.76926</td><td>0.1423623259983994</td></tr><tr><td>2016-07-04T00:00:00.000+0000</td><td>0</td><td>1280</td><td>55.693794</td><td>0.14121365933655944</td></tr><tr><td>2016-07-05T00:00:00.000+0000</td><td>0</td><td>1281</td><td>65.84433</td><td>0.14500391315114525</td></tr><tr><td>2016-07-06T00:00:00.000+0000</td><td>0</td><td>1282</td><td>61.984306</td><td>0.14356227311758893</td></tr><tr><td>2016-07-07T00:00:00.000+0000</td><td>0</td><td>1283</td><td>65.695076</td><td>0.144947756961448</td></tr><tr><td>2016-07-08T00:00:00.000+0000</td><td>0</td><td>1284</td><td>56.05657</td><td>0.141348286072144</td></tr><tr><td>2016-07-09T00:00:00.000+0000</td><td>0</td><td>1285</td><td>63.088005</td><td>0.14397379028517007</td></tr><tr><td>2016-07-10T00:00:00.000+0000</td><td>0</td><td>1286</td><td>56.037117</td><td>0.14134060146475888</td></tr><tr><td>2016-07-11T00:00:00.000+0000</td><td>0</td><td>1287</td><td>62.775536</td><td>0.143856685286562</td></tr><tr><td>2016-07-12T00:00:00.000+0000</td><td>0</td><td>1288</td><td>59.529926</td><td>0.1426444829173636</td></tr><tr><td>2016-07-13T00:00:00.000+0000</td><td>0</td><td>1289</td><td>52.31191</td><td>0.13994888374739883</td></tr><tr><td>2016-07-14T00:00:00.000+0000</td><td>0</td><td>1290</td><td>59.40284</td><td>0.14259660451779818</td></tr><tr><td>2016-07-15T00:00:00.000+0000</td><td>0</td><td>1291</td><td>61.274456</td><td>0.1432953024363897</td></tr><tr><td>2016-07-16T00:00:00.000+0000</td><td>0</td><td>1292</td><td>58.47851</td><td>0.14225101627221107</td></tr><tr><td>2016-07-17T00:00:00.000+0000</td><td>0</td><td>1293</td><td>54.272076</td><td>0.14068001707123579</td></tr><tr><td>2016-07-18T00:00:00.000+0000</td><td>0</td><td>1294</td><td>55.754726</td><td>0.14123346548530272</td></tr><tr><td>2016-07-19T00:00:00.000+0000</td><td>0</td><td>1295</td><td>60.668583</td><td>0.14306821210791887</td></tr><tr><td>2016-07-20T00:00:00.000+0000</td><td>0</td><td>1296</td><td>59.93105</td><td>0.14279258805957867</td></tr><tr><td>2016-07-21T00:00:00.000+0000</td><td>0</td><td>1297</td><td>62.104588</td><td>0.14360403116067993</td></tr><tr><td>2016-07-22T00:00:00.000+0000</td><td>0</td><td>1298</td><td>67.64919</td><td>0.14567431517185717</td></tr><tr><td>2016-07-23T00:00:00.000+0000</td><td>0</td><td>1299</td><td>55.2495</td><td>0.14104374872661712</td></tr><tr><td>2016-07-24T00:00:00.000+0000</td><td>0</td><td>1300</td><td>54.40641</td><td>0.14072870724053163</td></tr><tr><td>2016-07-25T00:00:00.000+0000</td><td>0</td><td>1301</td><td>61.993313</td><td>0.14356163626455004</td></tr><tr><td>2016-07-26T00:00:00.000+0000</td><td>0</td><td>1302</td><td>75.29434</td><td>0.14852836334491598</td></tr><tr><td>2016-07-27T00:00:00.000+0000</td><td>0</td><td>1303</td><td>54.3977</td><td>0.14072482350325405</td></tr><tr><td>2016-07-28T00:00:00.000+0000</td><td>0</td><td>1304</td><td>61.586536</td><td>0.14340910415727642</td></tr><tr><td>2016-07-29T00:00:00.000+0000</td><td>0</td><td>1305</td><td>62.82042</td><td>0.14386965642130597</td></tr><tr><td>2016-07-30T00:00:00.000+0000</td><td>0</td><td>1306</td><td>64.82479</td><td>0.1446179284879577</td></tr><tr><td>2016-07-31T00:00:00.000+0000</td><td>0</td><td>1307</td><td>63.900696</td><td>0.14427263766897777</td></tr><tr><td>2016-08-01T00:00:00.000+0000</td><td>0</td><td>1308</td><td>60.455044</td><td>0.14298573433359224</td></tr><tr><td>2016-08-02T00:00:00.000+0000</td><td>0</td><td>1309</td><td>65.387794</td><td>0.14482753652229396</td></tr><tr><td>2016-08-03T00:00:00.000+0000</td><td>0</td><td>1310</td><td>60.797623</td><td>0.14311324081116178</td></tr><tr><td>2016-08-04T00:00:00.000+0000</td><td>0</td><td>1311</td><td>61.625614</td><td>0.1434222230484133</td></tr><tr><td>2016-08-05T00:00:00.000+0000</td><td>0</td><td>1312</td><td>63.859425</td><td>0.1442561733056121</td></tr><tr><td>2016-08-06T00:00:00.000+0000</td><td>0</td><td>1313</td><td>55.057667</td><td>0.1409691658456021</td></tr><tr><td>2016-08-07T00:00:00.000+0000</td><td>0</td><td>1314</td><td>56.099182</td><td>0.1413578832445881</td></tr><tr><td>2016-08-08T00:00:00.000+0000</td><td>0</td><td>1315</td><td>53.47495</td><td>0.1403777182587272</td></tr><tr><td>2016-08-09T00:00:00.000+0000</td><td>0</td><td>1316</td><td>49.974937</td><td>0.13907051574774734</td></tr><tr><td>2016-08-10T00:00:00.000+0000</td><td>0</td><td>1317</td><td>65.83238</td><td>0.1449918724579632</td></tr><tr><td>2016-08-11T00:00:00.000+0000</td><td>0</td><td>1318</td><td>65.80626</td><td>0.1449819069257589</td></tr><tr><td>2016-08-12T00:00:00.000+0000</td><td>0</td><td>1319</td><td>57.990192</td><td>0.1420629812116678</td></tr><tr><td>2016-08-13T00:00:00.000+0000</td><td>0</td><td>1320</td><td>55.13621</td><td>0.1409970226504722</td></tr><tr><td>2016-08-14T00:00:00.000+0000</td><td>0</td><td>1321</td><td>60.01466</td><td>0.14281854703113284</td></tr><tr><td>2016-08-15T00:00:00.000+0000</td><td>0</td><td>1322</td><td>55.687534</td><td>0.1412024793868275</td></tr><tr><td>2016-08-16T00:00:00.000+0000</td><td>0</td><td>1323</td><td>55.175224</td><td>0.1410109594526111</td></tr><tr><td>2016-08-17T00:00:00.000+0000</td><td>0</td><td>1324</td><td>59.787724</td><td>0.14273317171924302</td></tr><tr><td>2016-08-18T00:00:00.000+0000</td><td>0</td><td>1325</td><td>53.242714</td><td>0.14028889058817148</td></tr><tr><td>2016-08-19T00:00:00.000+0000</td><td>0</td><td>1326</td><td>61.49636</td><td>0.14337079861625324</td></tr><tr><td>2016-08-20T00:00:00.000+0000</td><td>0</td><td>1327</td><td>60.154446</td><td>0.14286948334789293</td></tr><tr><td>2016-08-21T00:00:00.000+0000</td><td>0</td><td>1328</td><td>59.173008</td><td>0.1425027793915422</td></tr><tr><td>2016-08-22T00:00:00.000+0000</td><td>0</td><td>1329</td><td>61.157864</td><td>0.14324376369802969</td></tr><tr><td>2016-08-23T00:00:00.000+0000</td><td>0</td><td>1330</td><td>56.213665</td><td>0.14139726551039178</td></tr><tr><td>2016-08-24T00:00:00.000+0000</td><td>0</td><td>1331</td><td>58.14548</td><td>0.1421184435195134</td></tr><tr><td>2016-08-25T00:00:00.000+0000</td><td>0</td><td>1332</td><td>56.34743</td><td>0.14144679608811164</td></tr><tr><td>2016-08-26T00:00:00.000+0000</td><td>0</td><td>1333</td><td>54.077377</td><td>0.14059889055889851</td></tr><tr><td>2016-08-27T00:00:00.000+0000</td><td>0</td><td>1334</td><td>70.20392</td><td>0.14662073459857222</td></tr><tr><td>2016-08-28T00:00:00.000+0000</td><td>0</td><td>1335</td><td>49.753937</td><td>0.1389839884531323</td></tr><tr><td>2016-08-29T00:00:00.000+0000</td><td>0</td><td>1336</td><td>56.80805</td><td>0.14161795991526244</td></tr><tr><td>2016-08-30T00:00:00.000+0000</td><td>0</td><td>1337</td><td>56.743256</td><td>0.14159355419056693</td></tr><tr><td>2016-08-31T00:00:00.000+0000</td><td>0</td><td>1338</td><td>54.16273</td><td>0.14062971116638742</td></tr><tr><td>2016-09-01T00:00:00.000+0000</td><td>0</td><td>1339</td><td>52.91321</td><td>0.14016289879852323</td></tr><tr><td>2016-09-02T00:00:00.000+0000</td><td>0</td><td>1340</td><td>64.97318</td><td>0.1446661835917906</td></tr><tr><td>2016-09-03T00:00:00.000+0000</td><td>0</td><td>1341</td><td>59.56785</td><td>0.1426474857169566</td></tr><tr><td>2016-09-04T00:00:00.000+0000</td><td>0</td><td>1342</td><td>56.93129</td><td>0.1416627181601241</td></tr><tr><td>2016-09-05T00:00:00.000+0000</td><td>0</td><td>1343</td><td>60.38922</td><td>0.1429537859086574</td></tr><tr><td>2016-09-06T00:00:00.000+0000</td><td>0</td><td>1344</td><td>50.25783</td><td>0.13917026061361024</td></tr><tr><td>2016-09-07T00:00:00.000+0000</td><td>0</td><td>1345</td><td>56.800446</td><td>0.14161322609267085</td></tr><tr><td>2016-09-08T00:00:00.000+0000</td><td>0</td><td>1346</td><td>51.18284</td><td>0.13951526029326689</td></tr><tr><td>2016-09-09T00:00:00.000+0000</td><td>0</td><td>1347</td><td>61.26122</td><td>0.14327856962319538</td></tr><tr><td>2016-09-10T00:00:00.000+0000</td><td>0</td><td>1348</td><td>55.12723</td><td>0.1409877744761773</td></tr><tr><td>2016-09-11T00:00:00.000+0000</td><td>0</td><td>1349</td><td>53.108204</td><td>0.14023360840310342</td></tr><tr><td>2016-09-12T00:00:00.000+0000</td><td>0</td><td>1350</td><td>67.29991</td><td>0.1455329371194565</td></tr><tr><td>2016-09-13T00:00:00.000+0000</td><td>0</td><td>1351</td><td>60.082245</td><td>0.14283746900381838</td></tr><tr><td>2016-09-14T00:00:00.000+0000</td><td>0</td><td>1352</td><td>55.001118</td><td>0.14093983826123602</td></tr><tr><td>2016-09-15T00:00:00.000+0000</td><td>0</td><td>1353</td><td>57.177765</td><td>0.14175244233273093</td></tr><tr><td>2016-09-16T00:00:00.000+0000</td><td>0</td><td>1354</td><td>56.334892</td><td>0.1414374820433478</td></tr><tr><td>2016-09-17T00:00:00.000+0000</td><td>0</td><td>1355</td><td>54.330395</td><td>0.1406887419042977</td></tr><tr><td>2016-09-18T00:00:00.000+0000</td><td>0</td><td>1356</td><td>57.706276</td><td>0.14194917000596374</td></tr><tr><td>2016-09-19T00:00:00.000+0000</td><td>0</td><td>1357</td><td>49.92591</td><td>0.1390435762206016</td></tr><tr><td>2016-09-20T00:00:00.000+0000</td><td>0</td><td>1358</td><td>55.842064</td><td>0.1412526054530919</td></tr><tr><td>2016-09-21T00:00:00.000+0000</td><td>0</td><td>1359</td><td>67.51267</td><td>0.14561049259346542</td></tr><tr><td>2016-09-22T00:00:00.000+0000</td><td>0</td><td>1360</td><td>58.117058</td><td>0.14210172411873107</td></tr><tr><td>2016-09-23T00:00:00.000+0000</td><td>0</td><td>1361</td><td>55.70482</td><td>0.14120072306868092</td></tr><tr><td>2016-09-24T00:00:00.000+0000</td><td>0</td><td>1362</td><td>59.6225</td><td>0.1426634734096215</td></tr><tr><td>2016-09-25T00:00:00.000+0000</td><td>0</td><td>1363</td><td>58.56656</td><td>0.14226894747442637</td></tr><tr><td>2016-09-26T00:00:00.000+0000</td><td>0</td><td>1364</td><td>60.742516</td><td>0.14308129371077866</td></tr><tr><td>2016-09-27T00:00:00.000+0000</td><td>0</td><td>1365</td><td>55.3504</td><td>0.14106753174074704</td></tr><tr><td>2016-09-28T00:00:00.000+0000</td><td>0</td><td>1366</td><td>49.38925</td><td>0.13884127942509764</td></tr><tr><td>2016-09-29T00:00:00.000+0000</td><td>0</td><td>1367</td><td>54.989685</td><td>0.1409324110457361</td></tr><tr><td>2016-09-30T00:00:00.000+0000</td><td>0</td><td>1368</td><td>58.45209</td><td>0.14222514973693412</td></tr><tr><td>2016-10-01T00:00:00.000+0000</td><td>0</td><td>1369</td><td>58.227493</td><td>0.14214106870950197</td></tr><tr><td>2016-10-02T00:00:00.000+0000</td><td>0</td><td>1370</td><td>56.171673</td><td>0.1413731632996837</td></tr><tr><td>2016-10-03T00:00:00.000+0000</td><td>0</td><td>1371</td><td>61.612698</td><td>0.14340476776595476</td></tr><tr><td>2016-10-04T00:00:00.000+0000</td><td>0</td><td>1372</td><td>60.05024</td><td>0.14282109624932707</td></tr><tr><td>2016-10-05T00:00:00.000+0000</td><td>0</td><td>1373</td><td>50.418392</td><td>0.1392241125432222</td></tr><tr><td>2016-10-06T00:00:00.000+0000</td><td>0</td><td>1374</td><td>57.17092</td><td>0.14174546560365855</td></tr><tr><td>2016-10-07T00:00:00.000+0000</td><td>0</td><td>1375</td><td>53.838326</td><td>0.14050078027999857</td></tr><tr><td>2016-10-08T00:00:00.000+0000</td><td>0</td><td>1376</td><td>60.197052</td><td>0.14287507756540835</td></tr><tr><td>2016-10-09T00:00:00.000+0000</td><td>0</td><td>1377</td><td>57.376797</td><td>0.14182171304010252</td></tr><tr><td>2016-10-10T00:00:00.000+0000</td><td>0</td><td>1378</td><td>56.46457</td><td>0.14148085385166814</td></tr><tr><td>2016-10-11T00:00:00.000+0000</td><td>0</td><td>1379</td><td>60.051407</td><td>0.14282005842417922</td></tr><tr><td>2016-10-12T00:00:00.000+0000</td><td>0</td><td>1380</td><td>66.92453</td><td>0.14538644431535688</td></tr><tr><td>2016-10-13T00:00:00.000+0000</td><td>0</td><td>1381</td><td>54.27018</td><td>0.14066078228659754</td></tr><tr><td>2016-10-14T00:00:00.000+0000</td><td>0</td><td>1382</td><td>48.737164</td><td>0.13859440485342545</td></tr><tr><td>2016-10-15T00:00:00.000+0000</td><td>0</td><td>1383</td><td>51.73219</td><td>0.13971261194511525</td></tr><tr><td>2016-10-16T00:00:00.000+0000</td><td>0</td><td>1384</td><td>59.56049</td><td>0.1426356849783115</td></tr></tbody></table></div>"
      ]
     },
     "metadata": {},
     "output_type": "display_data"
    }
   ],
   "source": [
    "reloaded_df = spark.read.format(\"delta\").load(deltaDataPath)\n",
    "display(reloaded_df)"
   ]
  }
 ],
 "metadata": {
  "kernelspec": {
   "display_name": "Python 3",
   "language": "python",
   "name": "python3"
  },
  "language_info": {
   "codemirror_mode": {
    "name": "ipython",
    "version": 3
   },
   "file_extension": ".py",
   "mimetype": "text/x-python",
   "name": "python",
   "nbconvert_exporter": "python",
   "pygments_lexer": "ipython3",
   "version": "3.7.6"
  },
  "name": "Stream Scoring",
  "notebookId": 341510685844561
 },
 "nbformat": 4,
 "nbformat_minor": 1
}

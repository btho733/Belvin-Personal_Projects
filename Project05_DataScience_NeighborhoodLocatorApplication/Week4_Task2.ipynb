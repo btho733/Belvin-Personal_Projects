{
 "cells": [
  {
   "cell_type": "markdown",
   "metadata": {},
   "source": [
    "# Capstone - Battle of neighborhoods (Week 4)\n",
    "\n",
    "## 2.\tData Section \n",
    "\n",
    "#### 2.1 Source of data\n",
    "**Given Information :**\n",
    "\n",
    "Source address : St Patrick street, Toronto, Canada\n",
    "\n",
    "Target address : West Houston Street, Manhattan, NewYork\n",
    "\n",
    "**Neighborhood Dataset for Toronto :** \n",
    "    Get data by scraping the following Wikipedia page, https://en.wikipedia.org/wiki/List_of_postal_codes_of_Canada:_M, in order to obtain the data that is in the table of postal codes and to transform the data into a pandas dataframe. Process the dataset as described in week 3 Assignment. A few dataframes from this assignment will be used to prepare dataset for current problem\n",
    "    \n",
    "**Neighborhood Dataset for NewYork :**\n",
    "NewYork neighborhood has a total of 5 boroughs and 306 neighborhoods. In order to segement the neighborhoods and explore them, we will essentially need a dataset that contains the 5 boroughs and the neighborhoods that exist in each borough as well as the the latitude and logitude coordinates of each neighborhood.Luckily, this dataset exists for free on the web. Feel free to try to find this dataset on your own, but here is the link to the dataset: https://geo.nyu.edu/catalog/nyu_2451_34572. Alternatively, obtain 'newyork_data.json' from  https://cocl.us/new_york_dataset\n",
    "Segment and explore them as described in Week 3 Lab. A few dataframes from this Lab will be used to prepare dataset for current problem\n",
    "#### 2.2 Description of data\n",
    "\n",
    "This project uses the foursquare location data acquired for the neighborhoods of Toronto and NewYork. The final dataset used for this project is made by merging required data from Week3 Assignment data - Neighborhood datasets related to Toronto and NewYork. The logic used to merge and collate the data is described below. \n",
    "\n",
    "From the clustering of Toronto neighborhoods (Week3 Assignment) , the clustered data shows two neighborhoods nearest to the source address are clustered together.  These two neighborhoods are 1)Kensington Market, Chinatown, Grange Park and 2) Toronto Dominion Centre, Design Exchange. The data related to these neighborhoods point to the user's current interests. This can be then used in combination with NewYork neighborhoods data to solve the problem.\n",
    "\n",
    "**1)manhattan_toronto_grouped_clustering.csv**\n",
    "This data is prepared by merging the grouped_clustering dataframes of Manhattan neighborhood clustering and selected neighborhoods in toronto clustering. It is passed as input to the combined k-means clustering \n",
    "\n",
    "**2)mh_tor_data.csv**\n",
    "This contains the merged location info for selected Toronto neighborhoods and all Manhattan neighborhoods.\n",
    "\n",
    "**3)mh_tor_neighborhoods_venues_sorted.csv**\n",
    "This data will be used to identify the most favorite amenities preferred by the user.neighborhood_venues_sorted dataframe contains the 10 most common venues in each neighborhood sorted based on their popularity in that neighborhood. From the neighborhood_venues_sorted dataframe, the rows related to these two neighborhoods are selected. Thus the user's favorite amenities are identified. This is merged with neighborhood_venues_sorted dataframe from Manhattan Clustering problem. Thus the merged mh_tor_neighborhoods_venues_sorted.csv is obtained\n",
    "\n",
    "These files are stored in following csv files:\n",
    "1) manhattan_toronto_grouped_clustering.csv\n",
    "2) mh_tor_data.csv\n",
    "3) mh_tor_neighborhoods_venues_sorted.csv\n",
    "\n",
    "#### 2.3 How the data is used to solve the problem\n",
    "\n",
    "From the clustering of Toronto neighborhoods (Week3 Assignment) , the clustered data shows two neighborhoods nearest to the source address are clustered together.  These two neighborhoods are 1)Kensington Market, Chinatown, Grange Park and 2) Toronto Dominion Centre, Design Exchange. The data related to these neighborhoods point to the user's current interests. This can be then used in combination with NewYork neighborhoods data to solve the problem.\n",
    "\n",
    "The relevant data from these two neighborhoods and the Manhattan neighborhoods are merged and saved as explained in previous section. Now, this combined data will be segmented using k-means clustering. The cluster containing the two selected Toronto neighborhood will provide the Newyork neighborhoods matching with them, in terms of the amenities. From this reduced list of Newyork neighborhoods, the user can identify the neighborhood closest to his potential office. This will find the right neighborhood for him and satisfy all his conditions.\n",
    "\n"
   ]
  },
  {
   "cell_type": "code",
   "execution_count": null,
   "metadata": {},
   "outputs": [],
   "source": []
  }
 ],
 "metadata": {
  "kernelspec": {
   "display_name": "Python 3",
   "language": "python",
   "name": "python3"
  },
  "language_info": {
   "codemirror_mode": {
    "name": "ipython",
    "version": 3
   },
   "file_extension": ".py",
   "mimetype": "text/x-python",
   "name": "python",
   "nbconvert_exporter": "python",
   "pygments_lexer": "ipython3",
   "version": "3.7.6"
  }
 },
 "nbformat": 4,
 "nbformat_minor": 4
}

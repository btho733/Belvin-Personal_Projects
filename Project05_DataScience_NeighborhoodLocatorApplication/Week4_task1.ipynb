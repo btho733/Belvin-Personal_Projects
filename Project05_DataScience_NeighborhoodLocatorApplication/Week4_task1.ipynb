{
 "cells": [
  {
   "cell_type": "markdown",
   "metadata": {},
   "source": [
    "# Capstone - Battle of neighborhoods (Week 4)\n",
    "\n",
    "## 1.\tIntroduction \n",
    "\n",
    "\n",
    "#### 1.1  A description of the problem and a discussion of the background\n",
    "I am currently working in Toronto, Canada. I have been here for a while and have kept moving places frequently until I started living in my current neighborhood. I am excited that I got a new job offer in NewYork. I would be moving there in a month. I need to locate a neighborhood similar to my current one in Toronto as I like the amenities around me. Since I have moved around a lot I know that I will not be very happy to settle down in a very different neighborhood. My conditions are that I should get to walk to my new office while being able to enjoy similar amenities as I am currently enjoying in Toronto.  But, NewYork is not familiar for me as I have never travelled to US. I would like to solve this as a data science problem using the location data available from foursquare api. \n",
    "\n",
    "#### 1.2 Clear definition of business problem and potential audience\n",
    "\n",
    "The business problem is to identify a neighborhood in Newyork ,USA with facilities similar to those being enjoyed in Toronto, Canada, NZ. The addresses of source (St Patrick street, Toronto) and target city (West Houston Street, Manhattan, NewYork)are given.However, the facilities that make the neighborhoods similar need to be identified based on location data.\n",
    "\n",
    "Currently, I am solving this as a data science problem for my own purpose. But, this problem and its solution can be scaled for other people. This will be useful for people moving from one city to another city to select a favorite neighborhood in the target city. I am interested to develop an app later based on my solution. It should be able to have conditions based on my favorite amenities and desired location in target city similar to those being enjoyed in the current city.\n",
    "\n",
    "\n"
   ]
  },
  {
   "cell_type": "markdown",
   "metadata": {},
   "source": []
  }
 ],
 "metadata": {
  "kernelspec": {
   "display_name": "Python 3",
   "language": "python",
   "name": "python3"
  },
  "language_info": {
   "codemirror_mode": {
    "name": "ipython",
    "version": 3
   },
   "file_extension": ".py",
   "mimetype": "text/x-python",
   "name": "python",
   "nbconvert_exporter": "python",
   "pygments_lexer": "ipython3",
   "version": "3.7.6"
  }
 },
 "nbformat": 4,
 "nbformat_minor": 4
}
